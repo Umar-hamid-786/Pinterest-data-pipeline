{
 "cells": [
  {
   "cell_type": "code",
   "execution_count": 0,
   "metadata": {
    "application/vnd.databricks.v1+cell": {
     "cellMetadata": {
      "byteLimit": 2048000,
      "rowLimit": 10000
     },
     "inputWidgets": {},
     "nuid": "5951213c-bd45-4e50-a325-9c276f9682c9",
     "showTitle": false,
     "title": ""
    }
   },
   "outputs": [
    {
     "output_type": "display_data",
     "data": {
      "text/html": [
       "<style scoped>\n",
       "  .ansiout {\n",
       "    display: block;\n",
       "    unicode-bidi: embed;\n",
       "    white-space: pre-wrap;\n",
       "    word-wrap: break-word;\n",
       "    word-break: break-all;\n",
       "    font-family: \"Menlo\", \"Monaco\", \"Consolas\", \"Ubuntu Mono\", \"Source Code Pro\", monospace;\n",
       "    font-size: 13px;\n",
       "    color: #555;\n",
       "    margin-left: 4px;\n",
       "    line-height: 19px;\n",
       "  }\n",
       "</style>\n",
       "<div class=\"ansiout\"></div>"
      ]
     },
     "metadata": {
      "application/vnd.databricks.v1+output": {
       "addedWidgets": {},
       "arguments": {},
       "data": "<div class=\"ansiout\"></div>",
       "datasetInfos": [],
       "metadata": {},
       "removedWidgets": [],
       "type": "html"
      }
     },
     "output_type": "display_data"
    }
   ],
   "source": [
    "# Define the path to the Delta table\n",
    "delta_table_path = \"dbfs:/user/hive/warehouse/authentication_credentials\"\n",
    "# Read the Delta table to a Spark DataFrame\n",
    "aws_keys_df = spark.read.format(\"delta\").load(delta_table_path)"
   ]
  },
  {
   "cell_type": "code",
   "execution_count": 0,
   "metadata": {
    "application/vnd.databricks.v1+cell": {
     "cellMetadata": {
      "byteLimit": 2048000,
      "rowLimit": 10000
     },
     "inputWidgets": {},
     "nuid": "59d26fc6-0aee-4dca-b8b0-f17e7c9a3181",
     "showTitle": false,
     "title": ""
    }
   },
   "outputs": [
    {
     "output_type": "display_data",
     "data": {
      "text/html": [
       "<style scoped>\n",
       "  .ansiout {\n",
       "    display: block;\n",
       "    unicode-bidi: embed;\n",
       "    white-space: pre-wrap;\n",
       "    word-wrap: break-word;\n",
       "    word-break: break-all;\n",
       "    font-family: \"Menlo\", \"Monaco\", \"Consolas\", \"Ubuntu Mono\", \"Source Code Pro\", monospace;\n",
       "    font-size: 13px;\n",
       "    color: #555;\n",
       "    margin-left: 4px;\n",
       "    line-height: 19px;\n",
       "  }\n",
       "</style>\n",
       "<div class=\"ansiout\"></div>"
      ]
     },
     "metadata": {
      "application/vnd.databricks.v1+output": {
       "addedWidgets": {},
       "arguments": {},
       "data": "<div class=\"ansiout\"></div>",
       "datasetInfos": [],
       "metadata": {},
       "removedWidgets": [],
       "type": "html"
      }
     },
     "output_type": "display_data"
    }
   ],
   "source": [
    "# pyspark functions\n",
    "from pyspark.sql.functions import *\n",
    "# URL processing\n",
    "import urllib\n",
    "\n",
    "# Get the AWS access key and secret key from the spark dataframe\n",
    "ACCESS_KEY = aws_keys_df.select('Access key ID').collect()[0]['Access key ID']\n",
    "SECRET_KEY = aws_keys_df.select('Secret access key').collect()[0]['Secret access key']\n",
    "# Encode the secrete key\n",
    "ENCODED_SECRET_KEY = urllib.parse.quote(string=SECRET_KEY, safe=\"\")"
   ]
  },
  {
   "cell_type": "code",
   "execution_count": 0,
   "metadata": {
    "application/vnd.databricks.v1+cell": {
     "cellMetadata": {
      "byteLimit": 2048000,
      "implicitDf": true,
      "rowLimit": 10000
     },
     "inputWidgets": {},
     "nuid": "a98f4439-5779-4c9e-9ea5-ae9c5ec20972",
     "showTitle": false,
     "title": ""
    }
   },
   "outputs": [
    {
     "output_type": "display_data",
     "data": {
      "text/html": [
       "<style scoped>\n",
       "  .table-result-container {\n",
       "    max-height: 300px;\n",
       "    overflow: auto;\n",
       "  }\n",
       "  table, th, td {\n",
       "    border: 1px solid black;\n",
       "    border-collapse: collapse;\n",
       "  }\n",
       "  th, td {\n",
       "    padding: 5px;\n",
       "  }\n",
       "  th {\n",
       "    text-align: left;\n",
       "  }\n",
       "</style><div class='table-result-container'><table class='table-result'><thead style='background-color: white'><tr><th>key</th><th>value</th></tr></thead><tbody><tr><td>spark.databricks.delta.formatCheck.enabled</td><td>false</td></tr></tbody></table></div>"
      ]
     },
     "metadata": {
      "application/vnd.databricks.v1+output": {
       "addedWidgets": {},
       "aggData": [],
       "aggError": "",
       "aggOverflow": false,
       "aggSchema": [],
       "aggSeriesLimitReached": false,
       "aggType": "",
       "arguments": {},
       "columnCustomDisplayInfos": {},
       "data": [
        [
         "spark.databricks.delta.formatCheck.enabled",
         "false"
        ]
       ],
       "datasetInfos": [],
       "dbfsResultPath": null,
       "isJsonSchema": true,
       "metadata": {},
       "overflow": false,
       "plotOptions": {
        "customPlotOptions": {},
        "displayType": "table",
        "pivotAggregation": null,
        "pivotColumns": null,
        "xColumns": null,
        "yColumns": null
       },
       "removedWidgets": [],
       "schema": [
        {
         "metadata": "{}",
         "name": "key",
         "type": "\"string\""
        },
        {
         "metadata": "{}",
         "name": "value",
         "type": "\"string\""
        }
       ],
       "type": "table"
      }
     },
     "output_type": "display_data"
    }
   ],
   "source": [
    "%sql\n",
    "--Disable format checks during the reading of Delta tables\n",
    "SET spark.databricks.delta.formatCheck.enabled=false"
   ]
  },
  {
   "cell_type": "code",
   "execution_count": 0,
   "metadata": {
    "application/vnd.databricks.v1+cell": {
     "cellMetadata": {
      "byteLimit": 2048000,
      "rowLimit": 10000
     },
     "inputWidgets": {},
     "nuid": "436b4e28-9934-4cd1-a090-b16e56206c7d",
     "showTitle": false,
     "title": ""
    }
   },
   "outputs": [
    {
     "output_type": "display_data",
     "data": {
      "text/html": [
       "<style scoped>\n",
       "  .table-result-container {\n",
       "    max-height: 300px;\n",
       "    overflow: auto;\n",
       "  }\n",
       "  table, th, td {\n",
       "    border: 1px solid black;\n",
       "    border-collapse: collapse;\n",
       "  }\n",
       "  th, td {\n",
       "    padding: 5px;\n",
       "  }\n",
       "  th {\n",
       "    text-align: left;\n",
       "  }\n",
       "</style><div class='table-result-container'><table class='table-result'><thead style='background-color: white'><tr><th>ind</th><th>unique_id</th><th>title</th><th>description</th><th>follower_count</th><th>poster_name</th><th>tag_list</th><th>is_image_or_video</th><th>image_src</th><th>save_location</th><th>category</th></tr></thead><tbody><tr><td>10663</td><td>d5208c16-82ae-4fd1-87f0-36e5ef789412</td><td>21+ Classic Car Picture of the 1950s - Vintagetopia</td><td>There are a lot of options of places to stay so you probably only have to book the initial one so you know the best place to land from the airport</td><td>171000</td><td>vintagetopia</td><td>Old Classic Cars,Classic Trucks,Old Vintage Cars,Antique Cars,Vintage Trucks,Antique Trucks,Cadillac,Convertible,Mustang</td><td>image</td><td>https://i.pinimg.com/originals/e9/01/4d/e9014d537dd2b81c606e8466cef3904c.jpg</td><td>/data/vehicles</td><td>vehicles</td></tr><tr><td>5468</td><td>91ee49f6-0070-4270-ba19-fde88ba51c91</td><td>Budgets, Spouses & Making It Work! - Tshanina Peterson</td><td>Don't fight about budgets and money with your spouse! Here are a few tips that we've found that make it work in our marriage!</td><td>313</td><td>Annamarie Hilton</td><td>Ways To Save Money,Money Tips,Money Saving Tips,How To Make Money,Managing Money,Saving Time,College Fund,Scholarships For College,Education College</td><td>image</td><td>https://i.pinimg.com/originals/37/d5/82/37d58296bcef3471a633c76b89d8625e.jpg</td><td>/data/finance</td><td>finance</td></tr><tr><td>205</td><td>f4afd543-b9fe-44c3-8064-f2198faa1372</td><td>DIY Abstract Heart Painting and a Fun Paint Party</td><td>Use our easy step by step tutorial to create a DIY abstract heart painting on any canvas size. Lots of inspiration to help you choose colors.</td><td>410000</td><td>The Creativity Exchange</td><td>Painting & Drawing,Watercolor Paintings,Original Paintings,Owl Watercolor,Acrylic Paintings,Owl Art,Bird Art,Beginner Painting,Animal Paintings</td><td>image</td><td>https://i.pinimg.com/originals/33/85/f8/3385f82ee5e8ecdcccdf798bdcbee3d2.jpg</td><td>/data/art</td><td>art</td></tr><tr><td>7790</td><td>9cd89fb9-d1af-4e66-85ca-c9d656c918b4</td><td>50 Heart Touching Sad Quotes That Will Make You Cry</td><td>Are you looking for some heart touching sad quotes and sayings; Here we have collected for you 50 best heart touching sad quotes..</td><td>112</td><td>AnnaLee Kick</td><td>Crush Quotes For Girls,Sad Crush Quotes,Hurt Quotes,Love Me Quotes,Mood Quotes,Quotes To Live By,Life Quotes,Quotes Quotes,Sad Quotes That Make You Cry</td><td>image</td><td>https://i.pinimg.com/originals/0c/0f/40/0c0f408d96458080e0c82adb50be8e8f.jpg</td><td>/data/quotes</td><td>quotes</td></tr><tr><td>8606</td><td>71757040-bfc8-4631-9cac-22801e61d9e3</td><td>30+ Eagle Tattoos Ideas for Women</td><td>summcoco gives you inspiration for the women fashion trends you want. Thinking about a new look or lifestyle? This is your ultimate resource to get the hottest trends. 30+ Eagle… </td><td>306000</td><td>Sumcoco | Decor Ideas, Hairstyles, Nails Fashion Advice</td><td>White Bird Tattoos,Rose Tattoos,Flower Tattoos,Tattoo Black,Bird And Flower Tattoo,Tattoo Floral,Mini Tattoos,Flower Art,Girls With Sleeve Tattoos</td><td>image</td><td>https://i.pinimg.com/originals/8d/c6/ed/8dc6ed0b212393187a14c7d07a88060f.png</td><td>/data/tattoos</td><td>tattoos</td></tr><tr><td>9759</td><td>d105eb6e-0f9f-46e7-8d02-d24b62f6ae90</td><td>8 Best Greek Islands You Have To Visit - TheFab20s</td><td>Although you'd think Greek islands are fairly similar, you'd be completely wrong! Each island has it's own personality and appeal. Here are the 8 Best Greek Islands to visit, es… </td><td>42000</td><td>TheFab20s | Travel+Food+DIY+Listicles</td><td>Greek Islands To Visit,Best Greek Islands,Greece Islands,Cool Places To Visit,Places To Go,Best Places In Portugal,Copenhagen Travel,Paros Island,Santorini Island</td><td>image</td><td>https://i.pinimg.com/originals/06/1d/ce/061dce38929dec8e74844442116bea4a.jpg</td><td>/data/travel</td><td>travel</td></tr><tr><td>719</td><td>d7c53e34-9540-4f48-a31b-89b6ed1852bb</td><td>10 Art Sub Lessons that only need a Pencil</td><td>10 art sub lessons that only need a pencil. Cover lessons for art teachers. Make the perfect art sub lessson folder with this amazing resources.</td><td>25000</td><td>The Arty Teacher</td><td>Art Lessons For Kids,Art Lessons Elementary,Art For Kids,Art Sub Plans,Art Lesson Plans,Art Substitute Plans,High School Art,Middle School Art,Primary School Art</td><td>image</td><td>https://i.pinimg.com/originals/ee/a8/78/eea878911033897d981a69d9f6b2fb7c.png</td><td>/data/art</td><td>art</td></tr><tr><td>1704</td><td>5fbf9863-fb79-477c-a5b6-540c3020a55f</td><td>Christmas Trees From Pallet Wood | Holiday DIY</td><td>Christmas Trees From Pallet Wood | Holiday DIY: Deck the yard with some fun outdoor Christmas Trees! We made these merry and bright decorations from two old pallets we had lying… </td><td>3000000</td><td>Instructables</td><td>Pallet Wood Christmas Tree,Wooden Christmas Crafts,Diy Christmas Tree,Christmas Projects,Holiday Crafts,Wooden Xmas Trees,Different Christmas Trees,Pallet Tree,Christmas Kitchen</td><td>image</td><td>https://i.pinimg.com/originals/64/7b/ca/647bca35169b7c144604116c64bcba8a.png</td><td>/data/christmas</td><td>christmas</td></tr><tr><td>2482</td><td>08604f20-fa17-4b9a-9949-781717eca6cd</td><td>FORNT PORCH CHRISTMAS DECORATING IDEAS</td><td>Christmas decorating ideas for porches. Beautiful holiday decor ideas for front porches both small and large. Outdoor decorations like sleds, lanterns, Christmas trees, wreaths,… </td><td>46000</td><td>Life on Summerhill | Home, Holiday Decor & DIY Website</td><td>Diy Christmas Decorations For Home,Farmhouse Christmas Decor,Christmas Home,Christmas Holidays,Christmas Front Porches,How To Decorate For Christmas,Christmas Porch Ideas,Christmas Decorating Ideas,Large Outdoor Christmas Decorations</td><td>video</td><td>https://i.pinimg.com/videos/thumbnails/originals/40/83/f5/4083f5b4971bf235f89a4784ab87271e.0000001.jpg</td><td>/data/christmas</td><td>christmas</td></tr><tr><td>8930</td><td>a2999c28-f7b2-4577-af87-49d21d6d8a18</td><td>135 Sunflower Tattoo Ideas - [Best Rated Designs in 2021]</td><td>We have put together the Ultimative Sunflower Tattoo Collection in 2020. Check out our highest rated handpicked Sunflower designs here!</td><td>800000</td><td>Next Luxury</td><td>Sunflower Tattoo Sleeve,Sunflower Tattoo Shoulder,Sunflower Tattoo Small,Sunflower Tattoos,Sunflower Tattoo Design,Shoulder Tattoo,Sunflower Mandala Tattoo,Sunflower Tattoo Meaning,Form Tattoo</td><td>image</td><td>https://i.pinimg.com/originals/18/de/6c/18de6c81a8637e224c7d63dce1414ceb.jpg</td><td>/data/tattoos</td><td>tattoos</td></tr><tr><td>7294</td><td>9d8409ef-bea7-4133-a021-c58b9c042210</td><td>Foolproof Fall Fashion For Men You'll Love</td><td>Looking for the coolest fall fashion for men this season? Click to read this article on fall fashion for men to look sharp on LLEGANCE.</td><td>28000</td><td>LLEGANCE | Workwear Fashion Woman Advice For Driven Professionals</td><td>Fashion 90s,Autumn Fashion,Fashion Ideas,Trendy Fashion,Fashion Photo,Fashion Outfits,Fashion Trends,Urban Fashion Men,Men's Casual Fashion</td><td>image</td><td>https://i.pinimg.com/originals/4c/bf/2d/4cbf2d6e04d2502612169220553f4cef.jpg</td><td>/data/mens-fashion</td><td>mens-fashion</td></tr><tr><td>808</td><td>23f67e42-db9f-4aae-8b82-cbec64ad9f4d</td><td>Chalk Pastel Hot Chocolate Art Project</td><td>Kids will use chalk pastels and black paper to create this bold and bright hot chocolate art project! Easy to follow tutorial included.</td><td>20000</td><td>Projects with Kids</td><td>Hot Chocolate Art,Chocolate Crafts,Art Activities For Kids,Preschool Art,Preschool Winter,Christmas Activities,Winter Art Projects,Clay Art Projects,Chalk Pastel Art</td><td>image</td><td>https://i.pinimg.com/originals/5a/d3/82/5ad38202cf8acb022cb8f46ce2a78ad6.jpg</td><td>/data/art</td><td>art</td></tr><tr><td>771</td><td>a5021766-a8aa-4dc7-9857-4da6b8e3dc1a</td><td>African Sunset Shadow Tracing Art - Taming Little Monsters</td><td>Use your mini world figures to create this beautiful African sunset. Your kids will love learning about shadows, angles and distortion in this fun art and STEM activity for kids.</td><td>4000</td><td>Taming Little Monsters - Fun Activities for Kids</td><td>African Art Projects,Cool Art Projects,Projects For Kids,African Art For Kids,African Crafts Kids,Art Club Projects,Art Education Projects,Tracing Art,African Sunset</td><td>image</td><td>https://i.pinimg.com/originals/e3/aa/35/e3aa350f8f104d0e59f26d7f17ea7461.png</td><td>/data/art</td><td>art</td></tr><tr><td>4076</td><td>3a52d364-7c04-47cb-a3e5-56d9e2b77528</td><td>Phonics Activities Your Kids Will Love - The Literacy Nest</td><td>Hi everyone! As a teacher using the Orton-Gillingham approach, I am constantly looking for phonics activities that my students will find fun and engaging. Using Orton-Gillingham… </td><td>22000</td><td>The Literacy Nest</td><td>Literacy Games,Kindergarten Activities,Literacy Centers,Fun Phonics Activities,Listening Activities,Vocabulary Games,Literacy Stations,Letter Activities,Montessori Activities</td><td>image</td><td>https://i.pinimg.com/originals/58/8e/38/588e380b19942a71a86a69d9c9973d25.png</td><td>/data/education</td><td>education</td></tr><tr><td>1545</td><td>0c629541-cc5b-4b61-bd3f-613346893258</td><td>Oil Cleansing Method: What it is and why you should do it.</td><td>The oil cleansing method is a simple, natural way to have clean skin without using toxic chemicals. It will leave your face radiant and soft!</td><td>85000</td><td>Thank Your Body</td><td>Beauty Care,Diy Beauty,Beauty Hacks,Beauty Shop,Oil Cleansing Method,Goji,Korean Skincare Routine,Homemade Beauty Products,Organic Beauty</td><td>image</td><td>https://i.pinimg.com/originals/2c/1c/da/2c1cda7da86ee711536bbacfe89c75c9.jpg</td><td>/data/beauty</td><td>beauty</td></tr><tr><td>2293</td><td>1fd7d4cc-54c1-4542-9c1f-449cb4c875f4</td><td>Over 40 of the BEST Homemade Christmas Ornament Ideas</td><td>Over 40 of the BEST Homemade Christmas Ornaments...these easy Holiday crafts are so fun to make for Kids and Adults! Lots of great class party ideas!</td><td>245000</td><td>Kitchen Fun With My 3 Sons</td><td>Diy Christmas Lights,Homemade Christmas Decorations,Christmas Crafts For Gifts,Mini Christmas Tree,Christmas Ornament Crafts,Homemade Christmas Gifts,Xmas Decorations,Simple Christmas,Handmade Christmas</td><td>image</td><td>https://i.pinimg.com/originals/d0/d3/a3/d0d3a31e87296224d5ba8896904b5b88.jpg</td><td>/data/christmas</td><td>christmas</td></tr><tr><td>10509</td><td>6a5f0e7e-1389-4e54-942f-4cb69f09f140</td><td>Flying Car</td><td>null</td><td>89000</td><td>TheSuperBOO!</td><td>Electric Off Road Vehicle,Cool Illusions,Flying Vehicles,Wow Video,Art And Craft Videos,Top Luxury Cars,Chevy Muscle Cars,Street Racing Cars,Funny Videos Clean</td><td>multi-video(story page format)</td><td>https://i.pinimg.com/videos/thumbnails/originals/4a/d4/96/4ad4961606179854f1141a90f50f002c.0000001.jpg</td><td>/data/vehicles</td><td>vehicles</td></tr><tr><td>2015</td><td>72359164-4419-452c-81cb-74f30a5a26b7</td><td>16 Blissful Christmas Table Decor Ideas That You Must See</td><td>Take a look at this new collection of Christmas decor featuring 16 Blissful Christmas Table Decor Ideas That You Must See. Happy holidays!</td><td>616000</td><td>ArchitectureArtDesigns</td><td>Kids Crafts,Christmas Crafts For Kids,Homemade Christmas,Christmas Projects,Holiday Crafts,Christmas Gift Ideas,Preschool Christmas,Tree Crafts,Christmas Inspiration</td><td>image</td><td>https://i.pinimg.com/originals/5f/70/30/5f7030a35bb8a1491e915fb0ae29bcf5.jpg</td><td>/data/christmas</td><td>christmas</td></tr><tr><td>1094</td><td>6deacdcd-75ed-4dd8-8951-9b77453f38e0</td><td>9 colors lazy lipstick - 9 colors lazy lipstick4</td><td>9 colors lazy lipstick</td><td>8000</td><td>Jiew82633</td><td>Nail Inspo,Lazy,Lipstick,How To Apply,Makeup,Colors,Products,Make Up,Lipsticks</td><td>image</td><td>https://i.pinimg.com/originals/25/cf/8c/25cf8cb74b43ab95591342c2bbe4ecd8.jpg</td><td>/data/beauty</td><td>beauty</td></tr><tr><td>603</td><td>78e21a64-53b0-4745-8294-e8c456f0ccc1</td><td>How to Create Alcohol Ink Rings For Gorgeous Pieces of Art -</td><td>Learn to create alcohol ink rings for gorgeous pieces of art. Each ring sits on top of another, giving a multilayered appearance</td><td>7000</td><td>Kim Cook-Thirteen Chairs-Slates Mugs And Tees</td><td>Alcohol Ink Tiles,Alcohol Ink Glass,Alcohol Ink Crafts,Alcohol Ink Painting,Pour Painting,Zealand Tattoo,Copics,Types Of Art,Art Techniques</td><td>image</td><td>https://i.pinimg.com/originals/03/03/1f/03031fdc9775d0c06f61d68e51362379.png</td><td>/data/art</td><td>art</td></tr><tr><td>7768</td><td>ae1a61f6-d958-40fe-ba93-6a78b3a73178</td><td>16 Motivational Quotes Get You Inspired Today - Boss Babe Chronicles</td><td>motivation quotes</td><td>45000</td><td>Boss Babe Chronicles | Personal Development, Finances, Self Care</td><td>Motivacional Quotes,Motivational Quotes For Life,Uplifting Quotes,True Quotes,Words Quotes,Empowering Quotes,Boss Up Quotes,Inspirational Success Quotes,Boss Babe Quotes Work Hard</td><td>image</td><td>https://i.pinimg.com/originals/ee/b4/bc/eeb4bccdb074edb787ea61711e0c4dfd.jpg</td><td>/data/quotes</td><td>quotes</td></tr><tr><td>5630</td><td>d41e703c-c97c-4c5a-9f9c-338982ca7504</td><td>7 Insanely Useful Money Management Worksheets</td><td>Get your personal finance in order with these 8 fr…</td><td>46000</td><td>R.J. Weiss at The Ways To Wealth | Personal Finance | Debt Payoff</td><td>Ways To Save Money,Money Tips,Money Saving Tips,Money Budget,Saving Ideas,Budgeting Finances,Budgeting Tips,Planning Budget,Budget Planer</td><td>image</td><td>https://i.pinimg.com/originals/f1/4f/cc/f14fcc75ee73ff22c983bdce70c022e2.jpg</td><td>/data/finance</td><td>finance</td></tr><tr><td>8578</td><td>036ec267-658b-4dad-a097-8ef0b4f30c0d</td><td>Snake Collarbone Temporary Tattoo. Halloween Tattoos  Spooky | Etsy</td><td>Snake temporary tattoo for collarbone. Spooky 3D tattoo for Halloween Includes 2 copies, 1 for the right side and 1 for the left side Apply with water and remove anytime with ba… </td><td>0</td><td>Livitrevisani</td><td>Finger Tattoo Designs,Small Tattoo Designs,Finger Tattoos,Small 3d Tattoos,Cool Tattoos,Line Work Tattoo,Back Tattoo,Collarbone Tattoo,Tattoo Neck</td><td>image</td><td>https://i.pinimg.com/originals/d8/b7/a1/d8b7a11a3fe64e7fab91d3afb1536537.jpg</td><td>/data/tattoos</td><td>tattoos</td></tr><tr><td>9936</td><td>1f3154a6-13f0-4049-8d5c-faea15b9f07c</td><td>Chasing Waterfalls in Costa Rica</td><td>Volcanoes, hikes, and hot springs in Costa Rica! The ultimate 5 day travel itinerary. - #costarica #travel #blogging #blog #bucketlist</td><td>22000</td><td>Jess Wandering</td><td>Costa Rica Reisen,Costa Rica Travel,Vacation Places,Dream Vacations,Vacation Spots,Vacation Food,Vacation Ideas,Voyage Dubai,Beautiful Places To Travel</td><td>image</td><td>https://i.pinimg.com/originals/60/fe/4c/60fe4c3602e8e50e2e9f787ed27d2aba.jpg</td><td>/data/travel</td><td>travel</td></tr><tr><td>6844</td><td>69c3f268-274f-44bd-9cb4-427e64fefc44</td><td>♔the-fashman♔</td><td>billy-george: “Summer styles ”</td><td>377</td><td>Au'vey Smith</td><td>Fashion Week Hommes,La Fashion Week,Fashion Moda,Urban Fashion,Trendy Fashion,Fashion Spring,Fashion 2017,New Mens Fashion,Trendy Clothing</td><td>image</td><td>https://i.pinimg.com/originals/3c/8c/53/3c8c534cd02334c50047bd3a4feccce9.jpg</td><td>/data/mens-fashion</td><td>mens-fashion</td></tr><tr><td>3419</td><td>d0b80187-0171-49b2-8ee4-572984244f65</td><td>Easy Christmas Tree Crafts Ideas for toddlers and preschoolers | Sharing Our Experiences</td><td>Easy Christmas tree Craft Ideas for toddlers and preschoolers. Engage your kids in these DIY</td><td>3000</td><td>Kids Crafts & Free Preschool Printables- Sharing Our Experiences</td><td>Christmas Crafts For Kids To Make,Christmas Tree Painting,Christmas Activities For Kids,Easy Christmas Crafts For Toddlers,Kid Activities,Christmas Handprint Crafts,Christmas Tree Crafts,Christmas Baby,Xmas Tree</td><td>image</td><td>https://i.pinimg.com/originals/69/f0/75/69f075939d4449dffa69519756c30e26.png</td><td>/data/diy-and-crafts</td><td>diy-and-crafts</td></tr><tr><td>1268</td><td>e2f2cec5-cda5-42b2-ab9d-6dddf863e94e</td><td>Janet on Twitter</td><td>Here’s how to get long-lasting makeup, so you can do your face in the morning and be set for the entire day. Follow these makeup tips for foundation, lipstick and more using pro… </td><td>3000</td><td>Tony</td><td>Beauty Makeup,Eye Makeup,Diy Beauty,Beauty Ideas,Beauty Skin,Homemade Beauty,Wolf Makeup,Oily Skin Makeup,Face Beauty</td><td>image</td><td>https://i.pinimg.com/originals/d9/d1/3b/d9d13b9ac47d54940f05a75345a873d4.jpg</td><td>/data/beauty</td><td>beauty</td></tr><tr><td>6566</td><td>6d8848f8-f515-4935-8dae-5dd02304d76e</td><td>Navy and Neutral Fall Living Room + Kitchen Tour - Sand and Sisal</td><td>Celebrate fall with a neutral color palette with natural elements. This Navy and Neutral Fall Living Room + Kitchen Tour will make you rethink fall decor.</td><td>178000</td><td>Sand and Sisal</td><td>Fall Living Room,Coastal Living Rooms,Living Room Paint,Living Room Kitchen,Living Room Interior,Living Room Furniture,Living Room Decor,Living Area,Small Living</td><td>image</td><td>https://i.pinimg.com/originals/f1/be/b6/f1beb6d3414f1c52929df39a83d8da9f.jpg</td><td>/data/home-decor</td><td>home-decor</td></tr><tr><td>1555</td><td>1f20551b-a21c-4ff0-b20d-49e95fdc50d3</td><td>Skin Purging: Die Pflegemethode für reine Haut | ELLE</td><td>Skin Purging sorgt für die reinste Haut, die du jemals hattest #skin äpurging #skinpurging #skincare #hautpflege #schönehaut #haut #beauty #tips</td><td>326000</td><td>ELLE Germany</td><td>Natural Hair Mask,Natural Hair Styles,Natural Beauty,Skin Tag,How To Apply Makeup,Pimples,Beauty Routines,Skincare Routine,Glowing Skin</td><td>image</td><td>https://i.pinimg.com/originals/93/b2/7b/93b27be044b2fd2f227f30a7f2c2faf2.jpg</td><td>/data/beauty</td><td>beauty</td></tr><tr><td>3729</td><td>ac90f1d2-dc9e-438c-b073-dd48511b80b0</td><td>5 + Nature Games for Your Homeschool</td><td>Our family would rather spend time outdoors than indoors. We love nature! That said, sometimes mother nature is uncooperative. On these days, it can be fun to pull out some natu… </td><td>9000</td><td>My Little Poppies (Cait Curley, MA/CAGS)</td><td>Diy Nature,Theme Nature,Nature Study,Science And Nature,Summer Science,Earth Science,Nature Crafts,Outdoor Education,Outdoor Learning</td><td>image</td><td>https://i.pinimg.com/originals/d6/3b/1a/d63b1a2a36534ecac5d1fbd0d932403a.jpg</td><td>/data/education</td><td>education</td></tr><tr><td>6398</td><td>ea44d318-2ced-4cf8-a66f-a6a036b84faa</td><td>My master bathroom makeover with @flooranddecor ! Follow me on Instagram @Mojisstyle for more</td><td>null</td><td>117000</td><td>MojisStyle</td><td>Decor Home Living Room,Home And Living,Diy Bedroom Decor,Home Decor,Bathroom Interior Design,Interior Design Living Room,Dream Home Design,House Design,Beautiful Bathrooms</td><td>multi-video(story page format)</td><td>https://i.pinimg.com/videos/thumbnails/originals/75/48/3b/75483b74822855519ec8b40df4c670ef.0000001.jpg</td><td>/data/home-decor</td><td>home-decor</td></tr><tr><td>46</td><td>19234073-8905-4885-b0d5-98e0b84cbf27</td><td>10 Watercolor Hacks For Beginners | Tips and Tricks to Making Watercolor Painting Easier</td><td>Mountain monologue watercolor</td><td>27000</td><td>It's me, JD | DIY, Crafts, Home & Organization</td><td>Arte Inspo,Kunst Inspo,Watercolor Artists,Watercolor Ideas,Simple Watercolor,Tattoo Watercolor,Watercolor Techniques,Watercolor Animals,Watercolor Illustration</td><td>image</td><td>https://i.pinimg.com/originals/fd/54/89/fd548935dcb13545120a2115baaa41d9.jpg</td><td>/data/art</td><td>art</td></tr><tr><td>4988</td><td>fbdfd355-a356-46c2-a251-301869ae2674</td><td>Fun Book Page Crafts - MomAdvice</td><td>Fun Book Page Crafts - MomAdvice</td><td>112000</td><td>MomAdvice</td><td>Harry Potter Wedding,Harry Potter Theme,Wedding Book,Wedding Table,Wedding Ideas,Wedding Vintage,Garden Wedding,Vintage Party,Wedding Paper</td><td>image</td><td>https://i.pinimg.com/originals/17/55/87/175587b334e71c12300453b8b4b4c6aa.jpg</td><td>/data/event-planning</td><td>event-planning</td></tr><tr><td>427</td><td>4a455340-09a2-4370-ad86-73d7964603db</td><td>DIY Acrylic Paint Pouring Wall Art - Abbotts At Home</td><td>Easy to follow steps for this easy DIY wall art. Acrylic Paint Pouring with a blow dryer, Dutch paint pour. Written steps and full step by step video to help you do it too! 👍</td><td>52000</td><td>Abbotts At Home</td><td>Acrylic Pouring Art,Acrylic Wall Art,Acrylic Pouring Techniques,Acrylic Paintings,Art Paintings,Marble Art,Marble Painting,Pour Painting,Large Canvas Art</td><td>video</td><td>https://i.pinimg.com/videos/thumbnails/originals/d5/5e/fa/d55efa6ef50d35dac425cea935f39c89.0000001.jpg</td><td>/data/art</td><td>art</td></tr><tr><td>3800</td><td>d2c367ed-9287-4ea3-b173-198b292d9981</td><td>Reinforcing the Difficult Child When Token Boards Don't Work!</td><td>behavior, special education, token boards, when token boards don't work, money token systems</td><td>11000</td><td>Traci Bender - The Bender Bunch</td><td>Special Education Behavior,Classroom Behavior Management,Behavior Plans,Behaviour Management,Behavior Charts,Behavior Board,Behavior Report,Behavior Analyst,Preschool Special Education</td><td>image</td><td>https://i.pinimg.com/originals/24/f9/e2/24f9e22ada4a79c61432ef6c8fe1d0f9.jpg</td><td>/data/education</td><td>education</td></tr><tr><td>159</td><td>841a161a-47b8-4161-884d-adeb67a28b1e</td><td>Valentine's Day Bee Directed Drawing {Art Project}</td><td>This bee directed drawing and associated pages will help you create a fun and creative Valentine's Day Directed Drawing Art Project activity for your class.Choose to do a painti… </td><td>1000000</td><td>Teachers Pay Teachers</td><td>Classroom Art Projects,School Art Projects,Art Classroom,Art Projects For Kindergarteners,Spring Art Projects,Classroom Posters,Valentines Art Lessons,Valentines Day Activities,Grade 1 Art</td><td>image</td><td>https://i.pinimg.com/originals/49/ff/2e/49ff2e83c0cefdd37213f6084c6f0566.jpg</td><td>/data/art</td><td>art</td></tr><tr><td>3599</td><td>ff0dd945-dafa-411c-8cef-eb43e374e815</td><td>Educational Leadership in Aotearoa New Zealand : Issues of Context and Social Justice</td><td>This book presents 10 inspirational case studies of how centre leaders, principals and leadership teams in high-needs New Zealand educational settings have enacted leadership to… </td><td>2000000</td><td>Walmart</td><td>Research Studies,Educational Leadership,Education System,Secondary School,Try It Free,Book Format,Social Justice,Young People,Paperback Books</td><td>image</td><td>https://i.pinimg.com/originals/0e/ea/c4/0eeac457780bbe43fcc5e9eaabd80f62.jpg</td><td>/data/education</td><td>education</td></tr><tr><td>10552</td><td>17301b8c-ccbb-42ad-b2df-3876df35b1cd</td><td>The Prowler Emergency Response Vehicle</td><td>January 23, 2009 We can see emergency responders queueing up for this one. ATVCorp has created versions of its Prowler Light Tactical All Terrain Vehicle (LTATV) for fire-fighti… </td><td>314</td><td>p hump</td><td>Army Vehicles,Armored Vehicles,Go Kart Buggy,Atv Attachments,Aviation Fuel,Special Forces,Special Ops,Terrain Vehicle,Emergency Response</td><td>image</td><td>https://i.pinimg.com/originals/14/6b/6b/146b6b1a1127773f7046e08550e68ed0.jpg</td><td>/data/vehicles</td><td>vehicles</td></tr><tr><td>1422</td><td>7bbe860c-a739-4ba9-babd-feb24bb6e4d9</td><td>41 Life-Saving Beauty Hacks Every Girl Should Have In Her Arsenal</td><td>Might try this... I'm generally skeptical about at-home remedies, but I know baking soda and lemons both do wonders. More</td><td>5000000</td><td>BuzzFeed</td><td>Baking Soda Lemon Juice,Diy Beauté,Tips Belleza,Belleza Natural,Health And Beauty Tips,Beauty Secrets,Beauty Advice,Diy Beauty Tips,Beauty Life Hacks</td><td>image</td><td>https://i.pinimg.com/originals/c8/ab/af/c8abaffc56050f674eef8e65ad684929.jpg</td><td>/data/beauty</td><td>beauty</td></tr><tr><td>5309</td><td>c38bb47b-9584-4fc4-af0d-a31e1061df41</td><td>How to Watch Your Favorite Shows Without Cable</td><td>How to Get Rid of Cable and Still Watch all of your favorite shows! Saving Money Tips for TV & Cable!</td><td>330000</td><td>Passion For Savings</td><td>Ways To Save Money,Money Tips,Money Saving Tips,Money Hacks,Managing Money,Cable Tv Alternatives,Budget Planer,Financial Tips,Financial Planning</td><td>image</td><td>https://i.pinimg.com/originals/c9/18/be/c918be2784382dc49010719bf1742a61.jpg</td><td>/data/finance</td><td>finance</td></tr><tr><td>552</td><td>b82602a9-e434-42cf-9481-22f3f41d82ce</td><td>The herbal bed: Katie Scott's psychedelic flora and fauna – in pictures</td><td>Nike trainers sprout plants and French perfumiers inspire by mysterious scientific icons in Katie Scott’s visions that take botanical illustration into the digital age</td><td>908000</td><td>The Guardian</td><td>Art And Illustration,Illustration Inspiration,Botanical Illustration,Vintage Illustrations,Botanical Drawings,Botanical Prints,Arte Inspo,Insect Art,Psychedelic</td><td>image</td><td>https://i.pinimg.com/originals/16/8a/fa/168afae02d5ffc71da10cdb312de2cb1.jpg</td><td>/data/art</td><td>art</td></tr><tr><td>1371</td><td>33e92ac1-73d1-4c31-9892-d5e633060790</td><td>How To Do Makeup - Step By Step Tips For The Perfect Look</td><td>What are the basic things you need for makeup? Let’s be honest, ladies; all women can do makeup, yet not all women know how to do makeup right. The good news is, this post can t… </td><td>799000</td><td>Glaminati</td><td>Contouring Makeup,Skin Makeup,Beauty Makeup,Makeup Brushes,Eyeliner Makeup,Makeup Tips Lips,Makeup 101,Cheap Makeup,Rosa Eyeliner</td><td>image</td><td>https://i.pinimg.com/originals/2c/1a/d4/2c1ad45b5c54034a2dbc73c84a89f5e4.jpg</td><td>/data/beauty</td><td>beauty</td></tr><tr><td>10119</td><td>40eab9ba-7812-4f26-baca-35a6bed95a9f</td><td>How to Afford Family Travel: 10 Mistakes You're Making (and what to do instead) | Our Next Adventure</td><td>See families traveling all the time and wonder, \"how the heck do they afford this?\" Read 10 mistakes you might be making, and what you should do instead.</td><td>9000</td><td>OUR NEXT ADVENTURE | family travel blog</td><td>Family Vacation Destinations,Vacation Trips,Travel Destinations,Vacation Ideas,Cheap Family Vacations,Vacation Travel,Best Family Vacation Spots,Vacation Quotes,Vacation Memories</td><td>image</td><td>https://i.pinimg.com/originals/0a/49/fb/0a49fbcec746c4219d3a6f30834f378e.jpg</td><td>/data/travel</td><td>travel</td></tr><tr><td>9074</td><td>2adede06-7fb0-4b5f-8cf9-ce8e6d6fa6a1</td><td>77 Disney Tattoos To Unleash Your Magic Power - Our Mindful Life</td><td>Disney characters never go out with time. From small to bold, here are the best Disney tattoos that both adults and children will adore.</td><td>190000</td><td>Our Mindful Life</td><td>Small Disney Tattoos,Disney Thigh Tattoo,Matching Disney Tattoos,Disney Couple Tattoos,Disney Inspired Tattoos,Disney Sleeve Tattoos,Matching Best Friend Tattoos,Small Tattoos,3 Best Friend Tattoos</td><td>image</td><td>https://i.pinimg.com/originals/29/1d/13/291d1361e275358df53c1db02b63d3a4.jpg</td><td>/data/tattoos</td><td>tattoos</td></tr><tr><td>2604</td><td>087b0fa9-f901-4262-aa0a-6caf234d1b35</td><td>75+ Neutral Christmas Home Decor for the Holiday Season in Farmhouse Style using Earth Tones Modern</td><td>My favorite 75+ Neutral Christmas Home Decor for decorating your house during the Holiday Season in earth tones and a farmhouse, rustic style all winter. I love this modern, sim… </td><td>31000</td><td>Everyday Wholesome</td><td>Colorful Christmas Decorations,Colorful Christmas Tree,Christmas Centerpieces,Christmas Colors,Xmas Colors,Winter Decorations,Christmas Trends,Christmas Inspiration,Christmas Home</td><td>image</td><td>https://i.pinimg.com/originals/86/84/39/868439dd894969e3abd6a2a8a9fe1e9c.jpg</td><td>/data/christmas</td><td>christmas</td></tr><tr><td>223</td><td>8672f996-6ce9-403e-9599-2c4df668f1e0</td><td>Easy Gouache painting</td><td>null</td><td>29000</td><td>Jasminxg</td><td>Simple Canvas Paintings,Easy Nature Paintings,Tree Paintings,Cool Paintings,Watercolor Art Lessons,Watercolor Paintings For Beginners,Gouache Painting,Painting Art,Mandala Art Lesson</td><td>multi-video(story page format)</td><td>https://i.pinimg.com/videos/thumbnails/originals/17/49/16/1749164b93866d4eac32a52a3ccfd40a.0000001.jpg</td><td>/data/art</td><td>art</td></tr><tr><td>8312</td><td>ca3c9bb0-7281-4b9b-8abf-201da0b68d62</td><td>8 Vision Board Ideas To Manifest Your Dreams - TheFab20s</td><td>Trying to create your dream life but don't know where to start?! These vision board ideas are a great way to manifest a new you this year</td><td>42000</td><td>TheFab20s | Travel+Food+DIY+Listicles</td><td>Positive Self Affirmations,Positive Affirmations Quotes,Affirmation Quotes,Quotes Positive,Motivational Quotes For Success Positivity,Business Success Quotes,Positive Vibes,Motivational Quotes For Women,Affirmations For Love</td><td>image</td><td>https://i.pinimg.com/originals/36/d1/be/36d1be632cbf9b6c8e377a052b31d064.jpg</td><td>/data/quotes</td><td>quotes</td></tr><tr><td>2858</td><td>26f81da4-26a9-465b-b819-6099bc66e1c0</td><td>50 Popular Spring Crafts For Kids You Need To Make</td><td>Celebrate warmer weather & spring blooms with these 50 delightful spring crafts for kids. Bright, cheerful & fun to make these crafts are a guaranteed hit.</td><td>108000</td><td>This Tiny  Blue House</td><td>Spring Crafts For Kids,Diy For Kids,Arts And Crafts For Kids Toddlers,Spring Crafts For Preschoolers,Spring Craft Preschool,Simple Kids Crafts,Summer Crafts For Toddlers,Easy Preschool Crafts,Garden Crafts For Kids</td><td>image</td><td>https://i.pinimg.com/originals/f0/ca/c3/f0cac3e3b0c2ebf5f2d2e4f70455e794.jpg</td><td>/data/diy-and-crafts</td><td>diy-and-crafts</td></tr><tr><td>6261</td><td>308c5c1c-1ebd-4649-be78-14424ee346b1</td><td>DECORATING WITH RATTAN & CANE - Dashing Darlin'</td><td>BOHEMIAN TRENDING TEXTURES FOR THE HOME ~ ROUNDED UP MY FAVORITE RATTAN & CANE HOME DECOR FINDS</td><td>13000</td><td>Dashing Darlin' </td><td>Boho Chic Living Room,Boho Chic Entryway,Living Room Decor With White Couch,Rustic Living Rooms,Diy Living Room,Living Room Upstairs,Rustic Room,Bohemian Living,Living Room Inspiration</td><td>image</td><td>https://i.pinimg.com/originals/24/89/f7/2489f76f98cb3c1189848ddc42f2ec52.jpg</td><td>/data/home-decor</td><td>home-decor</td></tr><tr><td>3201</td><td>6370f096-f344-49c3-a6b1-3072c537a953</td><td>DIY Pom Pom Letters for MOM!</td><td>Marla Meridith - DIY Pom Pom Letters for MOM!</td><td>671000</td><td>Marla Meridith</td><td>Kids Crafts,Crafts To Make,Craft Projects,Arts And Crafts,Craft Ideas,Pom Pom Crafts,Yarn Crafts,Flower Crafts,Diy Flower</td><td>image</td><td>https://i.pinimg.com/originals/db/c6/98/dbc69818c531e28ee514aaaec377257d.jpg</td><td>/data/diy-and-crafts</td><td>diy-and-crafts</td></tr><tr><td>2637</td><td>b18e8d38-eb45-40c0-b443-4fca250df850</td><td>Marco Boho</td><td>null</td><td>66000</td><td>El blog amarillo</td><td>Diy Craft Projects,Diy Crafts For Home Decor,Diy And Crafts Sewing,Diy Wall Decor,Creative Crafts,Fun Crafts,Paper Crafts,Sewing Diy,Diy Wall Art</td><td>multi-video(story page format)</td><td>https://i.pinimg.com/videos/thumbnails/originals/b6/ab/28/b6ab28752f2804d71a3993565ba89308.0000001.jpg</td><td>/data/diy-and-crafts</td><td>diy-and-crafts</td></tr><tr><td>1198</td><td>1a90caac-f5df-4a27-821b-0fb4be678542</td><td>The End of the Skin-Care Craze</td><td>In the face of a pandemic, economic collapse, and climate change, Instagram photos of shelves crowded with skin-care products appear out of</td><td>20</td><td>Mccready-romero</td><td>Care Organization,Bathroom Organisation,Medicine Organization,Beauty Care,Beauty Skin,Elle Ferguson,Shelfie,Makeup Storage,Beauty Room</td><td>image</td><td>https://i.pinimg.com/originals/a3/d0/29/a3d029500020cc9c9c44f97c60dbc515.png</td><td>/data/beauty</td><td>beauty</td></tr><tr><td>10370</td><td>746948e7-a216-456b-8de7-7fee7312012c</td><td>Joshua Tree - A Weekend in the Desert with Faithfull | Song of Style</td><td>Aimee Song of the blog Song of Style shares a photo diary of her weekend in the Joshua Tree desert with Faithfull the Brand. Photos by Grant Legan.</td><td>1000</td><td>Maggie Panning</td><td>Pretty Cars,Cute Cars,Classy Cars,Sexy Cars,Dream Cars,My Dream Car,Carros Retro,Ford Classic Cars,Ford Mustang Classic</td><td>image</td><td>https://i.pinimg.com/originals/11/1e/c3/111ec37eed198cb432f71b20afd0e770.jpg</td><td>/data/vehicles</td><td>vehicles</td></tr></tbody></table></div>"
      ]
     },
     "metadata": {
      "application/vnd.databricks.v1+output": {
       "addedWidgets": {},
       "aggData": [],
       "aggError": "",
       "aggOverflow": false,
       "aggSchema": [],
       "aggSeriesLimitReached": false,
       "aggType": "",
       "arguments": {},
       "columnCustomDisplayInfos": {},
       "data": [
        [
         10663,
         "d5208c16-82ae-4fd1-87f0-36e5ef789412",
         "21+ Classic Car Picture of the 1950s - Vintagetopia",
         "There are a lot of options of places to stay so you probably only have to book the initial one so you know the best place to land from the airport",
         171000,
         "vintagetopia",
         "Old Classic Cars,Classic Trucks,Old Vintage Cars,Antique Cars,Vintage Trucks,Antique Trucks,Cadillac,Convertible,Mustang",
         "image",
         "https://i.pinimg.com/originals/e9/01/4d/e9014d537dd2b81c606e8466cef3904c.jpg",
         "/data/vehicles",
         "vehicles"
        ],
        [
         5468,
         "91ee49f6-0070-4270-ba19-fde88ba51c91",
         "Budgets, Spouses & Making It Work! - Tshanina Peterson",
         "Don't fight about budgets and money with your spouse! Here are a few tips that we've found that make it work in our marriage!",
         313,
         "Annamarie Hilton",
         "Ways To Save Money,Money Tips,Money Saving Tips,How To Make Money,Managing Money,Saving Time,College Fund,Scholarships For College,Education College",
         "image",
         "https://i.pinimg.com/originals/37/d5/82/37d58296bcef3471a633c76b89d8625e.jpg",
         "/data/finance",
         "finance"
        ],
        [
         205,
         "f4afd543-b9fe-44c3-8064-f2198faa1372",
         "DIY Abstract Heart Painting and a Fun Paint Party",
         "Use our easy step by step tutorial to create a DIY abstract heart painting on any canvas size. Lots of inspiration to help you choose colors.",
         410000,
         "The Creativity Exchange",
         "Painting & Drawing,Watercolor Paintings,Original Paintings,Owl Watercolor,Acrylic Paintings,Owl Art,Bird Art,Beginner Painting,Animal Paintings",
         "image",
         "https://i.pinimg.com/originals/33/85/f8/3385f82ee5e8ecdcccdf798bdcbee3d2.jpg",
         "/data/art",
         "art"
        ],
        [
         7790,
         "9cd89fb9-d1af-4e66-85ca-c9d656c918b4",
         "50 Heart Touching Sad Quotes That Will Make You Cry",
         "Are you looking for some heart touching sad quotes and sayings; Here we have collected for you 50 best heart touching sad quotes..",
         112,
         "AnnaLee Kick",
         "Crush Quotes For Girls,Sad Crush Quotes,Hurt Quotes,Love Me Quotes,Mood Quotes,Quotes To Live By,Life Quotes,Quotes Quotes,Sad Quotes That Make You Cry",
         "image",
         "https://i.pinimg.com/originals/0c/0f/40/0c0f408d96458080e0c82adb50be8e8f.jpg",
         "/data/quotes",
         "quotes"
        ],
        [
         8606,
         "71757040-bfc8-4631-9cac-22801e61d9e3",
         "30+ Eagle Tattoos Ideas for Women",
         "summcoco gives you inspiration for the women fashion trends you want. Thinking about a new look or lifestyle? This is your ultimate resource to get the hottest trends. 30+ Eagle… ",
         306000,
         "Sumcoco | Decor Ideas, Hairstyles, Nails Fashion Advice",
         "White Bird Tattoos,Rose Tattoos,Flower Tattoos,Tattoo Black,Bird And Flower Tattoo,Tattoo Floral,Mini Tattoos,Flower Art,Girls With Sleeve Tattoos",
         "image",
         "https://i.pinimg.com/originals/8d/c6/ed/8dc6ed0b212393187a14c7d07a88060f.png",
         "/data/tattoos",
         "tattoos"
        ],
        [
         9759,
         "d105eb6e-0f9f-46e7-8d02-d24b62f6ae90",
         "8 Best Greek Islands You Have To Visit - TheFab20s",
         "Although you'd think Greek islands are fairly similar, you'd be completely wrong! Each island has it's own personality and appeal. Here are the 8 Best Greek Islands to visit, es… ",
         42000,
         "TheFab20s | Travel+Food+DIY+Listicles",
         "Greek Islands To Visit,Best Greek Islands,Greece Islands,Cool Places To Visit,Places To Go,Best Places In Portugal,Copenhagen Travel,Paros Island,Santorini Island",
         "image",
         "https://i.pinimg.com/originals/06/1d/ce/061dce38929dec8e74844442116bea4a.jpg",
         "/data/travel",
         "travel"
        ],
        [
         719,
         "d7c53e34-9540-4f48-a31b-89b6ed1852bb",
         "10 Art Sub Lessons that only need a Pencil",
         "10 art sub lessons that only need a pencil. Cover lessons for art teachers. Make the perfect art sub lessson folder with this amazing resources.",
         25000,
         "The Arty Teacher",
         "Art Lessons For Kids,Art Lessons Elementary,Art For Kids,Art Sub Plans,Art Lesson Plans,Art Substitute Plans,High School Art,Middle School Art,Primary School Art",
         "image",
         "https://i.pinimg.com/originals/ee/a8/78/eea878911033897d981a69d9f6b2fb7c.png",
         "/data/art",
         "art"
        ],
        [
         1704,
         "5fbf9863-fb79-477c-a5b6-540c3020a55f",
         "Christmas Trees From Pallet Wood | Holiday DIY",
         "Christmas Trees From Pallet Wood | Holiday DIY: Deck the yard with some fun outdoor Christmas Trees! We made these merry and bright decorations from two old pallets we had lying… ",
         3000000,
         "Instructables",
         "Pallet Wood Christmas Tree,Wooden Christmas Crafts,Diy Christmas Tree,Christmas Projects,Holiday Crafts,Wooden Xmas Trees,Different Christmas Trees,Pallet Tree,Christmas Kitchen",
         "image",
         "https://i.pinimg.com/originals/64/7b/ca/647bca35169b7c144604116c64bcba8a.png",
         "/data/christmas",
         "christmas"
        ],
        [
         2482,
         "08604f20-fa17-4b9a-9949-781717eca6cd",
         "FORNT PORCH CHRISTMAS DECORATING IDEAS",
         "Christmas decorating ideas for porches. Beautiful holiday decor ideas for front porches both small and large. Outdoor decorations like sleds, lanterns, Christmas trees, wreaths,… ",
         46000,
         "Life on Summerhill | Home, Holiday Decor & DIY Website",
         "Diy Christmas Decorations For Home,Farmhouse Christmas Decor,Christmas Home,Christmas Holidays,Christmas Front Porches,How To Decorate For Christmas,Christmas Porch Ideas,Christmas Decorating Ideas,Large Outdoor Christmas Decorations",
         "video",
         "https://i.pinimg.com/videos/thumbnails/originals/40/83/f5/4083f5b4971bf235f89a4784ab87271e.0000001.jpg",
         "/data/christmas",
         "christmas"
        ],
        [
         8930,
         "a2999c28-f7b2-4577-af87-49d21d6d8a18",
         "135 Sunflower Tattoo Ideas - [Best Rated Designs in 2021]",
         "We have put together the Ultimative Sunflower Tattoo Collection in 2020. Check out our highest rated handpicked Sunflower designs here!",
         800000,
         "Next Luxury",
         "Sunflower Tattoo Sleeve,Sunflower Tattoo Shoulder,Sunflower Tattoo Small,Sunflower Tattoos,Sunflower Tattoo Design,Shoulder Tattoo,Sunflower Mandala Tattoo,Sunflower Tattoo Meaning,Form Tattoo",
         "image",
         "https://i.pinimg.com/originals/18/de/6c/18de6c81a8637e224c7d63dce1414ceb.jpg",
         "/data/tattoos",
         "tattoos"
        ],
        [
         7294,
         "9d8409ef-bea7-4133-a021-c58b9c042210",
         "Foolproof Fall Fashion For Men You'll Love",
         "Looking for the coolest fall fashion for men this season? Click to read this article on fall fashion for men to look sharp on LLEGANCE.",
         28000,
         "LLEGANCE | Workwear Fashion Woman Advice For Driven Professionals",
         "Fashion 90s,Autumn Fashion,Fashion Ideas,Trendy Fashion,Fashion Photo,Fashion Outfits,Fashion Trends,Urban Fashion Men,Men's Casual Fashion",
         "image",
         "https://i.pinimg.com/originals/4c/bf/2d/4cbf2d6e04d2502612169220553f4cef.jpg",
         "/data/mens-fashion",
         "mens-fashion"
        ],
        [
         808,
         "23f67e42-db9f-4aae-8b82-cbec64ad9f4d",
         "Chalk Pastel Hot Chocolate Art Project",
         "Kids will use chalk pastels and black paper to create this bold and bright hot chocolate art project! Easy to follow tutorial included.",
         20000,
         "Projects with Kids",
         "Hot Chocolate Art,Chocolate Crafts,Art Activities For Kids,Preschool Art,Preschool Winter,Christmas Activities,Winter Art Projects,Clay Art Projects,Chalk Pastel Art",
         "image",
         "https://i.pinimg.com/originals/5a/d3/82/5ad38202cf8acb022cb8f46ce2a78ad6.jpg",
         "/data/art",
         "art"
        ],
        [
         771,
         "a5021766-a8aa-4dc7-9857-4da6b8e3dc1a",
         "African Sunset Shadow Tracing Art - Taming Little Monsters",
         "Use your mini world figures to create this beautiful African sunset. Your kids will love learning about shadows, angles and distortion in this fun art and STEM activity for kids.",
         4000,
         "Taming Little Monsters - Fun Activities for Kids",
         "African Art Projects,Cool Art Projects,Projects For Kids,African Art For Kids,African Crafts Kids,Art Club Projects,Art Education Projects,Tracing Art,African Sunset",
         "image",
         "https://i.pinimg.com/originals/e3/aa/35/e3aa350f8f104d0e59f26d7f17ea7461.png",
         "/data/art",
         "art"
        ],
        [
         4076,
         "3a52d364-7c04-47cb-a3e5-56d9e2b77528",
         "Phonics Activities Your Kids Will Love - The Literacy Nest",
         "Hi everyone! As a teacher using the Orton-Gillingham approach, I am constantly looking for phonics activities that my students will find fun and engaging. Using Orton-Gillingham… ",
         22000,
         "The Literacy Nest",
         "Literacy Games,Kindergarten Activities,Literacy Centers,Fun Phonics Activities,Listening Activities,Vocabulary Games,Literacy Stations,Letter Activities,Montessori Activities",
         "image",
         "https://i.pinimg.com/originals/58/8e/38/588e380b19942a71a86a69d9c9973d25.png",
         "/data/education",
         "education"
        ],
        [
         1545,
         "0c629541-cc5b-4b61-bd3f-613346893258",
         "Oil Cleansing Method: What it is and why you should do it.",
         "The oil cleansing method is a simple, natural way to have clean skin without using toxic chemicals. It will leave your face radiant and soft!",
         85000,
         "Thank Your Body",
         "Beauty Care,Diy Beauty,Beauty Hacks,Beauty Shop,Oil Cleansing Method,Goji,Korean Skincare Routine,Homemade Beauty Products,Organic Beauty",
         "image",
         "https://i.pinimg.com/originals/2c/1c/da/2c1cda7da86ee711536bbacfe89c75c9.jpg",
         "/data/beauty",
         "beauty"
        ],
        [
         2293,
         "1fd7d4cc-54c1-4542-9c1f-449cb4c875f4",
         "Over 40 of the BEST Homemade Christmas Ornament Ideas",
         "Over 40 of the BEST Homemade Christmas Ornaments...these easy Holiday crafts are so fun to make for Kids and Adults! Lots of great class party ideas!",
         245000,
         "Kitchen Fun With My 3 Sons",
         "Diy Christmas Lights,Homemade Christmas Decorations,Christmas Crafts For Gifts,Mini Christmas Tree,Christmas Ornament Crafts,Homemade Christmas Gifts,Xmas Decorations,Simple Christmas,Handmade Christmas",
         "image",
         "https://i.pinimg.com/originals/d0/d3/a3/d0d3a31e87296224d5ba8896904b5b88.jpg",
         "/data/christmas",
         "christmas"
        ],
        [
         10509,
         "6a5f0e7e-1389-4e54-942f-4cb69f09f140",
         "Flying Car",
         null,
         89000,
         "TheSuperBOO!",
         "Electric Off Road Vehicle,Cool Illusions,Flying Vehicles,Wow Video,Art And Craft Videos,Top Luxury Cars,Chevy Muscle Cars,Street Racing Cars,Funny Videos Clean",
         "multi-video(story page format)",
         "https://i.pinimg.com/videos/thumbnails/originals/4a/d4/96/4ad4961606179854f1141a90f50f002c.0000001.jpg",
         "/data/vehicles",
         "vehicles"
        ],
        [
         2015,
         "72359164-4419-452c-81cb-74f30a5a26b7",
         "16 Blissful Christmas Table Decor Ideas That You Must See",
         "Take a look at this new collection of Christmas decor featuring 16 Blissful Christmas Table Decor Ideas That You Must See. Happy holidays!",
         616000,
         "ArchitectureArtDesigns",
         "Kids Crafts,Christmas Crafts For Kids,Homemade Christmas,Christmas Projects,Holiday Crafts,Christmas Gift Ideas,Preschool Christmas,Tree Crafts,Christmas Inspiration",
         "image",
         "https://i.pinimg.com/originals/5f/70/30/5f7030a35bb8a1491e915fb0ae29bcf5.jpg",
         "/data/christmas",
         "christmas"
        ],
        [
         1094,
         "6deacdcd-75ed-4dd8-8951-9b77453f38e0",
         "9 colors lazy lipstick - 9 colors lazy lipstick4",
         "9 colors lazy lipstick",
         8000,
         "Jiew82633",
         "Nail Inspo,Lazy,Lipstick,How To Apply,Makeup,Colors,Products,Make Up,Lipsticks",
         "image",
         "https://i.pinimg.com/originals/25/cf/8c/25cf8cb74b43ab95591342c2bbe4ecd8.jpg",
         "/data/beauty",
         "beauty"
        ],
        [
         603,
         "78e21a64-53b0-4745-8294-e8c456f0ccc1",
         "How to Create Alcohol Ink Rings For Gorgeous Pieces of Art -",
         "Learn to create alcohol ink rings for gorgeous pieces of art. Each ring sits on top of another, giving a multilayered appearance",
         7000,
         "Kim Cook-Thirteen Chairs-Slates Mugs And Tees",
         "Alcohol Ink Tiles,Alcohol Ink Glass,Alcohol Ink Crafts,Alcohol Ink Painting,Pour Painting,Zealand Tattoo,Copics,Types Of Art,Art Techniques",
         "image",
         "https://i.pinimg.com/originals/03/03/1f/03031fdc9775d0c06f61d68e51362379.png",
         "/data/art",
         "art"
        ],
        [
         7768,
         "ae1a61f6-d958-40fe-ba93-6a78b3a73178",
         "16 Motivational Quotes Get You Inspired Today - Boss Babe Chronicles",
         "motivation quotes",
         45000,
         "Boss Babe Chronicles | Personal Development, Finances, Self Care",
         "Motivacional Quotes,Motivational Quotes For Life,Uplifting Quotes,True Quotes,Words Quotes,Empowering Quotes,Boss Up Quotes,Inspirational Success Quotes,Boss Babe Quotes Work Hard",
         "image",
         "https://i.pinimg.com/originals/ee/b4/bc/eeb4bccdb074edb787ea61711e0c4dfd.jpg",
         "/data/quotes",
         "quotes"
        ],
        [
         5630,
         "d41e703c-c97c-4c5a-9f9c-338982ca7504",
         "7 Insanely Useful Money Management Worksheets",
         "Get your personal finance in order with these 8 fr…",
         46000,
         "R.J. Weiss at The Ways To Wealth | Personal Finance | Debt Payoff",
         "Ways To Save Money,Money Tips,Money Saving Tips,Money Budget,Saving Ideas,Budgeting Finances,Budgeting Tips,Planning Budget,Budget Planer",
         "image",
         "https://i.pinimg.com/originals/f1/4f/cc/f14fcc75ee73ff22c983bdce70c022e2.jpg",
         "/data/finance",
         "finance"
        ],
        [
         8578,
         "036ec267-658b-4dad-a097-8ef0b4f30c0d",
         "Snake Collarbone Temporary Tattoo. Halloween Tattoos  Spooky | Etsy",
         "Snake temporary tattoo for collarbone. Spooky 3D tattoo for Halloween Includes 2 copies, 1 for the right side and 1 for the left side Apply with water and remove anytime with ba… ",
         0,
         "Livitrevisani",
         "Finger Tattoo Designs,Small Tattoo Designs,Finger Tattoos,Small 3d Tattoos,Cool Tattoos,Line Work Tattoo,Back Tattoo,Collarbone Tattoo,Tattoo Neck",
         "image",
         "https://i.pinimg.com/originals/d8/b7/a1/d8b7a11a3fe64e7fab91d3afb1536537.jpg",
         "/data/tattoos",
         "tattoos"
        ],
        [
         9936,
         "1f3154a6-13f0-4049-8d5c-faea15b9f07c",
         "Chasing Waterfalls in Costa Rica",
         "Volcanoes, hikes, and hot springs in Costa Rica! The ultimate 5 day travel itinerary. - #costarica #travel #blogging #blog #bucketlist",
         22000,
         "Jess Wandering",
         "Costa Rica Reisen,Costa Rica Travel,Vacation Places,Dream Vacations,Vacation Spots,Vacation Food,Vacation Ideas,Voyage Dubai,Beautiful Places To Travel",
         "image",
         "https://i.pinimg.com/originals/60/fe/4c/60fe4c3602e8e50e2e9f787ed27d2aba.jpg",
         "/data/travel",
         "travel"
        ],
        [
         6844,
         "69c3f268-274f-44bd-9cb4-427e64fefc44",
         "♔the-fashman♔",
         "billy-george: “Summer styles ”",
         377,
         "Au'vey Smith",
         "Fashion Week Hommes,La Fashion Week,Fashion Moda,Urban Fashion,Trendy Fashion,Fashion Spring,Fashion 2017,New Mens Fashion,Trendy Clothing",
         "image",
         "https://i.pinimg.com/originals/3c/8c/53/3c8c534cd02334c50047bd3a4feccce9.jpg",
         "/data/mens-fashion",
         "mens-fashion"
        ],
        [
         3419,
         "d0b80187-0171-49b2-8ee4-572984244f65",
         "Easy Christmas Tree Crafts Ideas for toddlers and preschoolers | Sharing Our Experiences",
         "Easy Christmas tree Craft Ideas for toddlers and preschoolers. Engage your kids in these DIY",
         3000,
         "Kids Crafts & Free Preschool Printables- Sharing Our Experiences",
         "Christmas Crafts For Kids To Make,Christmas Tree Painting,Christmas Activities For Kids,Easy Christmas Crafts For Toddlers,Kid Activities,Christmas Handprint Crafts,Christmas Tree Crafts,Christmas Baby,Xmas Tree",
         "image",
         "https://i.pinimg.com/originals/69/f0/75/69f075939d4449dffa69519756c30e26.png",
         "/data/diy-and-crafts",
         "diy-and-crafts"
        ],
        [
         1268,
         "e2f2cec5-cda5-42b2-ab9d-6dddf863e94e",
         "Janet on Twitter",
         "Here’s how to get long-lasting makeup, so you can do your face in the morning and be set for the entire day. Follow these makeup tips for foundation, lipstick and more using pro… ",
         3000,
         "Tony",
         "Beauty Makeup,Eye Makeup,Diy Beauty,Beauty Ideas,Beauty Skin,Homemade Beauty,Wolf Makeup,Oily Skin Makeup,Face Beauty",
         "image",
         "https://i.pinimg.com/originals/d9/d1/3b/d9d13b9ac47d54940f05a75345a873d4.jpg",
         "/data/beauty",
         "beauty"
        ],
        [
         6566,
         "6d8848f8-f515-4935-8dae-5dd02304d76e",
         "Navy and Neutral Fall Living Room + Kitchen Tour - Sand and Sisal",
         "Celebrate fall with a neutral color palette with natural elements. This Navy and Neutral Fall Living Room + Kitchen Tour will make you rethink fall decor.",
         178000,
         "Sand and Sisal",
         "Fall Living Room,Coastal Living Rooms,Living Room Paint,Living Room Kitchen,Living Room Interior,Living Room Furniture,Living Room Decor,Living Area,Small Living",
         "image",
         "https://i.pinimg.com/originals/f1/be/b6/f1beb6d3414f1c52929df39a83d8da9f.jpg",
         "/data/home-decor",
         "home-decor"
        ],
        [
         1555,
         "1f20551b-a21c-4ff0-b20d-49e95fdc50d3",
         "Skin Purging: Die Pflegemethode für reine Haut | ELLE",
         "Skin Purging sorgt für die reinste Haut, die du jemals hattest #skin äpurging #skinpurging #skincare #hautpflege #schönehaut #haut #beauty #tips",
         326000,
         "ELLE Germany",
         "Natural Hair Mask,Natural Hair Styles,Natural Beauty,Skin Tag,How To Apply Makeup,Pimples,Beauty Routines,Skincare Routine,Glowing Skin",
         "image",
         "https://i.pinimg.com/originals/93/b2/7b/93b27be044b2fd2f227f30a7f2c2faf2.jpg",
         "/data/beauty",
         "beauty"
        ],
        [
         3729,
         "ac90f1d2-dc9e-438c-b073-dd48511b80b0",
         "5 + Nature Games for Your Homeschool",
         "Our family would rather spend time outdoors than indoors. We love nature! That said, sometimes mother nature is uncooperative. On these days, it can be fun to pull out some natu… ",
         9000,
         "My Little Poppies (Cait Curley, MA/CAGS)",
         "Diy Nature,Theme Nature,Nature Study,Science And Nature,Summer Science,Earth Science,Nature Crafts,Outdoor Education,Outdoor Learning",
         "image",
         "https://i.pinimg.com/originals/d6/3b/1a/d63b1a2a36534ecac5d1fbd0d932403a.jpg",
         "/data/education",
         "education"
        ],
        [
         6398,
         "ea44d318-2ced-4cf8-a66f-a6a036b84faa",
         "My master bathroom makeover with @flooranddecor ! Follow me on Instagram @Mojisstyle for more",
         null,
         117000,
         "MojisStyle",
         "Decor Home Living Room,Home And Living,Diy Bedroom Decor,Home Decor,Bathroom Interior Design,Interior Design Living Room,Dream Home Design,House Design,Beautiful Bathrooms",
         "multi-video(story page format)",
         "https://i.pinimg.com/videos/thumbnails/originals/75/48/3b/75483b74822855519ec8b40df4c670ef.0000001.jpg",
         "/data/home-decor",
         "home-decor"
        ],
        [
         46,
         "19234073-8905-4885-b0d5-98e0b84cbf27",
         "10 Watercolor Hacks For Beginners | Tips and Tricks to Making Watercolor Painting Easier",
         "Mountain monologue watercolor",
         27000,
         "It's me, JD | DIY, Crafts, Home & Organization",
         "Arte Inspo,Kunst Inspo,Watercolor Artists,Watercolor Ideas,Simple Watercolor,Tattoo Watercolor,Watercolor Techniques,Watercolor Animals,Watercolor Illustration",
         "image",
         "https://i.pinimg.com/originals/fd/54/89/fd548935dcb13545120a2115baaa41d9.jpg",
         "/data/art",
         "art"
        ],
        [
         4988,
         "fbdfd355-a356-46c2-a251-301869ae2674",
         "Fun Book Page Crafts - MomAdvice",
         "Fun Book Page Crafts - MomAdvice",
         112000,
         "MomAdvice",
         "Harry Potter Wedding,Harry Potter Theme,Wedding Book,Wedding Table,Wedding Ideas,Wedding Vintage,Garden Wedding,Vintage Party,Wedding Paper",
         "image",
         "https://i.pinimg.com/originals/17/55/87/175587b334e71c12300453b8b4b4c6aa.jpg",
         "/data/event-planning",
         "event-planning"
        ],
        [
         427,
         "4a455340-09a2-4370-ad86-73d7964603db",
         "DIY Acrylic Paint Pouring Wall Art - Abbotts At Home",
         "Easy to follow steps for this easy DIY wall art. Acrylic Paint Pouring with a blow dryer, Dutch paint pour. Written steps and full step by step video to help you do it too! 👍",
         52000,
         "Abbotts At Home",
         "Acrylic Pouring Art,Acrylic Wall Art,Acrylic Pouring Techniques,Acrylic Paintings,Art Paintings,Marble Art,Marble Painting,Pour Painting,Large Canvas Art",
         "video",
         "https://i.pinimg.com/videos/thumbnails/originals/d5/5e/fa/d55efa6ef50d35dac425cea935f39c89.0000001.jpg",
         "/data/art",
         "art"
        ],
        [
         3800,
         "d2c367ed-9287-4ea3-b173-198b292d9981",
         "Reinforcing the Difficult Child When Token Boards Don't Work!",
         "behavior, special education, token boards, when token boards don't work, money token systems",
         11000,
         "Traci Bender - The Bender Bunch",
         "Special Education Behavior,Classroom Behavior Management,Behavior Plans,Behaviour Management,Behavior Charts,Behavior Board,Behavior Report,Behavior Analyst,Preschool Special Education",
         "image",
         "https://i.pinimg.com/originals/24/f9/e2/24f9e22ada4a79c61432ef6c8fe1d0f9.jpg",
         "/data/education",
         "education"
        ],
        [
         159,
         "841a161a-47b8-4161-884d-adeb67a28b1e",
         "Valentine's Day Bee Directed Drawing {Art Project}",
         "This bee directed drawing and associated pages will help you create a fun and creative Valentine's Day Directed Drawing Art Project activity for your class.Choose to do a painti… ",
         1000000,
         "Teachers Pay Teachers",
         "Classroom Art Projects,School Art Projects,Art Classroom,Art Projects For Kindergarteners,Spring Art Projects,Classroom Posters,Valentines Art Lessons,Valentines Day Activities,Grade 1 Art",
         "image",
         "https://i.pinimg.com/originals/49/ff/2e/49ff2e83c0cefdd37213f6084c6f0566.jpg",
         "/data/art",
         "art"
        ],
        [
         3599,
         "ff0dd945-dafa-411c-8cef-eb43e374e815",
         "Educational Leadership in Aotearoa New Zealand : Issues of Context and Social Justice",
         "This book presents 10 inspirational case studies of how centre leaders, principals and leadership teams in high-needs New Zealand educational settings have enacted leadership to… ",
         2000000,
         "Walmart",
         "Research Studies,Educational Leadership,Education System,Secondary School,Try It Free,Book Format,Social Justice,Young People,Paperback Books",
         "image",
         "https://i.pinimg.com/originals/0e/ea/c4/0eeac457780bbe43fcc5e9eaabd80f62.jpg",
         "/data/education",
         "education"
        ],
        [
         10552,
         "17301b8c-ccbb-42ad-b2df-3876df35b1cd",
         "The Prowler Emergency Response Vehicle",
         "January 23, 2009 We can see emergency responders queueing up for this one. ATVCorp has created versions of its Prowler Light Tactical All Terrain Vehicle (LTATV) for fire-fighti… ",
         314,
         "p hump",
         "Army Vehicles,Armored Vehicles,Go Kart Buggy,Atv Attachments,Aviation Fuel,Special Forces,Special Ops,Terrain Vehicle,Emergency Response",
         "image",
         "https://i.pinimg.com/originals/14/6b/6b/146b6b1a1127773f7046e08550e68ed0.jpg",
         "/data/vehicles",
         "vehicles"
        ],
        [
         1422,
         "7bbe860c-a739-4ba9-babd-feb24bb6e4d9",
         "41 Life-Saving Beauty Hacks Every Girl Should Have In Her Arsenal",
         "Might try this... I'm generally skeptical about at-home remedies, but I know baking soda and lemons both do wonders. More",
         5000000,
         "BuzzFeed",
         "Baking Soda Lemon Juice,Diy Beauté,Tips Belleza,Belleza Natural,Health And Beauty Tips,Beauty Secrets,Beauty Advice,Diy Beauty Tips,Beauty Life Hacks",
         "image",
         "https://i.pinimg.com/originals/c8/ab/af/c8abaffc56050f674eef8e65ad684929.jpg",
         "/data/beauty",
         "beauty"
        ],
        [
         5309,
         "c38bb47b-9584-4fc4-af0d-a31e1061df41",
         "How to Watch Your Favorite Shows Without Cable",
         "How to Get Rid of Cable and Still Watch all of your favorite shows! Saving Money Tips for TV & Cable!",
         330000,
         "Passion For Savings",
         "Ways To Save Money,Money Tips,Money Saving Tips,Money Hacks,Managing Money,Cable Tv Alternatives,Budget Planer,Financial Tips,Financial Planning",
         "image",
         "https://i.pinimg.com/originals/c9/18/be/c918be2784382dc49010719bf1742a61.jpg",
         "/data/finance",
         "finance"
        ],
        [
         552,
         "b82602a9-e434-42cf-9481-22f3f41d82ce",
         "The herbal bed: Katie Scott's psychedelic flora and fauna – in pictures",
         "Nike trainers sprout plants and French perfumiers inspire by mysterious scientific icons in Katie Scott’s visions that take botanical illustration into the digital age",
         908000,
         "The Guardian",
         "Art And Illustration,Illustration Inspiration,Botanical Illustration,Vintage Illustrations,Botanical Drawings,Botanical Prints,Arte Inspo,Insect Art,Psychedelic",
         "image",
         "https://i.pinimg.com/originals/16/8a/fa/168afae02d5ffc71da10cdb312de2cb1.jpg",
         "/data/art",
         "art"
        ],
        [
         1371,
         "33e92ac1-73d1-4c31-9892-d5e633060790",
         "How To Do Makeup - Step By Step Tips For The Perfect Look",
         "What are the basic things you need for makeup? Let’s be honest, ladies; all women can do makeup, yet not all women know how to do makeup right. The good news is, this post can t… ",
         799000,
         "Glaminati",
         "Contouring Makeup,Skin Makeup,Beauty Makeup,Makeup Brushes,Eyeliner Makeup,Makeup Tips Lips,Makeup 101,Cheap Makeup,Rosa Eyeliner",
         "image",
         "https://i.pinimg.com/originals/2c/1a/d4/2c1ad45b5c54034a2dbc73c84a89f5e4.jpg",
         "/data/beauty",
         "beauty"
        ],
        [
         10119,
         "40eab9ba-7812-4f26-baca-35a6bed95a9f",
         "How to Afford Family Travel: 10 Mistakes You're Making (and what to do instead) | Our Next Adventure",
         "See families traveling all the time and wonder, \"how the heck do they afford this?\" Read 10 mistakes you might be making, and what you should do instead.",
         9000,
         "OUR NEXT ADVENTURE | family travel blog",
         "Family Vacation Destinations,Vacation Trips,Travel Destinations,Vacation Ideas,Cheap Family Vacations,Vacation Travel,Best Family Vacation Spots,Vacation Quotes,Vacation Memories",
         "image",
         "https://i.pinimg.com/originals/0a/49/fb/0a49fbcec746c4219d3a6f30834f378e.jpg",
         "/data/travel",
         "travel"
        ],
        [
         9074,
         "2adede06-7fb0-4b5f-8cf9-ce8e6d6fa6a1",
         "77 Disney Tattoos To Unleash Your Magic Power - Our Mindful Life",
         "Disney characters never go out with time. From small to bold, here are the best Disney tattoos that both adults and children will adore.",
         190000,
         "Our Mindful Life",
         "Small Disney Tattoos,Disney Thigh Tattoo,Matching Disney Tattoos,Disney Couple Tattoos,Disney Inspired Tattoos,Disney Sleeve Tattoos,Matching Best Friend Tattoos,Small Tattoos,3 Best Friend Tattoos",
         "image",
         "https://i.pinimg.com/originals/29/1d/13/291d1361e275358df53c1db02b63d3a4.jpg",
         "/data/tattoos",
         "tattoos"
        ],
        [
         2604,
         "087b0fa9-f901-4262-aa0a-6caf234d1b35",
         "75+ Neutral Christmas Home Decor for the Holiday Season in Farmhouse Style using Earth Tones Modern",
         "My favorite 75+ Neutral Christmas Home Decor for decorating your house during the Holiday Season in earth tones and a farmhouse, rustic style all winter. I love this modern, sim… ",
         31000,
         "Everyday Wholesome",
         "Colorful Christmas Decorations,Colorful Christmas Tree,Christmas Centerpieces,Christmas Colors,Xmas Colors,Winter Decorations,Christmas Trends,Christmas Inspiration,Christmas Home",
         "image",
         "https://i.pinimg.com/originals/86/84/39/868439dd894969e3abd6a2a8a9fe1e9c.jpg",
         "/data/christmas",
         "christmas"
        ],
        [
         223,
         "8672f996-6ce9-403e-9599-2c4df668f1e0",
         "Easy Gouache painting",
         null,
         29000,
         "Jasminxg",
         "Simple Canvas Paintings,Easy Nature Paintings,Tree Paintings,Cool Paintings,Watercolor Art Lessons,Watercolor Paintings For Beginners,Gouache Painting,Painting Art,Mandala Art Lesson",
         "multi-video(story page format)",
         "https://i.pinimg.com/videos/thumbnails/originals/17/49/16/1749164b93866d4eac32a52a3ccfd40a.0000001.jpg",
         "/data/art",
         "art"
        ],
        [
         8312,
         "ca3c9bb0-7281-4b9b-8abf-201da0b68d62",
         "8 Vision Board Ideas To Manifest Your Dreams - TheFab20s",
         "Trying to create your dream life but don't know where to start?! These vision board ideas are a great way to manifest a new you this year",
         42000,
         "TheFab20s | Travel+Food+DIY+Listicles",
         "Positive Self Affirmations,Positive Affirmations Quotes,Affirmation Quotes,Quotes Positive,Motivational Quotes For Success Positivity,Business Success Quotes,Positive Vibes,Motivational Quotes For Women,Affirmations For Love",
         "image",
         "https://i.pinimg.com/originals/36/d1/be/36d1be632cbf9b6c8e377a052b31d064.jpg",
         "/data/quotes",
         "quotes"
        ],
        [
         2858,
         "26f81da4-26a9-465b-b819-6099bc66e1c0",
         "50 Popular Spring Crafts For Kids You Need To Make",
         "Celebrate warmer weather & spring blooms with these 50 delightful spring crafts for kids. Bright, cheerful & fun to make these crafts are a guaranteed hit.",
         108000,
         "This Tiny  Blue House",
         "Spring Crafts For Kids,Diy For Kids,Arts And Crafts For Kids Toddlers,Spring Crafts For Preschoolers,Spring Craft Preschool,Simple Kids Crafts,Summer Crafts For Toddlers,Easy Preschool Crafts,Garden Crafts For Kids",
         "image",
         "https://i.pinimg.com/originals/f0/ca/c3/f0cac3e3b0c2ebf5f2d2e4f70455e794.jpg",
         "/data/diy-and-crafts",
         "diy-and-crafts"
        ],
        [
         6261,
         "308c5c1c-1ebd-4649-be78-14424ee346b1",
         "DECORATING WITH RATTAN & CANE - Dashing Darlin'",
         "BOHEMIAN TRENDING TEXTURES FOR THE HOME ~ ROUNDED UP MY FAVORITE RATTAN & CANE HOME DECOR FINDS",
         13000,
         "Dashing Darlin' ",
         "Boho Chic Living Room,Boho Chic Entryway,Living Room Decor With White Couch,Rustic Living Rooms,Diy Living Room,Living Room Upstairs,Rustic Room,Bohemian Living,Living Room Inspiration",
         "image",
         "https://i.pinimg.com/originals/24/89/f7/2489f76f98cb3c1189848ddc42f2ec52.jpg",
         "/data/home-decor",
         "home-decor"
        ],
        [
         3201,
         "6370f096-f344-49c3-a6b1-3072c537a953",
         "DIY Pom Pom Letters for MOM!",
         "Marla Meridith - DIY Pom Pom Letters for MOM!",
         671000,
         "Marla Meridith",
         "Kids Crafts,Crafts To Make,Craft Projects,Arts And Crafts,Craft Ideas,Pom Pom Crafts,Yarn Crafts,Flower Crafts,Diy Flower",
         "image",
         "https://i.pinimg.com/originals/db/c6/98/dbc69818c531e28ee514aaaec377257d.jpg",
         "/data/diy-and-crafts",
         "diy-and-crafts"
        ],
        [
         2637,
         "b18e8d38-eb45-40c0-b443-4fca250df850",
         "Marco Boho",
         null,
         66000,
         "El blog amarillo",
         "Diy Craft Projects,Diy Crafts For Home Decor,Diy And Crafts Sewing,Diy Wall Decor,Creative Crafts,Fun Crafts,Paper Crafts,Sewing Diy,Diy Wall Art",
         "multi-video(story page format)",
         "https://i.pinimg.com/videos/thumbnails/originals/b6/ab/28/b6ab28752f2804d71a3993565ba89308.0000001.jpg",
         "/data/diy-and-crafts",
         "diy-and-crafts"
        ],
        [
         1198,
         "1a90caac-f5df-4a27-821b-0fb4be678542",
         "The End of the Skin-Care Craze",
         "In the face of a pandemic, economic collapse, and climate change, Instagram photos of shelves crowded with skin-care products appear out of",
         20,
         "Mccready-romero",
         "Care Organization,Bathroom Organisation,Medicine Organization,Beauty Care,Beauty Skin,Elle Ferguson,Shelfie,Makeup Storage,Beauty Room",
         "image",
         "https://i.pinimg.com/originals/a3/d0/29/a3d029500020cc9c9c44f97c60dbc515.png",
         "/data/beauty",
         "beauty"
        ],
        [
         10370,
         "746948e7-a216-456b-8de7-7fee7312012c",
         "Joshua Tree - A Weekend in the Desert with Faithfull | Song of Style",
         "Aimee Song of the blog Song of Style shares a photo diary of her weekend in the Joshua Tree desert with Faithfull the Brand. Photos by Grant Legan.",
         1000,
         "Maggie Panning",
         "Pretty Cars,Cute Cars,Classy Cars,Sexy Cars,Dream Cars,My Dream Car,Carros Retro,Ford Classic Cars,Ford Mustang Classic",
         "image",
         "https://i.pinimg.com/originals/11/1e/c3/111ec37eed198cb432f71b20afd0e770.jpg",
         "/data/vehicles",
         "vehicles"
        ]
       ],
       "datasetInfos": [],
       "dbfsResultPath": null,
       "isJsonSchema": true,
       "metadata": {},
       "overflow": false,
       "plotOptions": {
        "customPlotOptions": {},
        "displayType": "table",
        "pivotAggregation": null,
        "pivotColumns": null,
        "xColumns": null,
        "yColumns": null
       },
       "removedWidgets": [],
       "schema": [
        {
         "metadata": "{}",
         "name": "ind",
         "type": "\"integer\""
        },
        {
         "metadata": "{}",
         "name": "unique_id",
         "type": "\"string\""
        },
        {
         "metadata": "{}",
         "name": "title",
         "type": "\"string\""
        },
        {
         "metadata": "{}",
         "name": "description",
         "type": "\"string\""
        },
        {
         "metadata": "{}",
         "name": "follower_count",
         "type": "\"integer\""
        },
        {
         "metadata": "{}",
         "name": "poster_name",
         "type": "\"string\""
        },
        {
         "metadata": "{}",
         "name": "tag_list",
         "type": "\"string\""
        },
        {
         "metadata": "{}",
         "name": "is_image_or_video",
         "type": "\"string\""
        },
        {
         "metadata": "{}",
         "name": "image_src",
         "type": "\"string\""
        },
        {
         "metadata": "{}",
         "name": "save_location",
         "type": "\"string\""
        },
        {
         "metadata": "{}",
         "name": "category",
         "type": "\"string\""
        }
       ],
       "type": "table"
      }
     },
     "output_type": "display_data"
    }
   ],
   "source": [
    "from pyspark.sql import *\n",
    "from pyspark.sql.types import *\n",
    "\n",
    "\n",
    "#Load the kinesis data from stream to databricks\n",
    "\n",
    "df_pin = spark \\\n",
    ".readStream \\\n",
    ".format('kinesis') \\\n",
    ".option('streamName','streaming-12ffc5aba733-pin') \\\n",
    ".option('initialPosition','latest') \\\n",
    ".option('region','us-east-1') \\\n",
    ".option('awsAccessKey', ACCESS_KEY) \\\n",
    ".option('awsSecretKey', SECRET_KEY) \\\n",
    ".load()\n",
    "df_pin = df_pin.selectExpr(\"CAST(data as STRING)\")\n",
    "\n",
    "#Creation of schema to convert and parse.\n",
    "\n",
    "schema = StructType([\n",
    "    StructField(\"index\", StringType(), True),\n",
    "    StructField(\"unique_id\", StringType(), True),\n",
    "    StructField(\"title\", StringType(), True),\n",
    "    StructField(\"description\", StringType(), True),\n",
    "    StructField(\"poster_name\", StringType(), True),\n",
    "    StructField(\"follower_count\", StringType(), True),  \n",
    "    StructField(\"tag_list\", StringType(), True),\n",
    "    StructField(\"is_image_or_video\", StringType(), True),\n",
    "    StructField(\"image_src\", StringType(), True),\n",
    "    StructField(\"downloaded\", LongType(), True),  \n",
    "    StructField(\"save_location\", StringType(), True),\n",
    "    StructField(\"category\", StringType(), True)\n",
    "])\n",
    "\n",
    "#Parse data into a table from a JSON string via the schema. \n",
    "\n",
    "df_pin = df_pin.withColumn(\"jsonData\", from_json(col(\"data\").cast(\"string\"), schema))\n",
    "\n",
    "#Rename columns\n",
    "\n",
    "df_pin_kinesis = df_pin.select(\n",
    "    col(\"jsonData.index\").alias(\"index\"),\n",
    "    col(\"jsonData.unique_id\").alias(\"unique_id\"),\n",
    "    col(\"jsonData.title\").alias(\"title\"),\n",
    "    col(\"jsonData.description\").alias(\"description\"),\n",
    "    col(\"jsonData.poster_name\").alias(\"poster_name\"),\n",
    "    col(\"jsonData.follower_count\").alias(\"follower_count\"),\n",
    "    col(\"jsonData.tag_list\").alias(\"tag_list\"),\n",
    "    col(\"jsonData.is_image_or_video\").alias(\"is_image_or_video\"),\n",
    "    col(\"jsonData.image_src\").alias(\"image_src\"),\n",
    "    col(\"jsonData.downloaded\").alias(\"downloaded\"),\n",
    "    col(\"jsonData.save_location\").alias(\"save_location\"),\n",
    "    col(\"jsonData.category\").alias(\"category\")\n",
    ")\n",
    "\n",
    "# Replace empty entries or invalid data with None\n",
    "\n",
    "df_pin_cleaned = df_pin_kinesis.replace([\"\", \"N/A\",\"User Info Error\", \"No description available Story format\", \"Image src error\",\"N,o, ,T,a,g,s, ,A,v,a,i,l,a,b,l,e\", \"No Title Data Available\",], None)\n",
    "\n",
    "# Clean and cast to IntegerType\n",
    "df_pin_cleaned = df_pin_cleaned.withColumn(\"follower_count\", regexp_replace(col(\"follower_count\"), \" \", \"\"))\n",
    "df_pin_cleaned = df_pin_cleaned.withColumn(\"follower_count\",\n",
    "    when(col(\"follower_count\").contains(\"k\"), \n",
    "         regexp_replace(col(\"follower_count\"), \"k\", \"\").cast(\"float\") * 1000)\n",
    "    .when(col(\"follower_count\").contains(\"m\"), \n",
    "         regexp_replace(col(\"follower_count\"), \"m\", \"\").cast(\"float\") * 1000000)\n",
    "    .when(col(\"follower_count\").contains(\"M\"), \n",
    "         regexp_replace(col(\"follower_count\"), \"M\", \"\").cast(\"float\") * 1000000)\n",
    "    .otherwise(col(\"follower_count\").cast(\"float\"))\n",
    ")\n",
    "\n",
    "df_pin_cleaned = df_pin_cleaned.withColumn(\"follower_count\", col(\"follower_count\").cast(\"int\"))\n",
    "\n",
    "\n",
    "# More cleaning\n",
    "df_pin_cleaned = df_pin_cleaned.withColumn(\"downloaded\", col(\"downloaded\").cast(IntegerType()))\n",
    "df_pin_cleaned = df_pin_cleaned.withColumn(\"index\", col(\"index\").cast(IntegerType()))\n",
    "\n",
    "df_pin_cleaned = df_pin_cleaned.withColumn(\"save_location\", split(col(\"save_location\"), \" \").getItem(3))\n",
    "                \n",
    "df_pin_cleaned = df_pin_cleaned.withColumnRenamed(\"index\", \"ind\")\n",
    "\n",
    "df_pin_cleaned = df_pin_cleaned.select(\"ind\", \"unique_id\", \"title\", \"description\", \n",
    "                                       \"follower_count\", \"poster_name\", \"tag_list\", \n",
    "                                       \"is_image_or_video\", \"image_src\", \"save_location\", \"category\")\n",
    "display(df_pin_cleaned)\n",
    "\n",
    "#Write to delta table\n",
    "\n",
    "df_pin_cleaned.writeStream \\\n",
    "  .format(\"delta\") \\\n",
    "  .outputMode(\"append\") \\\n",
    "  .option(\"checkpointLocation\", \"/tmp/kinesis/_checkpoints/\") \\\n",
    "  .table(\"12ffc5aba733_pin_table\")\n"
   ]
  },
  {
   "cell_type": "code",
   "execution_count": 0,
   "metadata": {
    "application/vnd.databricks.v1+cell": {
     "cellMetadata": {
      "byteLimit": 2048000,
      "rowLimit": 10000
     },
     "inputWidgets": {},
     "nuid": "e5cb0d14-0ef8-4509-8939-949b4078d7d3",
     "showTitle": false,
     "title": ""
    }
   },
   "outputs": [
    {
     "output_type": "display_data",
     "data": {
      "text/html": [
       "<style scoped>\n",
       "  .table-result-container {\n",
       "    max-height: 300px;\n",
       "    overflow: auto;\n",
       "  }\n",
       "  table, th, td {\n",
       "    border: 1px solid black;\n",
       "    border-collapse: collapse;\n",
       "  }\n",
       "  th, td {\n",
       "    padding: 5px;\n",
       "  }\n",
       "  th {\n",
       "    text-align: left;\n",
       "  }\n",
       "</style><div class='table-result-container'><table class='table-result'><thead style='background-color: white'><tr><th>ind</th><th>user_name</th><th>age</th><th>date_joined</th></tr></thead><tbody><tr><td>5162</td><td>James Jacobson</td><td>28</td><td>2017-04-30T16:41:26.000+0000</td></tr><tr><td>5151</td><td>Mary Jordan</td><td>26</td><td>2017-06-12T16:02:59.000+0000</td></tr><tr><td>2498</td><td>Jeremy Chase</td><td>50</td><td>2017-07-31T16:56:52.000+0000</td></tr><tr><td>7268</td><td>Alejandra Acevedo</td><td>20</td><td>2015-11-24T21:01:23.000+0000</td></tr><tr><td>3351</td><td>Eric Taylor</td><td>39</td><td>2017-04-04T06:05:03.000+0000</td></tr><tr><td>7738</td><td>Alexis George</td><td>34</td><td>2016-02-26T00:38:01.000+0000</td></tr><tr><td>8886</td><td>Abigail Bates</td><td>20</td><td>2015-11-07T20:59:32.000+0000</td></tr><tr><td>5742</td><td>Barbara Edwards</td><td>24</td><td>2016-01-09T19:37:29.000+0000</td></tr><tr><td>1362</td><td>Nancy Case</td><td>23</td><td>2016-02-18T08:44:33.000+0000</td></tr><tr><td>995</td><td>Jason Horne</td><td>27</td><td>2016-02-06T15:31:57.000+0000</td></tr><tr><td>6250</td><td>Lydia Nelson</td><td>59</td><td>2016-09-06T06:21:57.000+0000</td></tr><tr><td>3184</td><td>Allison Dawson</td><td>35</td><td>2016-02-04T14:45:39.000+0000</td></tr><tr><td>2955</td><td>Kevin Young</td><td>58</td><td>2016-09-18T07:28:19.000+0000</td></tr><tr><td>4357</td><td>Allison Adams</td><td>22</td><td>2015-11-30T10:51:59.000+0000</td></tr><tr><td>3563</td><td>Gerald Davis</td><td>55</td><td>2017-08-11T14:24:41.000+0000</td></tr><tr><td>6558</td><td>Gary Tanner</td><td>43</td><td>2016-11-29T22:22:47.000+0000</td></tr><tr><td>4256</td><td>Alexandria Alvarado</td><td>20</td><td>2015-10-23T04:13:23.000+0000</td></tr><tr><td>450</td><td>Amanda Benitez</td><td>21</td><td>2015-11-01T09:16:18.000+0000</td></tr><tr><td>3945</td><td>Beth Johnson</td><td>30</td><td>2015-11-29T15:45:13.000+0000</td></tr><tr><td>859</td><td>Scott Page</td><td>44</td><td>2015-10-31T14:35:30.000+0000</td></tr><tr><td>1521</td><td>Mindy Garrison</td><td>29</td><td>2016-02-18T23:18:39.000+0000</td></tr><tr><td>1961</td><td>Adrienne Barrett</td><td>22</td><td>2015-11-04T15:48:14.000+0000</td></tr><tr><td>10099</td><td>Amanda Carlson</td><td>21</td><td>2015-11-23T09:01:37.000+0000</td></tr><tr><td>6066</td><td>Angela Flores</td><td>28</td><td>2015-10-29T08:51:34.000+0000</td></tr><tr><td>10837</td><td>Mark Richardson</td><td>55</td><td>2015-11-18T05:46:35.000+0000</td></tr><tr><td>6615</td><td>Barry West</td><td>44</td><td>2016-08-13T21:13:14.000+0000</td></tr><tr><td>7641</td><td>Aaron Anderson</td><td>21</td><td>2015-10-24T05:35:27.000+0000</td></tr><tr><td>640</td><td>Aaron Anderson</td><td>21</td><td>2015-10-24T05:35:27.000+0000</td></tr><tr><td>8174</td><td>Andrew Brown</td><td>25</td><td>2016-03-26T04:30:23.000+0000</td></tr><tr><td>1216</td><td>Juan Cortez</td><td>20</td><td>2016-04-07T13:02:08.000+0000</td></tr><tr><td>680</td><td>Diana Ballard</td><td>23</td><td>2017-01-12T11:17:31.000+0000</td></tr><tr><td>9527</td><td>Vernon Brown</td><td>55</td><td>2017-08-04T01:04:25.000+0000</td></tr><tr><td>9426</td><td>Nicholas Mcdaniel</td><td>45</td><td>2017-05-24T01:41:26.000+0000</td></tr><tr><td>8745</td><td>Grant Villanueva</td><td>53</td><td>2016-02-14T19:17:10.000+0000</td></tr><tr><td>5959</td><td>Jason Brooks</td><td>28</td><td>2015-12-21T00:33:51.000+0000</td></tr><tr><td>2577</td><td>Amy Adams</td><td>20</td><td>2015-10-24T05:05:28.000+0000</td></tr><tr><td>3008</td><td>Scott Houston</td><td>58</td><td>2016-10-22T16:08:50.000+0000</td></tr><tr><td>8081</td><td>Carmen Taylor</td><td>40</td><td>2016-08-02T19:06:12.000+0000</td></tr><tr><td>10120</td><td>Jacob Baird</td><td>24</td><td>2016-02-25T08:52:45.000+0000</td></tr><tr><td>4045</td><td>Amanda Allen</td><td>21</td><td>2015-11-16T23:15:00.000+0000</td></tr><tr><td>1599</td><td>Linda Rojas</td><td>42</td><td>2017-01-31T05:08:14.000+0000</td></tr><tr><td>2893</td><td>Nancy Choi</td><td>50</td><td>2016-07-27T16:22:59.000+0000</td></tr><tr><td>4024</td><td>Adam Armstrong</td><td>20</td><td>2015-12-17T08:43:40.000+0000</td></tr><tr><td>310</td><td>Amanda Benitez</td><td>21</td><td>2015-11-01T09:16:18.000+0000</td></tr><tr><td>7905</td><td>Anthony Duncan</td><td>47</td><td>2016-01-01T03:57:19.000+0000</td></tr><tr><td>5488</td><td>Heather Edwards</td><td>33</td><td>2016-01-16T18:25:10.000+0000</td></tr><tr><td>744</td><td>Brian Lloyd</td><td>38</td><td>2016-12-15T07:06:03.000+0000</td></tr><tr><td>7801</td><td>Nancy Clay</td><td>36</td><td>2016-01-12T18:33:12.000+0000</td></tr><tr><td>5620</td><td>Daniel Anderson</td><td>20</td><td>2017-02-10T13:39:15.000+0000</td></tr><tr><td>8341</td><td>Amber Robinson</td><td>31</td><td>2016-09-05T14:41:44.000+0000</td></tr><tr><td>10022</td><td>Alyssa Greene</td><td>50</td><td>2017-05-03T07:29:04.000+0000</td></tr><tr><td>6134</td><td>Jacob Baker</td><td>33</td><td>2015-11-29T07:33:20.000+0000</td></tr><tr><td>3824</td><td>Aaron Berry</td><td>28</td><td>2016-04-12T03:40:13.000+0000</td></tr><tr><td>7116</td><td>Michael Mcconnell</td><td>59</td><td>2017-06-01T10:55:10.000+0000</td></tr><tr><td>74</td><td>Amanda Benitez</td><td>21</td><td>2015-11-01T09:16:18.000+0000</td></tr><tr><td>1335</td><td>Benjamin Campbell</td><td>20</td><td>2015-11-16T13:25:08.000+0000</td></tr><tr><td>4513</td><td>Charlotte Pitts</td><td>60</td><td>2017-07-18T11:50:18.000+0000</td></tr><tr><td>7850</td><td>Joseph Kelly</td><td>44</td><td>2017-09-28T16:41:00.000+0000</td></tr><tr><td>10248</td><td>Elizabeth English</td><td>25</td><td>2016-08-19T02:29:26.000+0000</td></tr><tr><td>8123</td><td>Courtney Chung</td><td>46</td><td>2016-05-11T23:09:30.000+0000</td></tr><tr><td>2987</td><td>Charles Robinson</td><td>41</td><td>2015-12-22T01:36:15.000+0000</td></tr><tr><td>1487</td><td>Jonathan Rodriguez</td><td>30</td><td>2016-09-05T12:31:44.000+0000</td></tr><tr><td>10052</td><td>Jamie Bryant</td><td>20</td><td>2017-06-17T20:00:37.000+0000</td></tr><tr><td>8677</td><td>Amy Brown</td><td>21</td><td>2015-11-08T16:14:16.000+0000</td></tr><tr><td>5551</td><td>Christina Haas</td><td>25</td><td>2016-02-14T18:52:16.000+0000</td></tr><tr><td>6652</td><td>Heather Arellano</td><td>23</td><td>2016-01-02T03:36:30.000+0000</td></tr><tr><td>6479</td><td>Debra Morse</td><td>48</td><td>2016-09-12T23:54:34.000+0000</td></tr><tr><td>6660</td><td>Maria Davidson</td><td>28</td><td>2016-04-22T05:55:48.000+0000</td></tr><tr><td>9218</td><td>April Barr</td><td>26</td><td>2016-02-06T19:00:11.000+0000</td></tr><tr><td>4055</td><td>Grant George</td><td>27</td><td>2015-11-11T01:45:05.000+0000</td></tr><tr><td>7370</td><td>James Keith</td><td>42</td><td>2017-07-02T17:25:18.000+0000</td></tr><tr><td>25</td><td>Amber Gray</td><td>24</td><td>2017-07-01T07:56:15.000+0000</td></tr><tr><td>6939</td><td>Erin Thompson</td><td>35</td><td>2016-10-21T03:38:15.000+0000</td></tr><tr><td>7383</td><td>Dawn Bradley</td><td>20</td><td>2016-08-26T16:09:52.000+0000</td></tr><tr><td>3240</td><td>April Brown</td><td>20</td><td>2016-04-10T02:39:57.000+0000</td></tr><tr><td>8015</td><td>Danielle Klein</td><td>38</td><td>2016-04-11T08:54:04.000+0000</td></tr><tr><td>7745</td><td>Aaron Abbott</td><td>20</td><td>2015-10-23T16:08:41.000+0000</td></tr><tr><td>3360</td><td>Amber Casey</td><td>23</td><td>2016-01-06T12:22:08.000+0000</td></tr><tr><td>6380</td><td>Matthew Newman</td><td>41</td><td>2016-04-03T05:17:47.000+0000</td></tr><tr><td>409</td><td>Alfred Chen</td><td>24</td><td>2016-07-01T16:11:59.000+0000</td></tr><tr><td>1814</td><td>Brian Hansen</td><td>31</td><td>2016-01-30T13:25:52.000+0000</td></tr><tr><td>2343</td><td>James Graves</td><td>43</td><td>2016-01-21T09:41:10.000+0000</td></tr><tr><td>7759</td><td>Aaron Alexander</td><td>21</td><td>2015-10-25T07:36:08.000+0000</td></tr><tr><td>6717</td><td>Elizabeth Green</td><td>20</td><td>2016-06-21T10:08:09.000+0000</td></tr><tr><td>4862</td><td>Jacob Castro</td><td>23</td><td>2016-10-03T21:44:53.000+0000</td></tr><tr><td>6299</td><td>Jeffrey Gordon</td><td>57</td><td>2017-01-06T20:27:48.000+0000</td></tr><tr><td>9425</td><td>Katrina Fischer</td><td>47</td><td>2017-05-10T22:51:14.000+0000</td></tr><tr><td>1901</td><td>Michelle Richardson</td><td>44</td><td>2016-12-18T16:05:39.000+0000</td></tr><tr><td>527</td><td>Carlos Dixon</td><td>24</td><td>2015-11-09T03:47:45.000+0000</td></tr><tr><td>334</td><td>Cindy Morales</td><td>43</td><td>2016-09-01T18:15:56.000+0000</td></tr><tr><td>6348</td><td>Mark Brown</td><td>23</td><td>2016-07-24T20:27:24.000+0000</td></tr><tr><td>3626</td><td>Amanda Allen</td><td>21</td><td>2015-11-16T23:15:00.000+0000</td></tr><tr><td>1857</td><td>Christopher Hamilton</td><td>48</td><td>2016-02-27T16:57:44.000+0000</td></tr><tr><td>3660</td><td>Adrian Jackson</td><td>28</td><td>2016-04-30T10:03:19.000+0000</td></tr><tr><td>4377</td><td>Samuel Thompson</td><td>24</td><td>2017-04-08T10:18:26.000+0000</td></tr><tr><td>8505</td><td>Sandra Humphrey</td><td>41</td><td>2017-04-16T22:40:56.000+0000</td></tr><tr><td>10087</td><td>Danny Ramsey</td><td>22</td><td>2016-07-03T13:53:31.000+0000</td></tr><tr><td>10050</td><td>Carla Arnold</td><td>34</td><td>2015-12-20T18:05:14.000+0000</td></tr><tr><td>10917</td><td>Valerie Rodriguez</td><td>31</td><td>2016-07-30T01:45:47.000+0000</td></tr><tr><td>5737</td><td>Alexis Bell</td><td>20</td><td>2015-11-23T06:34:47.000+0000</td></tr><tr><td>4561</td><td>Madeline Brown</td><td>43</td><td>2016-11-11T15:53:15.000+0000</td></tr><tr><td>6916</td><td>Steven Dixon</td><td>44</td><td>2016-10-17T08:09:28.000+0000</td></tr><tr><td>6341</td><td>Barbara Duran</td><td>22</td><td>2016-11-07T11:01:26.000+0000</td></tr><tr><td>4765</td><td>Danielle Gonzalez</td><td>36</td><td>2017-02-16T16:01:34.000+0000</td></tr><tr><td>10425</td><td>Andrea Carroll</td><td>20</td><td>2016-01-21T03:54:20.000+0000</td></tr><tr><td>10783</td><td>Jane Aguilar</td><td>32</td><td>2016-03-02T01:25:48.000+0000</td></tr><tr><td>6747</td><td>Matthew Simon</td><td>58</td><td>2017-06-17T04:42:14.000+0000</td></tr><tr><td>7180</td><td>Shannon Melton</td><td>26</td><td>2017-06-07T23:07:30.000+0000</td></tr><tr><td>8100</td><td>Aaron Abbott</td><td>20</td><td>2015-10-23T16:08:41.000+0000</td></tr><tr><td>4781</td><td>Cynthia Guerra</td><td>29</td><td>2016-12-25T23:51:01.000+0000</td></tr><tr><td>1254</td><td>Patricia Harvey</td><td>41</td><td>2017-09-25T07:22:09.000+0000</td></tr><tr><td>2011</td><td>Adam Anderson</td><td>34</td><td>2016-03-14T20:42:08.000+0000</td></tr><tr><td>3436</td><td>Charles Johnson</td><td>25</td><td>2015-12-07T02:19:50.000+0000</td></tr><tr><td>4424</td><td>Aaron Buchanan</td><td>23</td><td>2016-01-17T21:06:05.000+0000</td></tr><tr><td>649</td><td>Jill Gilmore</td><td>29</td><td>2017-01-13T08:26:21.000+0000</td></tr><tr><td>8645</td><td>Alexander Clark</td><td>21</td><td>2016-02-16T17:03:44.000+0000</td></tr><tr><td>5647</td><td>Calvin Atkins</td><td>27</td><td>2016-08-31T20:20:25.000+0000</td></tr><tr><td>5704</td><td>David Craig</td><td>30</td><td>2016-01-30T06:09:57.000+0000</td></tr><tr><td>10734</td><td>Jennifer Arellano</td><td>28</td><td>2015-12-18T10:50:10.000+0000</td></tr><tr><td>4027</td><td>Alexander Bailey</td><td>20</td><td>2015-12-05T21:04:46.000+0000</td></tr><tr><td>8488</td><td>Andrew Anderson</td><td>23</td><td>2015-11-28T11:52:37.000+0000</td></tr><tr><td>5166</td><td>Amy Caldwell</td><td>33</td><td>2015-11-12T14:10:39.000+0000</td></tr><tr><td>5130</td><td>Linda Blackwell</td><td>20</td><td>2015-12-11T03:23:37.000+0000</td></tr><tr><td>1675</td><td>Barbara Ford</td><td>50</td><td>2015-12-30T08:56:15.000+0000</td></tr><tr><td>10931</td><td>Aaron Bailey</td><td>20</td><td>2015-11-02T04:40:42.000+0000</td></tr><tr><td>7240</td><td>Abigail Ali</td><td>20</td><td>2015-10-24T11:23:51.000+0000</td></tr><tr><td>3831</td><td>Alexandria Alvarado</td><td>20</td><td>2015-10-23T04:13:23.000+0000</td></tr><tr><td>5527</td><td>Brian Herman</td><td>32</td><td>2016-02-19T01:20:00.000+0000</td></tr><tr><td>6496</td><td>Cindy Bennett</td><td>26</td><td>2016-01-03T06:10:45.000+0000</td></tr><tr><td>7670</td><td>Aaron Abbott</td><td>20</td><td>2015-10-23T16:08:41.000+0000</td></tr><tr><td>6602</td><td>Alexandria Anderson</td><td>23</td><td>2015-10-31T19:20:09.000+0000</td></tr><tr><td>10804</td><td>Stacy May</td><td>58</td><td>2016-06-21T11:33:31.000+0000</td></tr><tr><td>10371</td><td>Lori Campos</td><td>48</td><td>2016-04-26T11:49:56.000+0000</td></tr><tr><td>10160</td><td>Cameron Medina</td><td>20</td><td>2016-06-02T03:51:43.000+0000</td></tr><tr><td>4654</td><td>Nathan Howard</td><td>37</td><td>2016-03-06T21:35:04.000+0000</td></tr><tr><td>7940</td><td>Andrew Arnold</td><td>21</td><td>2015-12-02T08:29:10.000+0000</td></tr><tr><td>9198</td><td>Amber Chen</td><td>22</td><td>2015-12-30T05:21:14.000+0000</td></tr><tr><td>9475</td><td>Jessica Mejia</td><td>40</td><td>2016-01-03T12:03:05.000+0000</td></tr><tr><td>501</td><td>Adam Acosta</td><td>20</td><td>2015-10-21T21:26:45.000+0000</td></tr><tr><td>10204</td><td>Heather Gonzalez</td><td>41</td><td>2016-06-14T11:16:18.000+0000</td></tr><tr><td>9185</td><td>Scott Copeland</td><td>25</td><td>2017-10-18T06:45:02.000+0000</td></tr><tr><td>7896</td><td>Andrew Alvarez</td><td>21</td><td>2015-11-10T12:55:13.000+0000</td></tr><tr><td>8448</td><td>Joseph Church</td><td>31</td><td>2017-04-29T03:22:38.000+0000</td></tr><tr><td>456</td><td>Amber Cervantes</td><td>25</td><td>2016-05-09T16:38:08.000+0000</td></tr><tr><td>2315</td><td>Ashley Briggs</td><td>38</td><td>2015-11-15T16:53:09.000+0000</td></tr><tr><td>9734</td><td>Jennifer Kaiser</td><td>30</td><td>2015-11-24T03:29:52.000+0000</td></tr><tr><td>5724</td><td>Matthew Walker</td><td>57</td><td>2015-12-07T08:51:53.000+0000</td></tr><tr><td>6976</td><td>Andrea Beasley</td><td>23</td><td>2015-11-10T10:26:14.000+0000</td></tr><tr><td>9502</td><td>Brian Barnes</td><td>29</td><td>2015-11-01T23:09:37.000+0000</td></tr><tr><td>2048</td><td>Ann Chung</td><td>22</td><td>2015-11-18T23:11:15.000+0000</td></tr><tr><td>1341</td><td>Abigail Ali</td><td>20</td><td>2015-10-24T11:23:51.000+0000</td></tr><tr><td>2553</td><td>Bonnie Estrada</td><td>30</td><td>2015-10-21T07:31:00.000+0000</td></tr><tr><td>2810</td><td>Brandi Cervantes</td><td>35</td><td>2016-05-31T01:40:44.000+0000</td></tr><tr><td>9155</td><td>Aaron Alexander</td><td>21</td><td>2015-10-25T07:36:08.000+0000</td></tr><tr><td>7448</td><td>Brenda Gonzalez</td><td>56</td><td>2015-12-07T11:53:35.000+0000</td></tr><tr><td>1173</td><td>Dana Jackson</td><td>57</td><td>2016-06-05T21:37:09.000+0000</td></tr><tr><td>1631</td><td>Lauren Powell</td><td>30</td><td>2016-05-22T08:40:37.000+0000</td></tr><tr><td>8090</td><td>Aaron Abbott</td><td>20</td><td>2015-10-23T16:08:41.000+0000</td></tr><tr><td>7511</td><td>Sarah Valenzuela</td><td>54</td><td>2016-12-08T15:53:57.000+0000</td></tr><tr><td>8996</td><td>Aaron Alexander</td><td>21</td><td>2015-10-25T07:36:08.000+0000</td></tr><tr><td>9335</td><td>Amanda Adams</td><td>20</td><td>2015-10-21T08:27:36.000+0000</td></tr><tr><td>1139</td><td>Jeffrey Smith</td><td>30</td><td>2016-10-26T06:53:14.000+0000</td></tr><tr><td>7437</td><td>Alvin Adams</td><td>20</td><td>2016-01-01T13:50:40.000+0000</td></tr><tr><td>5198</td><td>James Sharp</td><td>23</td><td>2016-10-21T08:22:24.000+0000</td></tr><tr><td>9407</td><td>Amy Andrews</td><td>23</td><td>2015-10-29T19:12:55.000+0000</td></tr><tr><td>8926</td><td>Tyler Davis</td><td>27</td><td>2016-06-14T18:48:59.000+0000</td></tr><tr><td>8592</td><td>Alicia Benjamin</td><td>27</td><td>2015-12-10T18:40:42.000+0000</td></tr><tr><td>1503</td><td>Anthony Bryan</td><td>22</td><td>2015-10-24T15:35:59.000+0000</td></tr><tr><td>7162</td><td>Alan Davis</td><td>34</td><td>2016-04-25T01:45:51.000+0000</td></tr><tr><td>4780</td><td>Kristina King</td><td>34</td><td>2015-12-17T06:10:31.000+0000</td></tr><tr><td>10020</td><td>Christopher Hawkins</td><td>45</td><td>2016-09-15T06:02:53.000+0000</td></tr><tr><td>365</td><td>Kevin Torres</td><td>51</td><td>2016-08-07T18:45:21.000+0000</td></tr><tr><td>2975</td><td>Debbie Crawford</td><td>23</td><td>2016-04-04T04:03:32.000+0000</td></tr><tr><td>6865</td><td>Monica Hernandez</td><td>33</td><td>2016-04-01T13:54:42.000+0000</td></tr><tr><td>10538</td><td>Jordan Grant</td><td>42</td><td>2016-07-29T00:56:59.000+0000</td></tr><tr><td>4249</td><td>Alexandria Alvarado</td><td>20</td><td>2015-10-23T04:13:23.000+0000</td></tr><tr><td>1514</td><td>Michael Perkins</td><td>40</td><td>2017-06-28T16:17:39.000+0000</td></tr><tr><td>7467</td><td>Donna Carroll</td><td>21</td><td>2016-02-02T12:25:05.000+0000</td></tr><tr><td>10029</td><td>Anthony Baker</td><td>20</td><td>2015-11-14T19:24:56.000+0000</td></tr><tr><td>3813</td><td>James Green</td><td>47</td><td>2016-04-27T16:02:10.000+0000</td></tr><tr><td>637</td><td>Alexis Carrillo</td><td>24</td><td>2016-01-03T01:10:04.000+0000</td></tr><tr><td>9270</td><td>Amy Brown</td><td>21</td><td>2015-11-08T16:14:16.000+0000</td></tr><tr><td>1667</td><td>Bernard Arnold</td><td>21</td><td>2015-12-12T01:39:29.000+0000</td></tr><tr><td>3032</td><td>Anthony Chen</td><td>24</td><td>2016-06-15T12:49:30.000+0000</td></tr><tr><td>4</td><td>Adam Acosta</td><td>20</td><td>2015-10-21T21:26:45.000+0000</td></tr><tr><td>6809</td><td>Andrea Carroll</td><td>20</td><td>2016-01-21T03:54:20.000+0000</td></tr><tr><td>10883</td><td>Carl Hampton</td><td>25</td><td>2015-11-26T03:43:03.000+0000</td></tr><tr><td>5091</td><td>Samantha Hall</td><td>27</td><td>2017-04-27T09:48:22.000+0000</td></tr><tr><td>1170</td><td>Stacey Stewart</td><td>24</td><td>2017-03-24T10:12:14.000+0000</td></tr><tr><td>10321</td><td>Andrea Burke</td><td>20</td><td>2015-12-12T11:20:08.000+0000</td></tr><tr><td>9014</td><td>Luke Carter</td><td>37</td><td>2016-01-13T20:19:57.000+0000</td></tr><tr><td>1643</td><td>Claire Leonard</td><td>45</td><td>2016-03-18T23:34:56.000+0000</td></tr><tr><td>10137</td><td>Daniel Matthews</td><td>34</td><td>2016-01-23T03:59:37.000+0000</td></tr><tr><td>1611</td><td>Erik Martinez</td><td>40</td><td>2017-03-08T06:03:20.000+0000</td></tr><tr><td>9550</td><td>John Foster</td><td>32</td><td>2016-06-10T15:27:19.000+0000</td></tr><tr><td>857</td><td>Andrew Burke</td><td>20</td><td>2015-11-14T17:38:31.000+0000</td></tr><tr><td>6575</td><td>Devon Waller</td><td>38</td><td>2016-03-11T13:19:05.000+0000</td></tr><tr><td>8237</td><td>Aaron Abbott</td><td>20</td><td>2015-10-23T16:08:41.000+0000</td></tr><tr><td>3644</td><td>Angela Hall</td><td>27</td><td>2016-02-22T03:37:09.000+0000</td></tr><tr><td>4949</td><td>Colin Clayton</td><td>46</td><td>2016-11-18T10:00:53.000+0000</td></tr><tr><td>1024</td><td>Jason Martin</td><td>53</td><td>2016-06-07T07:09:02.000+0000</td></tr><tr><td>6170</td><td>Eric Gonzalez</td><td>36</td><td>2016-07-31T17:22:08.000+0000</td></tr><tr><td>91</td><td>Darryl Baker</td><td>29</td><td>2016-02-26T03:45:09.000+0000</td></tr><tr><td>5395</td><td>Leah Franco</td><td>36</td><td>2017-04-01T04:04:00.000+0000</td></tr><tr><td>9146</td><td>Andrew Anderson</td><td>23</td><td>2015-11-28T11:52:37.000+0000</td></tr><tr><td>7484</td><td>Jason Herrera</td><td>40</td><td>2016-10-21T21:15:50.000+0000</td></tr><tr><td>2759</td><td>Anthony Chen</td><td>24</td><td>2016-06-15T12:49:30.000+0000</td></tr><tr><td>9355</td><td>Elizabeth Johnson</td><td>33</td><td>2016-12-09T23:34:15.000+0000</td></tr><tr><td>6019</td><td>Heather Russell</td><td>44</td><td>2017-09-17T22:18:59.000+0000</td></tr><tr><td>4922</td><td>Abigail Barry</td><td>21</td><td>2015-12-03T10:40:24.000+0000</td></tr><tr><td>3094</td><td>Jose Smith</td><td>55</td><td>2016-12-13T06:09:30.000+0000</td></tr><tr><td>5911</td><td>Anna Adams</td><td>21</td><td>2015-11-27T08:22:20.000+0000</td></tr><tr><td>3504</td><td>Kyle Floyd</td><td>20</td><td>2016-07-29T04:25:14.000+0000</td></tr><tr><td>1786</td><td>Adam Gibson</td><td>21</td><td>2015-11-22T23:22:23.000+0000</td></tr><tr><td>7539</td><td>Alvin Adams</td><td>20</td><td>2016-01-01T13:50:40.000+0000</td></tr><tr><td>8004</td><td>Frank Combs</td><td>23</td><td>2015-11-30T05:25:22.000+0000</td></tr><tr><td>7039</td><td>Brian Buckley</td><td>28</td><td>2016-10-14T03:43:48.000+0000</td></tr><tr><td>7276</td><td>Meghan Gomez</td><td>52</td><td>2017-05-08T12:25:11.000+0000</td></tr><tr><td>7961</td><td>Alex Adams</td><td>20</td><td>2015-11-02T22:24:22.000+0000</td></tr><tr><td>8120</td><td>James Goodwin</td><td>20</td><td>2016-01-24T09:18:29.000+0000</td></tr><tr><td>4113</td><td>Heidi Perez</td><td>39</td><td>2015-12-21T02:15:53.000+0000</td></tr><tr><td>6328</td><td>Ashley Combs</td><td>34</td><td>2015-11-13T06:33:05.000+0000</td></tr><tr><td>1694</td><td>James Mills</td><td>38</td><td>2017-08-13T19:07:29.000+0000</td></tr><tr><td>1179</td><td>Cynthia Clark</td><td>20</td><td>2016-01-30T15:21:25.000+0000</td></tr><tr><td>5402</td><td>James Brown</td><td>49</td><td>2016-04-06T13:56:50.000+0000</td></tr><tr><td>781</td><td>Alexandra Allen</td><td>20</td><td>2015-10-23T13:07:00.000+0000</td></tr><tr><td>8089</td><td>Melissa Griffin</td><td>47</td><td>2017-04-24T05:30:31.000+0000</td></tr><tr><td>4245</td><td>Alexandria Alvarado</td><td>20</td><td>2015-10-23T04:13:23.000+0000</td></tr><tr><td>9718</td><td>Brian Barnes</td><td>23</td><td>2017-01-17T06:38:28.000+0000</td></tr><tr><td>1308</td><td>Charles Clark</td><td>25</td><td>2016-01-14T12:21:54.000+0000</td></tr><tr><td>604</td><td>Cynthia Ortiz</td><td>35</td><td>2016-03-05T05:16:44.000+0000</td></tr><tr><td>10865</td><td>Nicole Harrison</td><td>29</td><td>2017-07-24T18:11:03.000+0000</td></tr><tr><td>7891</td><td>Amanda Brown</td><td>20</td><td>2015-11-12T03:23:49.000+0000</td></tr><tr><td>9332</td><td>Gregory Carpenter</td><td>23</td><td>2016-07-14T11:45:49.000+0000</td></tr><tr><td>4556</td><td>Timothy Meyer</td><td>40</td><td>2016-06-23T22:33:38.000+0000</td></tr><tr><td>10853</td><td>Amanda Cox</td><td>37</td><td>2015-12-29T23:56:30.000+0000</td></tr><tr><td>307</td><td>John Cruz</td><td>55</td><td>2017-03-15T23:04:39.000+0000</td></tr><tr><td>3231</td><td>Andrew Baker</td><td>22</td><td>2015-12-21T08:06:54.000+0000</td></tr><tr><td>10429</td><td>Brandon Henderson</td><td>24</td><td>2016-01-12T17:59:43.000+0000</td></tr><tr><td>2465</td><td>Duane Lopez</td><td>27</td><td>2016-05-01T09:31:11.000+0000</td></tr><tr><td>9903</td><td>Amanda Baker</td><td>20</td><td>2016-01-31T04:46:39.000+0000</td></tr><tr><td>10154</td><td>Lauren Hill</td><td>52</td><td>2016-01-08T17:05:07.000+0000</td></tr><tr><td>33</td><td>Angela Conner</td><td>36</td><td>2016-09-21T11:18:22.000+0000</td></tr><tr><td>9584</td><td>David Harper</td><td>38</td><td>2016-08-12T12:33:07.000+0000</td></tr><tr><td>9935</td><td>Annette Andrews</td><td>28</td><td>2015-12-20T22:09:10.000+0000</td></tr><tr><td>7162</td><td>Alan Davis</td><td>34</td><td>2016-04-25T01:45:51.000+0000</td></tr><tr><td>4857</td><td>Barbara Clark</td><td>21</td><td>2015-11-17T01:16:08.000+0000</td></tr><tr><td>9653</td><td>Jeffery Roberson</td><td>42</td><td>2017-06-29T14:26:41.000+0000</td></tr><tr><td>4396</td><td>Justin Morris</td><td>45</td><td>2016-05-27T10:56:28.000+0000</td></tr><tr><td>5159</td><td>Brian Davis</td><td>38</td><td>2015-12-09T10:50:57.000+0000</td></tr><tr><td>2946</td><td>Samantha Carpenter</td><td>24</td><td>2016-06-26T00:05:17.000+0000</td></tr><tr><td>5759</td><td>Brian Davis</td><td>38</td><td>2015-12-09T10:50:57.000+0000</td></tr><tr><td>9363</td><td>James Warren</td><td>57</td><td>2017-09-29T23:40:45.000+0000</td></tr><tr><td>7983</td><td>Aaron Anderson</td><td>21</td><td>2015-10-24T05:35:27.000+0000</td></tr><tr><td>10526</td><td>Grace Luna</td><td>27</td><td>2016-09-02T02:25:43.000+0000</td></tr><tr><td>2172</td><td>April Shaffer</td><td>28</td><td>2017-01-05T12:11:56.000+0000</td></tr><tr><td>4064</td><td>Andrew Garcia</td><td>44</td><td>2015-10-27T20:31:15.000+0000</td></tr><tr><td>6957</td><td>Brittany Brown</td><td>37</td><td>2016-06-25T14:36:22.000+0000</td></tr><tr><td>10585</td><td>Katherine Dennis</td><td>49</td><td>2016-10-03T13:42:13.000+0000</td></tr><tr><td>160</td><td>Anthony Mcbride</td><td>46</td><td>2016-06-10T09:51:54.000+0000</td></tr><tr><td>10347</td><td>Julia Jackson</td><td>23</td><td>2016-11-13T02:31:21.000+0000</td></tr><tr><td>8889</td><td>Melissa Thompson</td><td>42</td><td>2016-04-01T01:20:00.000+0000</td></tr><tr><td>1026</td><td>Scott Campbell</td><td>20</td><td>2016-04-01T02:34:49.000+0000</td></tr><tr><td>3878</td><td>William Donovan</td><td>49</td><td>2017-05-02T07:34:05.000+0000</td></tr><tr><td>10198</td><td>Mary Pope</td><td>41</td><td>2016-06-25T05:11:46.000+0000</td></tr><tr><td>8449</td><td>Aaron Abbott</td><td>20</td><td>2015-10-23T16:08:41.000+0000</td></tr><tr><td>9929</td><td>Benjamin Brady</td><td>21</td><td>2016-05-11T06:22:07.000+0000</td></tr><tr><td>8162</td><td>Benjamin Adams</td><td>24</td><td>2015-10-25T03:23:53.000+0000</td></tr><tr><td>10677</td><td>Catherine Mitchell</td><td>26</td><td>2016-06-16T14:07:36.000+0000</td></tr><tr><td>6488</td><td>Alec Bell</td><td>22</td><td>2016-01-09T15:37:07.000+0000</td></tr><tr><td>10278</td><td>Christopher Fox</td><td>44</td><td>2016-10-26T03:56:51.000+0000</td></tr><tr><td>3393</td><td>Courtney Berg</td><td>20</td><td>2015-11-30T10:24:37.000+0000</td></tr><tr><td>6740</td><td>Erica Green</td><td>36</td><td>2017-05-31T09:19:59.000+0000</td></tr><tr><td>1175</td><td>Jennifer Dunn</td><td>47</td><td>2015-10-21T09:05:46.000+0000</td></tr><tr><td>6276</td><td>Briana Bryant</td><td>23</td><td>2016-03-30T16:14:41.000+0000</td></tr><tr><td>3930</td><td>Kylie Alvarez</td><td>35</td><td>2015-10-30T03:04:23.000+0000</td></tr><tr><td>2668</td><td>April Brown</td><td>20</td><td>2016-04-10T02:39:57.000+0000</td></tr><tr><td>5317</td><td>Ashley Carter</td><td>21</td><td>2015-11-29T21:11:06.000+0000</td></tr><tr><td>2793</td><td>Bobby Cook</td><td>21</td><td>2015-12-15T05:28:12.000+0000</td></tr><tr><td>6906</td><td>April Anderson</td><td>30</td><td>2016-06-27T08:35:51.000+0000</td></tr><tr><td>2025</td><td>Aaron Abbott</td><td>20</td><td>2015-10-31T18:51:07.000+0000</td></tr><tr><td>7950</td><td>Kristy Donaldson</td><td>46</td><td>2017-08-15T03:04:44.000+0000</td></tr><tr><td>6797</td><td>Janet Shaw</td><td>27</td><td>2016-11-02T03:54:55.000+0000</td></tr><tr><td>3185</td><td>Alexandra Fuentes</td><td>29</td><td>2016-01-03T02:33:53.000+0000</td></tr><tr><td>1066</td><td>Benjamin Branch</td><td>44</td><td>2016-06-08T17:23:33.000+0000</td></tr><tr><td>3352</td><td>Abigail Adams</td><td>20</td><td>2015-10-25T13:11:51.000+0000</td></tr><tr><td>7952</td><td>Karen Clark</td><td>47</td><td>2016-08-01T06:36:32.000+0000</td></tr><tr><td>10600</td><td>Robert Mclaughlin</td><td>49</td><td>2016-02-27T04:42:03.000+0000</td></tr><tr><td>9530</td><td>Denise Graves</td><td>21</td><td>2016-01-28T22:04:16.000+0000</td></tr><tr><td>8854</td><td>Andrew Anderson</td><td>23</td><td>2015-11-28T11:52:37.000+0000</td></tr><tr><td>8461</td><td>Cody Barker</td><td>48</td><td>2015-12-20T02:56:01.000+0000</td></tr><tr><td>10862</td><td>Jamie Harrison</td><td>37</td><td>2017-07-19T01:17:18.000+0000</td></tr><tr><td>8251</td><td>Timothy Orozco</td><td>20</td><td>2016-03-21T17:34:44.000+0000</td></tr><tr><td>2095</td><td>Cheryl Dean</td><td>57</td><td>2017-08-01T04:00:30.000+0000</td></tr><tr><td>7285</td><td>Alejandra Acevedo</td><td>20</td><td>2015-11-24T21:01:23.000+0000</td></tr><tr><td>7271</td><td>Ashley Castro</td><td>38</td><td>2017-06-25T02:03:31.000+0000</td></tr><tr><td>5230</td><td>Abigail Ali</td><td>20</td><td>2015-10-24T11:23:51.000+0000</td></tr><tr><td>4398</td><td>Stacey Scott</td><td>47</td><td>2017-06-29T18:04:56.000+0000</td></tr><tr><td>4251</td><td>Amanda Allen</td><td>21</td><td>2015-11-16T23:15:00.000+0000</td></tr><tr><td>9808</td><td>Daniel Brooks</td><td>25</td><td>2015-11-19T21:24:33.000+0000</td></tr><tr><td>3884</td><td>Alex Jimenez</td><td>24</td><td>2015-10-29T18:48:47.000+0000</td></tr><tr><td>6181</td><td>Albert Allison</td><td>20</td><td>2015-10-21T22:27:27.000+0000</td></tr><tr><td>1881</td><td>Jeffrey Brooks</td><td>47</td><td>2017-02-08T21:03:46.000+0000</td></tr><tr><td>9099</td><td>Gregory Carpenter</td><td>23</td><td>2016-07-14T11:45:49.000+0000</td></tr><tr><td>2904</td><td>Brad Abbott</td><td>35</td><td>2016-03-07T17:23:18.000+0000</td></tr><tr><td>1832</td><td>Angela Carlson</td><td>33</td><td>2016-01-01T21:17:41.000+0000</td></tr><tr><td>4670</td><td>Heather Barnes</td><td>43</td><td>2016-06-20T18:35:26.000+0000</td></tr><tr><td>2927</td><td>Angela Andrews</td><td>20</td><td>2015-10-28T21:44:56.000+0000</td></tr><tr><td>9904</td><td>Alexandra Austin</td><td>22</td><td>2015-11-06T05:05:43.000+0000</td></tr><tr><td>9120</td><td>Dawn Mcdowell</td><td>45</td><td>2017-04-19T00:02:19.000+0000</td></tr><tr><td>8612</td><td>Angela Berg</td><td>20</td><td>2015-11-10T05:57:33.000+0000</td></tr><tr><td>1465</td><td>Juan Cortez</td><td>20</td><td>2016-04-07T13:02:08.000+0000</td></tr><tr><td>3896</td><td>Alexandria Alvarado</td><td>20</td><td>2015-10-23T04:13:23.000+0000</td></tr><tr><td>7514</td><td>Amanda Holt</td><td>21</td><td>2017-01-10T13:22:59.000+0000</td></tr><tr><td>1778</td><td>Alice Bennett</td><td>28</td><td>2016-05-03T03:50:42.000+0000</td></tr><tr><td>2780</td><td>Kimberly Mack</td><td>37</td><td>2017-08-09T03:52:40.000+0000</td></tr><tr><td>4107</td><td>Barbara English</td><td>23</td><td>2016-03-01T23:23:24.000+0000</td></tr><tr><td>10513</td><td>Melody Thompson</td><td>28</td><td>2016-10-28T04:09:37.000+0000</td></tr><tr><td>320</td><td>Alexandra Anderson</td><td>47</td><td>2016-07-06T00:08:29.000+0000</td></tr><tr><td>3164</td><td>Cynthia Harper</td><td>43</td><td>2016-01-23T05:44:11.000+0000</td></tr><tr><td>2041</td><td>Christopher Campbell</td><td>35</td><td>2015-10-22T22:42:23.000+0000</td></tr><tr><td>4489</td><td>Tracie Thompson</td><td>34</td><td>2017-08-21T02:27:26.000+0000</td></tr><tr><td>10247</td><td>Gloria Mills</td><td>53</td><td>2016-07-14T12:43:36.000+0000</td></tr><tr><td>7685</td><td>Brian Howard</td><td>23</td><td>2015-12-20T18:33:11.000+0000</td></tr><tr><td>5084</td><td>Marissa Spence</td><td>53</td><td>2016-06-30T20:53:16.000+0000</td></tr><tr><td>1789</td><td>Jennifer Snyder</td><td>53</td><td>2017-03-27T10:25:34.000+0000</td></tr><tr><td>1263</td><td>Anthony Bryan</td><td>22</td><td>2015-10-24T15:35:59.000+0000</td></tr><tr><td>3562</td><td>Alison Cole</td><td>21</td><td>2015-11-05T13:39:57.000+0000</td></tr><tr><td>2787</td><td>Christopher Brown</td><td>21</td><td>2016-05-23T23:48:56.000+0000</td></tr><tr><td>7318</td><td>James Dunn</td><td>45</td><td>2016-04-30T10:48:25.000+0000</td></tr><tr><td>570</td><td>Alexandra Allen</td><td>20</td><td>2015-10-23T13:07:00.000+0000</td></tr><tr><td>1570</td><td>Jason Thomas</td><td>35</td><td>2017-09-16T08:44:13.000+0000</td></tr><tr><td>7769</td><td>Aaron Abbott</td><td>20</td><td>2015-10-23T16:08:41.000+0000</td></tr><tr><td>896</td><td>Amanda Guzman</td><td>26</td><td>2016-01-19T18:41:59.000+0000</td></tr><tr><td>9054</td><td>Andrea Alexander</td><td>21</td><td>2015-11-10T09:27:42.000+0000</td></tr><tr><td>9749</td><td>Arthur Riggs</td><td>46</td><td>2016-05-01T10:44:18.000+0000</td></tr><tr><td>3710</td><td>Nicole Johnson</td><td>44</td><td>2016-02-08T18:55:39.000+0000</td></tr><tr><td>7862</td><td>Andrew Arnold</td><td>21</td><td>2015-12-02T08:29:10.000+0000</td></tr><tr><td>653</td><td>Adam Nash</td><td>36</td><td>2016-11-26T08:35:53.000+0000</td></tr><tr><td>7770</td><td>Jeffrey Hudson</td><td>58</td><td>2017-08-17T18:45:27.000+0000</td></tr><tr><td>7718</td><td>Katherine Howell</td><td>56</td><td>2017-07-22T19:52:39.000+0000</td></tr><tr><td>2288</td><td>Corey Andrews</td><td>23</td><td>2015-11-25T13:36:22.000+0000</td></tr><tr><td>9010</td><td>Albert Allison</td><td>20</td><td>2015-10-21T22:27:27.000+0000</td></tr><tr><td>3266</td><td>Robert Golden</td><td>50</td><td>2017-03-19T15:29:02.000+0000</td></tr><tr><td>2422</td><td>Maria Franklin</td><td>44</td><td>2016-10-25T14:57:24.000+0000</td></tr><tr><td>1598</td><td>Adrian Baker</td><td>24</td><td>2015-12-04T05:17:24.000+0000</td></tr><tr><td>7262</td><td>Jacob Alvarez</td><td>27</td><td>2016-01-29T09:37:46.000+0000</td></tr><tr><td>5254</td><td>William Combs</td><td>50</td><td>2015-12-06T10:58:54.000+0000</td></tr><tr><td>8511</td><td>Molly Curtis</td><td>20</td><td>2016-06-30T10:13:01.000+0000</td></tr><tr><td>6749</td><td>Amanda Adams</td><td>20</td><td>2015-10-21T08:27:36.000+0000</td></tr><tr><td>1487</td><td>Jonathan Rodriguez</td><td>30</td><td>2016-09-05T12:31:44.000+0000</td></tr><tr><td>5349</td><td>Caitlyn Baker</td><td>22</td><td>2015-11-11T17:56:54.000+0000</td></tr><tr><td>831</td><td>Aimee Collins</td><td>28</td><td>2016-06-16T02:06:38.000+0000</td></tr><tr><td>8700</td><td>Alexander Bailey</td><td>20</td><td>2015-10-30T11:37:32.000+0000</td></tr><tr><td>3349</td><td>Alice Bennett</td><td>28</td><td>2016-05-03T03:50:42.000+0000</td></tr><tr><td>616</td><td>Brandon Holmes</td><td>21</td><td>2015-11-02T23:30:01.000+0000</td></tr><tr><td>1676</td><td>Kyle Mccarthy</td><td>41</td><td>2016-04-10T12:18:20.000+0000</td></tr><tr><td>4530</td><td>Jamie Davis</td><td>33</td><td>2016-03-23T06:58:08.000+0000</td></tr><tr><td>2970</td><td>Anthony Brown</td><td>33</td><td>2015-10-24T16:39:50.000+0000</td></tr><tr><td>8315</td><td>Andrew Alexander</td><td>20</td><td>2015-11-20T09:08:00.000+0000</td></tr><tr><td>4505</td><td>Diane Phillips</td><td>59</td><td>2016-03-01T14:23:30.000+0000</td></tr><tr><td>865</td><td>Anna Bird</td><td>25</td><td>2015-10-21T18:29:08.000+0000</td></tr><tr><td>10715</td><td>Angela Brown</td><td>36</td><td>2015-12-14T13:52:48.000+0000</td></tr><tr><td>1896</td><td>Amanda Anderson</td><td>23</td><td>2016-02-22T08:38:01.000+0000</td></tr><tr><td>155</td><td>Alexandra Allen</td><td>20</td><td>2015-10-23T13:07:00.000+0000</td></tr><tr><td>7902</td><td>Andrew Alexander</td><td>20</td><td>2015-11-20T09:08:00.000+0000</td></tr><tr><td>8519</td><td>Alicia Burnett</td><td>23</td><td>2016-07-18T00:04:07.000+0000</td></tr><tr><td>4186</td><td>Christina Bryant</td><td>33</td><td>2016-04-27T01:35:39.000+0000</td></tr><tr><td>741</td><td>Adam Acosta</td><td>20</td><td>2015-10-21T21:26:45.000+0000</td></tr><tr><td>7093</td><td>Jonathan Martinez</td><td>31</td><td>2016-02-28T10:31:48.000+0000</td></tr><tr><td>7640</td><td>Aaron Anderson</td><td>21</td><td>2015-10-24T05:35:27.000+0000</td></tr><tr><td>4816</td><td>Darin Lee</td><td>25</td><td>2016-08-09T23:13:29.000+0000</td></tr><tr><td>9183</td><td>Brittany Cruz</td><td>47</td><td>2016-07-28T09:04:46.000+0000</td></tr><tr><td>525</td><td>Abigail Ali</td><td>20</td><td>2015-10-24T11:23:51.000+0000</td></tr><tr><td>10908</td><td>Stephanie Cooper</td><td>20</td><td>2017-06-01T02:30:48.000+0000</td></tr><tr><td>6240</td><td>Linda Tate</td><td>33</td><td>2017-06-14T08:16:57.000+0000</td></tr><tr><td>222</td><td>Herbert Sawyer</td><td>45</td><td>2016-07-27T15:08:03.000+0000</td></tr><tr><td>7209</td><td>April Anderson</td><td>30</td><td>2016-06-27T08:35:51.000+0000</td></tr><tr><td>7560</td><td>Theresa Dixon</td><td>47</td><td>2015-12-18T14:49:13.000+0000</td></tr><tr><td>2334</td><td>Bailey Rogers</td><td>31</td><td>2015-10-22T22:51:57.000+0000</td></tr><tr><td>9234</td><td>Christina Aguilar</td><td>23</td><td>2015-12-09T20:29:10.000+0000</td></tr><tr><td>2354</td><td>Danielle Barber</td><td>23</td><td>2016-02-21T14:23:49.000+0000</td></tr><tr><td>4761</td><td>Christopher Norman</td><td>40</td><td>2017-03-07T21:33:30.000+0000</td></tr><tr><td>4122</td><td>Michael Chan</td><td>38</td><td>2017-03-23T16:11:45.000+0000</td></tr><tr><td>9256</td><td>Andrew Anderson</td><td>23</td><td>2015-11-28T11:52:37.000+0000</td></tr><tr><td>2161</td><td>Alexander Rodriguez</td><td>55</td><td>2017-08-12T13:26:38.000+0000</td></tr><tr><td>9812</td><td>Janet Andrews</td><td>28</td><td>2016-06-11T14:48:17.000+0000</td></tr><tr><td>5044</td><td>Amanda Bowers</td><td>22</td><td>2016-01-18T20:23:23.000+0000</td></tr><tr><td>7068</td><td>Andrea Beasley</td><td>23</td><td>2015-11-10T10:26:14.000+0000</td></tr><tr><td>3226</td><td>Angela Andrews</td><td>20</td><td>2015-10-28T21:44:56.000+0000</td></tr><tr><td>3882</td><td>Darryl Alexander</td><td>25</td><td>2015-12-02T11:20:58.000+0000</td></tr><tr><td>3111</td><td>Natasha Gonzalez</td><td>51</td><td>2016-05-17T07:56:53.000+0000</td></tr><tr><td>10507</td><td>Hannah Allen</td><td>21</td><td>2016-12-02T04:34:51.000+0000</td></tr><tr><td>1775</td><td>James Graham</td><td>22</td><td>2015-12-24T13:28:36.000+0000</td></tr><tr><td>9482</td><td>Heather Hall</td><td>31</td><td>2017-02-25T07:58:37.000+0000</td></tr><tr><td>8224</td><td>Eric Buck</td><td>45</td><td>2015-10-28T17:36:12.000+0000</td></tr><tr><td>1481</td><td>Alison Harding</td><td>35</td><td>2017-10-05T17:45:20.000+0000</td></tr><tr><td>4333</td><td>Andre Bartlett</td><td>20</td><td>2015-10-30T20:41:47.000+0000</td></tr><tr><td>8834</td><td>Andrea Alexander</td><td>21</td><td>2015-11-10T09:27:42.000+0000</td></tr><tr><td>1530</td><td>Jose Robbins</td><td>54</td><td>2016-03-07T19:38:00.000+0000</td></tr><tr><td>1104</td><td>Holly Bailey</td><td>48</td><td>2016-02-01T07:15:19.000+0000</td></tr><tr><td>498</td><td>Anna Bird</td><td>25</td><td>2015-10-21T18:29:08.000+0000</td></tr><tr><td>813</td><td>Christopher Gonzalez</td><td>30</td><td>2016-03-02T23:44:12.000+0000</td></tr><tr><td>3703</td><td>Alison Cole</td><td>21</td><td>2015-11-05T13:39:57.000+0000</td></tr><tr><td>4585</td><td>Amy Atkins</td><td>21</td><td>2015-10-31T07:37:40.000+0000</td></tr><tr><td>10073</td><td>Jeffrey Hunter</td><td>32</td><td>2016-09-07T04:52:20.000+0000</td></tr><tr><td>974</td><td>David Jones</td><td>40</td><td>2016-06-30T00:50:31.000+0000</td></tr><tr><td>4944</td><td>Amber Bennett</td><td>29</td><td>2016-02-28T04:37:04.000+0000</td></tr><tr><td>9643</td><td>Daniel Reyes</td><td>32</td><td>2017-08-02T14:05:48.000+0000</td></tr><tr><td>2308</td><td>Aaron Greene</td><td>25</td><td>2016-01-14T00:10:04.000+0000</td></tr><tr><td>8058</td><td>Joyce Ochoa</td><td>23</td><td>2016-12-27T11:43:07.000+0000</td></tr><tr><td>4115</td><td>Danielle Cook</td><td>22</td><td>2016-05-18T00:47:21.000+0000</td></tr><tr><td>643</td><td>Anthony Adkins</td><td>21</td><td>2015-10-28T03:59:42.000+0000</td></tr><tr><td>1776</td><td>Deanna Molina</td><td>22</td><td>2016-04-07T20:10:55.000+0000</td></tr><tr><td>1972</td><td>Michelle Smith</td><td>52</td><td>2017-05-05T05:06:56.000+0000</td></tr><tr><td>4641</td><td>Anthony Dean</td><td>21</td><td>2016-04-15T19:54:05.000+0000</td></tr><tr><td>909</td><td>Daniel Peck</td><td>24</td><td>2016-02-22T23:13:34.000+0000</td></tr><tr><td>10369</td><td>Gabrielle Flores</td><td>34</td><td>2017-09-17T01:53:38.000+0000</td></tr><tr><td>7964</td><td>Aaron Abbott</td><td>20</td><td>2015-10-23T16:08:41.000+0000</td></tr><tr><td>9455</td><td>Calvin Baker</td><td>26</td><td>2015-11-14T05:58:38.000+0000</td></tr><tr><td>6978</td><td>Jack Morales</td><td>56</td><td>2016-10-23T06:50:28.000+0000</td></tr><tr><td>7057</td><td>Jay Hampton</td><td>21</td><td>2016-05-10T01:52:46.000+0000</td></tr><tr><td>935</td><td>Michael Brooks</td><td>48</td><td>2016-08-05T06:18:29.000+0000</td></tr><tr><td>4417</td><td>Maria Long</td><td>27</td><td>2017-09-28T00:27:20.000+0000</td></tr><tr><td>9950</td><td>Christopher Bates</td><td>30</td><td>2016-05-25T10:09:22.000+0000</td></tr><tr><td>3632</td><td>Danielle Chambers</td><td>21</td><td>2015-12-08T00:29:58.000+0000</td></tr><tr><td>6305</td><td>Aaron Anderson</td><td>21</td><td>2015-10-23T03:43:54.000+0000</td></tr><tr><td>2810</td><td>Brandi Cervantes</td><td>35</td><td>2016-05-31T01:40:44.000+0000</td></tr><tr><td>4066</td><td>Adam Armstrong</td><td>20</td><td>2015-12-17T08:43:40.000+0000</td></tr><tr><td>10570</td><td>David Evans</td><td>21</td><td>2016-03-28T10:54:55.000+0000</td></tr><tr><td>9533</td><td>Alice Day</td><td>25</td><td>2015-11-04T05:12:00.000+0000</td></tr><tr><td>1411</td><td>Adrian Baker</td><td>24</td><td>2015-12-04T05:17:24.000+0000</td></tr><tr><td>7861</td><td>Alexandria Gross</td><td>22</td><td>2016-06-07T14:30:06.000+0000</td></tr><tr><td>6403</td><td>April Simmons</td><td>34</td><td>2017-05-27T14:44:48.000+0000</td></tr><tr><td>860</td><td>Jay Davis</td><td>33</td><td>2016-12-04T21:33:36.000+0000</td></tr><tr><td>5209</td><td>Bradley Griffin</td><td>24</td><td>2016-04-05T09:58:20.000+0000</td></tr><tr><td>4590</td><td>Daniel Davis</td><td>29</td><td>2016-12-15T04:11:20.000+0000</td></tr><tr><td>4080</td><td>Marie Kennedy</td><td>42</td><td>2016-08-11T18:30:52.000+0000</td></tr><tr><td>9035</td><td>Aaron Alexander</td><td>21</td><td>2015-10-25T07:36:08.000+0000</td></tr><tr><td>857</td><td>Andrew Burke</td><td>20</td><td>2015-11-14T17:38:31.000+0000</td></tr><tr><td>10347</td><td>Julia Jackson</td><td>23</td><td>2016-11-13T02:31:21.000+0000</td></tr><tr><td>7356</td><td>Andrew Anderson</td><td>23</td><td>2015-11-28T11:52:37.000+0000</td></tr><tr><td>5796</td><td>Adam Alexander</td><td>20</td><td>2015-10-22T11:31:37.000+0000</td></tr><tr><td>10156</td><td>Shawn Gray</td><td>34</td><td>2017-02-05T07:25:42.000+0000</td></tr><tr><td>7666</td><td>Aaron Abbott</td><td>20</td><td>2015-10-23T16:08:41.000+0000</td></tr><tr><td>10602</td><td>Jack Dodson</td><td>21</td><td>2016-03-06T15:54:40.000+0000</td></tr><tr><td>7889</td><td>Anthony Johnson</td><td>23</td><td>2016-07-09T05:03:39.000+0000</td></tr><tr><td>4210</td><td>Anthony Golden</td><td>56</td><td>2017-05-03T22:37:43.000+0000</td></tr><tr><td>2499</td><td>John Hamilton</td><td>23</td><td>2015-11-09T12:22:53.000+0000</td></tr><tr><td>2403</td><td>Erin Lawson</td><td>59</td><td>2017-06-29T10:23:41.000+0000</td></tr><tr><td>678</td><td>John Trujillo</td><td>22</td><td>2017-07-20T11:18:24.000+0000</td></tr><tr><td>1349</td><td>Andrew Allen</td><td>53</td><td>2017-01-23T23:59:16.000+0000</td></tr><tr><td>6682</td><td>Lisa Walls</td><td>50</td><td>2016-09-09T23:42:11.000+0000</td></tr><tr><td>2452</td><td>Ashley Cortez</td><td>21</td><td>2017-03-07T07:21:57.000+0000</td></tr><tr><td>2523</td><td>Bryce Bailey</td><td>37</td><td>2015-11-28T01:46:17.000+0000</td></tr><tr><td>2754</td><td>Lance Li</td><td>23</td><td>2016-06-14T14:03:04.000+0000</td></tr><tr><td>7165</td><td>Nancy Jones</td><td>35</td><td>2016-01-12T09:32:19.000+0000</td></tr><tr><td>2795</td><td>Carrie Holder</td><td>21</td><td>2015-10-27T11:16:56.000+0000</td></tr><tr><td>2595</td><td>Christopher Barnett</td><td>22</td><td>2016-03-24T09:38:54.000+0000</td></tr><tr><td>8282</td><td>Andrew Alexander</td><td>20</td><td>2015-11-20T09:08:00.000+0000</td></tr><tr><td>5111</td><td>Lonnie Boyd</td><td>49</td><td>2016-02-08T06:54:03.000+0000</td></tr><tr><td>5679</td><td>Melanie Allison</td><td>32</td><td>2017-07-02T05:22:18.000+0000</td></tr><tr><td>5512</td><td>Caitlyn Baker</td><td>22</td><td>2015-11-11T17:56:54.000+0000</td></tr><tr><td>5405</td><td>Adam Alexander</td><td>20</td><td>2015-10-22T11:31:37.000+0000</td></tr><tr><td>159</td><td>Alison Bell</td><td>21</td><td>2016-01-07T08:11:35.000+0000</td></tr><tr><td>4769</td><td>Abigail Barry</td><td>21</td><td>2015-12-03T10:40:24.000+0000</td></tr><tr><td>2447</td><td>Nancy Patel</td><td>35</td><td>2017-06-27T10:00:11.000+0000</td></tr><tr><td>3345</td><td>Benjamin Turner</td><td>36</td><td>2016-08-30T14:33:44.000+0000</td></tr><tr><td>6756</td><td>Michael Clark</td><td>26</td><td>2016-06-15T18:10:59.000+0000</td></tr><tr><td>644</td><td>Aaron Bartlett</td><td>21</td><td>2015-11-24T02:15:36.000+0000</td></tr><tr><td>187</td><td>Laura Knight</td><td>21</td><td>2016-12-02T03:34:06.000+0000</td></tr><tr><td>7631</td><td>Jennifer Bailey</td><td>42</td><td>2016-03-07T21:07:12.000+0000</td></tr><tr><td>1780</td><td>Angela Andrews</td><td>20</td><td>2015-10-28T21:44:56.000+0000</td></tr><tr><td>7154</td><td>Alejandra Acevedo</td><td>20</td><td>2015-11-24T21:01:23.000+0000</td></tr><tr><td>4764</td><td>Michael Adams</td><td>32</td><td>2016-03-15T21:43:17.000+0000</td></tr><tr><td>8967</td><td>Joshua Harrison</td><td>26</td><td>2017-04-30T16:38:10.000+0000</td></tr><tr><td>925</td><td>Aaron Abbott</td><td>20</td><td>2015-10-31T18:51:07.000+0000</td></tr><tr><td>3638</td><td>Rebecca Conner</td><td>33</td><td>2015-12-29T22:26:53.000+0000</td></tr><tr><td>924</td><td>Adam Baker</td><td>30</td><td>2016-04-17T19:47:03.000+0000</td></tr><tr><td>2297</td><td>Debbie Mitchell</td><td>46</td><td>2017-02-23T00:45:45.000+0000</td></tr><tr><td>1324</td><td>Patrick Davidson</td><td>41</td><td>2016-12-24T11:07:22.000+0000</td></tr><tr><td>5155</td><td>Steven Weiss</td><td>22</td><td>2017-09-25T07:45:23.000+0000</td></tr><tr><td>1707</td><td>Albert Jackson</td><td>23</td><td>2016-04-13T18:06:15.000+0000</td></tr><tr><td>9123</td><td>Margaret Torres</td><td>21</td><td>2017-05-24T03:44:43.000+0000</td></tr><tr><td>10271</td><td>Mark Duran</td><td>28</td><td>2016-03-23T00:25:16.000+0000</td></tr><tr><td>4475</td><td>Anna Taylor</td><td>34</td><td>2017-04-25T14:21:09.000+0000</td></tr><tr><td>6021</td><td>Elaine Savage</td><td>23</td><td>2017-10-13T13:55:52.000+0000</td></tr><tr><td>1214</td><td>Alejandro Graham</td><td>57</td><td>2017-07-17T15:31:30.000+0000</td></tr><tr><td>10479</td><td>Aaron Bailey</td><td>20</td><td>2015-11-02T04:40:42.000+0000</td></tr><tr><td>5561</td><td>Amanda Anderson</td><td>24</td><td>2015-11-11T20:38:26.000+0000</td></tr><tr><td>6631</td><td>Valerie Leach</td><td>33</td><td>2015-10-31T10:25:32.000+0000</td></tr><tr><td>1749</td><td>Andrew Buck</td><td>23</td><td>2016-01-06T23:14:16.000+0000</td></tr><tr><td>6386</td><td>Alan Adams</td><td>25</td><td>2016-05-20T09:33:35.000+0000</td></tr><tr><td>746</td><td>Diana Barry</td><td>26</td><td>2015-11-12T15:36:01.000+0000</td></tr><tr><td>4866</td><td>Lawrence Lane</td><td>28</td><td>2017-07-09T11:52:42.000+0000</td></tr><tr><td>2779</td><td>Allison Acosta</td><td>20</td><td>2015-10-24T01:15:02.000+0000</td></tr><tr><td>8843</td><td>Alexander Bailey</td><td>20</td><td>2015-10-30T11:37:32.000+0000</td></tr><tr><td>4892</td><td>Pamela Wilson</td><td>28</td><td>2016-07-10T23:56:30.000+0000</td></tr></tbody></table></div>"
      ]
     },
     "metadata": {
      "application/vnd.databricks.v1+output": {
       "addedWidgets": {},
       "aggData": [],
       "aggError": "",
       "aggOverflow": false,
       "aggSchema": [],
       "aggSeriesLimitReached": false,
       "aggType": "",
       "arguments": {},
       "columnCustomDisplayInfos": {},
       "data": [
        [
         "5162",
         "James Jacobson",
         "28",
         "2017-04-30T16:41:26.000+0000"
        ],
        [
         "5151",
         "Mary Jordan",
         "26",
         "2017-06-12T16:02:59.000+0000"
        ],
        [
         "2498",
         "Jeremy Chase",
         "50",
         "2017-07-31T16:56:52.000+0000"
        ],
        [
         "7268",
         "Alejandra Acevedo",
         "20",
         "2015-11-24T21:01:23.000+0000"
        ],
        [
         "3351",
         "Eric Taylor",
         "39",
         "2017-04-04T06:05:03.000+0000"
        ],
        [
         "7738",
         "Alexis George",
         "34",
         "2016-02-26T00:38:01.000+0000"
        ],
        [
         "8886",
         "Abigail Bates",
         "20",
         "2015-11-07T20:59:32.000+0000"
        ],
        [
         "5742",
         "Barbara Edwards",
         "24",
         "2016-01-09T19:37:29.000+0000"
        ],
        [
         "1362",
         "Nancy Case",
         "23",
         "2016-02-18T08:44:33.000+0000"
        ],
        [
         "995",
         "Jason Horne",
         "27",
         "2016-02-06T15:31:57.000+0000"
        ],
        [
         "6250",
         "Lydia Nelson",
         "59",
         "2016-09-06T06:21:57.000+0000"
        ],
        [
         "3184",
         "Allison Dawson",
         "35",
         "2016-02-04T14:45:39.000+0000"
        ],
        [
         "2955",
         "Kevin Young",
         "58",
         "2016-09-18T07:28:19.000+0000"
        ],
        [
         "4357",
         "Allison Adams",
         "22",
         "2015-11-30T10:51:59.000+0000"
        ],
        [
         "3563",
         "Gerald Davis",
         "55",
         "2017-08-11T14:24:41.000+0000"
        ],
        [
         "6558",
         "Gary Tanner",
         "43",
         "2016-11-29T22:22:47.000+0000"
        ],
        [
         "4256",
         "Alexandria Alvarado",
         "20",
         "2015-10-23T04:13:23.000+0000"
        ],
        [
         "450",
         "Amanda Benitez",
         "21",
         "2015-11-01T09:16:18.000+0000"
        ],
        [
         "3945",
         "Beth Johnson",
         "30",
         "2015-11-29T15:45:13.000+0000"
        ],
        [
         "859",
         "Scott Page",
         "44",
         "2015-10-31T14:35:30.000+0000"
        ],
        [
         "1521",
         "Mindy Garrison",
         "29",
         "2016-02-18T23:18:39.000+0000"
        ],
        [
         "1961",
         "Adrienne Barrett",
         "22",
         "2015-11-04T15:48:14.000+0000"
        ],
        [
         "10099",
         "Amanda Carlson",
         "21",
         "2015-11-23T09:01:37.000+0000"
        ],
        [
         "6066",
         "Angela Flores",
         "28",
         "2015-10-29T08:51:34.000+0000"
        ],
        [
         "10837",
         "Mark Richardson",
         "55",
         "2015-11-18T05:46:35.000+0000"
        ],
        [
         "6615",
         "Barry West",
         "44",
         "2016-08-13T21:13:14.000+0000"
        ],
        [
         "7641",
         "Aaron Anderson",
         "21",
         "2015-10-24T05:35:27.000+0000"
        ],
        [
         "640",
         "Aaron Anderson",
         "21",
         "2015-10-24T05:35:27.000+0000"
        ],
        [
         "8174",
         "Andrew Brown",
         "25",
         "2016-03-26T04:30:23.000+0000"
        ],
        [
         "1216",
         "Juan Cortez",
         "20",
         "2016-04-07T13:02:08.000+0000"
        ],
        [
         "680",
         "Diana Ballard",
         "23",
         "2017-01-12T11:17:31.000+0000"
        ],
        [
         "9527",
         "Vernon Brown",
         "55",
         "2017-08-04T01:04:25.000+0000"
        ],
        [
         "9426",
         "Nicholas Mcdaniel",
         "45",
         "2017-05-24T01:41:26.000+0000"
        ],
        [
         "8745",
         "Grant Villanueva",
         "53",
         "2016-02-14T19:17:10.000+0000"
        ],
        [
         "5959",
         "Jason Brooks",
         "28",
         "2015-12-21T00:33:51.000+0000"
        ],
        [
         "2577",
         "Amy Adams",
         "20",
         "2015-10-24T05:05:28.000+0000"
        ],
        [
         "3008",
         "Scott Houston",
         "58",
         "2016-10-22T16:08:50.000+0000"
        ],
        [
         "8081",
         "Carmen Taylor",
         "40",
         "2016-08-02T19:06:12.000+0000"
        ],
        [
         "10120",
         "Jacob Baird",
         "24",
         "2016-02-25T08:52:45.000+0000"
        ],
        [
         "4045",
         "Amanda Allen",
         "21",
         "2015-11-16T23:15:00.000+0000"
        ],
        [
         "1599",
         "Linda Rojas",
         "42",
         "2017-01-31T05:08:14.000+0000"
        ],
        [
         "2893",
         "Nancy Choi",
         "50",
         "2016-07-27T16:22:59.000+0000"
        ],
        [
         "4024",
         "Adam Armstrong",
         "20",
         "2015-12-17T08:43:40.000+0000"
        ],
        [
         "310",
         "Amanda Benitez",
         "21",
         "2015-11-01T09:16:18.000+0000"
        ],
        [
         "7905",
         "Anthony Duncan",
         "47",
         "2016-01-01T03:57:19.000+0000"
        ],
        [
         "5488",
         "Heather Edwards",
         "33",
         "2016-01-16T18:25:10.000+0000"
        ],
        [
         "744",
         "Brian Lloyd",
         "38",
         "2016-12-15T07:06:03.000+0000"
        ],
        [
         "7801",
         "Nancy Clay",
         "36",
         "2016-01-12T18:33:12.000+0000"
        ],
        [
         "5620",
         "Daniel Anderson",
         "20",
         "2017-02-10T13:39:15.000+0000"
        ],
        [
         "8341",
         "Amber Robinson",
         "31",
         "2016-09-05T14:41:44.000+0000"
        ],
        [
         "10022",
         "Alyssa Greene",
         "50",
         "2017-05-03T07:29:04.000+0000"
        ],
        [
         "6134",
         "Jacob Baker",
         "33",
         "2015-11-29T07:33:20.000+0000"
        ],
        [
         "3824",
         "Aaron Berry",
         "28",
         "2016-04-12T03:40:13.000+0000"
        ],
        [
         "7116",
         "Michael Mcconnell",
         "59",
         "2017-06-01T10:55:10.000+0000"
        ],
        [
         "74",
         "Amanda Benitez",
         "21",
         "2015-11-01T09:16:18.000+0000"
        ],
        [
         "1335",
         "Benjamin Campbell",
         "20",
         "2015-11-16T13:25:08.000+0000"
        ],
        [
         "4513",
         "Charlotte Pitts",
         "60",
         "2017-07-18T11:50:18.000+0000"
        ],
        [
         "7850",
         "Joseph Kelly",
         "44",
         "2017-09-28T16:41:00.000+0000"
        ],
        [
         "10248",
         "Elizabeth English",
         "25",
         "2016-08-19T02:29:26.000+0000"
        ],
        [
         "8123",
         "Courtney Chung",
         "46",
         "2016-05-11T23:09:30.000+0000"
        ],
        [
         "2987",
         "Charles Robinson",
         "41",
         "2015-12-22T01:36:15.000+0000"
        ],
        [
         "1487",
         "Jonathan Rodriguez",
         "30",
         "2016-09-05T12:31:44.000+0000"
        ],
        [
         "10052",
         "Jamie Bryant",
         "20",
         "2017-06-17T20:00:37.000+0000"
        ],
        [
         "8677",
         "Amy Brown",
         "21",
         "2015-11-08T16:14:16.000+0000"
        ],
        [
         "5551",
         "Christina Haas",
         "25",
         "2016-02-14T18:52:16.000+0000"
        ],
        [
         "6652",
         "Heather Arellano",
         "23",
         "2016-01-02T03:36:30.000+0000"
        ],
        [
         "6479",
         "Debra Morse",
         "48",
         "2016-09-12T23:54:34.000+0000"
        ],
        [
         "6660",
         "Maria Davidson",
         "28",
         "2016-04-22T05:55:48.000+0000"
        ],
        [
         "9218",
         "April Barr",
         "26",
         "2016-02-06T19:00:11.000+0000"
        ],
        [
         "4055",
         "Grant George",
         "27",
         "2015-11-11T01:45:05.000+0000"
        ],
        [
         "7370",
         "James Keith",
         "42",
         "2017-07-02T17:25:18.000+0000"
        ],
        [
         "25",
         "Amber Gray",
         "24",
         "2017-07-01T07:56:15.000+0000"
        ],
        [
         "6939",
         "Erin Thompson",
         "35",
         "2016-10-21T03:38:15.000+0000"
        ],
        [
         "7383",
         "Dawn Bradley",
         "20",
         "2016-08-26T16:09:52.000+0000"
        ],
        [
         "3240",
         "April Brown",
         "20",
         "2016-04-10T02:39:57.000+0000"
        ],
        [
         "8015",
         "Danielle Klein",
         "38",
         "2016-04-11T08:54:04.000+0000"
        ],
        [
         "7745",
         "Aaron Abbott",
         "20",
         "2015-10-23T16:08:41.000+0000"
        ],
        [
         "3360",
         "Amber Casey",
         "23",
         "2016-01-06T12:22:08.000+0000"
        ],
        [
         "6380",
         "Matthew Newman",
         "41",
         "2016-04-03T05:17:47.000+0000"
        ],
        [
         "409",
         "Alfred Chen",
         "24",
         "2016-07-01T16:11:59.000+0000"
        ],
        [
         "1814",
         "Brian Hansen",
         "31",
         "2016-01-30T13:25:52.000+0000"
        ],
        [
         "2343",
         "James Graves",
         "43",
         "2016-01-21T09:41:10.000+0000"
        ],
        [
         "7759",
         "Aaron Alexander",
         "21",
         "2015-10-25T07:36:08.000+0000"
        ],
        [
         "6717",
         "Elizabeth Green",
         "20",
         "2016-06-21T10:08:09.000+0000"
        ],
        [
         "4862",
         "Jacob Castro",
         "23",
         "2016-10-03T21:44:53.000+0000"
        ],
        [
         "6299",
         "Jeffrey Gordon",
         "57",
         "2017-01-06T20:27:48.000+0000"
        ],
        [
         "9425",
         "Katrina Fischer",
         "47",
         "2017-05-10T22:51:14.000+0000"
        ],
        [
         "1901",
         "Michelle Richardson",
         "44",
         "2016-12-18T16:05:39.000+0000"
        ],
        [
         "527",
         "Carlos Dixon",
         "24",
         "2015-11-09T03:47:45.000+0000"
        ],
        [
         "334",
         "Cindy Morales",
         "43",
         "2016-09-01T18:15:56.000+0000"
        ],
        [
         "6348",
         "Mark Brown",
         "23",
         "2016-07-24T20:27:24.000+0000"
        ],
        [
         "3626",
         "Amanda Allen",
         "21",
         "2015-11-16T23:15:00.000+0000"
        ],
        [
         "1857",
         "Christopher Hamilton",
         "48",
         "2016-02-27T16:57:44.000+0000"
        ],
        [
         "3660",
         "Adrian Jackson",
         "28",
         "2016-04-30T10:03:19.000+0000"
        ],
        [
         "4377",
         "Samuel Thompson",
         "24",
         "2017-04-08T10:18:26.000+0000"
        ],
        [
         "8505",
         "Sandra Humphrey",
         "41",
         "2017-04-16T22:40:56.000+0000"
        ],
        [
         "10087",
         "Danny Ramsey",
         "22",
         "2016-07-03T13:53:31.000+0000"
        ],
        [
         "10050",
         "Carla Arnold",
         "34",
         "2015-12-20T18:05:14.000+0000"
        ],
        [
         "10917",
         "Valerie Rodriguez",
         "31",
         "2016-07-30T01:45:47.000+0000"
        ],
        [
         "5737",
         "Alexis Bell",
         "20",
         "2015-11-23T06:34:47.000+0000"
        ],
        [
         "4561",
         "Madeline Brown",
         "43",
         "2016-11-11T15:53:15.000+0000"
        ],
        [
         "6916",
         "Steven Dixon",
         "44",
         "2016-10-17T08:09:28.000+0000"
        ],
        [
         "6341",
         "Barbara Duran",
         "22",
         "2016-11-07T11:01:26.000+0000"
        ],
        [
         "4765",
         "Danielle Gonzalez",
         "36",
         "2017-02-16T16:01:34.000+0000"
        ],
        [
         "10425",
         "Andrea Carroll",
         "20",
         "2016-01-21T03:54:20.000+0000"
        ],
        [
         "10783",
         "Jane Aguilar",
         "32",
         "2016-03-02T01:25:48.000+0000"
        ],
        [
         "6747",
         "Matthew Simon",
         "58",
         "2017-06-17T04:42:14.000+0000"
        ],
        [
         "7180",
         "Shannon Melton",
         "26",
         "2017-06-07T23:07:30.000+0000"
        ],
        [
         "8100",
         "Aaron Abbott",
         "20",
         "2015-10-23T16:08:41.000+0000"
        ],
        [
         "4781",
         "Cynthia Guerra",
         "29",
         "2016-12-25T23:51:01.000+0000"
        ],
        [
         "1254",
         "Patricia Harvey",
         "41",
         "2017-09-25T07:22:09.000+0000"
        ],
        [
         "2011",
         "Adam Anderson",
         "34",
         "2016-03-14T20:42:08.000+0000"
        ],
        [
         "3436",
         "Charles Johnson",
         "25",
         "2015-12-07T02:19:50.000+0000"
        ],
        [
         "4424",
         "Aaron Buchanan",
         "23",
         "2016-01-17T21:06:05.000+0000"
        ],
        [
         "649",
         "Jill Gilmore",
         "29",
         "2017-01-13T08:26:21.000+0000"
        ],
        [
         "8645",
         "Alexander Clark",
         "21",
         "2016-02-16T17:03:44.000+0000"
        ],
        [
         "5647",
         "Calvin Atkins",
         "27",
         "2016-08-31T20:20:25.000+0000"
        ],
        [
         "5704",
         "David Craig",
         "30",
         "2016-01-30T06:09:57.000+0000"
        ],
        [
         "10734",
         "Jennifer Arellano",
         "28",
         "2015-12-18T10:50:10.000+0000"
        ],
        [
         "4027",
         "Alexander Bailey",
         "20",
         "2015-12-05T21:04:46.000+0000"
        ],
        [
         "8488",
         "Andrew Anderson",
         "23",
         "2015-11-28T11:52:37.000+0000"
        ],
        [
         "5166",
         "Amy Caldwell",
         "33",
         "2015-11-12T14:10:39.000+0000"
        ],
        [
         "5130",
         "Linda Blackwell",
         "20",
         "2015-12-11T03:23:37.000+0000"
        ],
        [
         "1675",
         "Barbara Ford",
         "50",
         "2015-12-30T08:56:15.000+0000"
        ],
        [
         "10931",
         "Aaron Bailey",
         "20",
         "2015-11-02T04:40:42.000+0000"
        ],
        [
         "7240",
         "Abigail Ali",
         "20",
         "2015-10-24T11:23:51.000+0000"
        ],
        [
         "3831",
         "Alexandria Alvarado",
         "20",
         "2015-10-23T04:13:23.000+0000"
        ],
        [
         "5527",
         "Brian Herman",
         "32",
         "2016-02-19T01:20:00.000+0000"
        ],
        [
         "6496",
         "Cindy Bennett",
         "26",
         "2016-01-03T06:10:45.000+0000"
        ],
        [
         "7670",
         "Aaron Abbott",
         "20",
         "2015-10-23T16:08:41.000+0000"
        ],
        [
         "6602",
         "Alexandria Anderson",
         "23",
         "2015-10-31T19:20:09.000+0000"
        ],
        [
         "10804",
         "Stacy May",
         "58",
         "2016-06-21T11:33:31.000+0000"
        ],
        [
         "10371",
         "Lori Campos",
         "48",
         "2016-04-26T11:49:56.000+0000"
        ],
        [
         "10160",
         "Cameron Medina",
         "20",
         "2016-06-02T03:51:43.000+0000"
        ],
        [
         "4654",
         "Nathan Howard",
         "37",
         "2016-03-06T21:35:04.000+0000"
        ],
        [
         "7940",
         "Andrew Arnold",
         "21",
         "2015-12-02T08:29:10.000+0000"
        ],
        [
         "9198",
         "Amber Chen",
         "22",
         "2015-12-30T05:21:14.000+0000"
        ],
        [
         "9475",
         "Jessica Mejia",
         "40",
         "2016-01-03T12:03:05.000+0000"
        ],
        [
         "501",
         "Adam Acosta",
         "20",
         "2015-10-21T21:26:45.000+0000"
        ],
        [
         "10204",
         "Heather Gonzalez",
         "41",
         "2016-06-14T11:16:18.000+0000"
        ],
        [
         "9185",
         "Scott Copeland",
         "25",
         "2017-10-18T06:45:02.000+0000"
        ],
        [
         "7896",
         "Andrew Alvarez",
         "21",
         "2015-11-10T12:55:13.000+0000"
        ],
        [
         "8448",
         "Joseph Church",
         "31",
         "2017-04-29T03:22:38.000+0000"
        ],
        [
         "456",
         "Amber Cervantes",
         "25",
         "2016-05-09T16:38:08.000+0000"
        ],
        [
         "2315",
         "Ashley Briggs",
         "38",
         "2015-11-15T16:53:09.000+0000"
        ],
        [
         "9734",
         "Jennifer Kaiser",
         "30",
         "2015-11-24T03:29:52.000+0000"
        ],
        [
         "5724",
         "Matthew Walker",
         "57",
         "2015-12-07T08:51:53.000+0000"
        ],
        [
         "6976",
         "Andrea Beasley",
         "23",
         "2015-11-10T10:26:14.000+0000"
        ],
        [
         "9502",
         "Brian Barnes",
         "29",
         "2015-11-01T23:09:37.000+0000"
        ],
        [
         "2048",
         "Ann Chung",
         "22",
         "2015-11-18T23:11:15.000+0000"
        ],
        [
         "1341",
         "Abigail Ali",
         "20",
         "2015-10-24T11:23:51.000+0000"
        ],
        [
         "2553",
         "Bonnie Estrada",
         "30",
         "2015-10-21T07:31:00.000+0000"
        ],
        [
         "2810",
         "Brandi Cervantes",
         "35",
         "2016-05-31T01:40:44.000+0000"
        ],
        [
         "9155",
         "Aaron Alexander",
         "21",
         "2015-10-25T07:36:08.000+0000"
        ],
        [
         "7448",
         "Brenda Gonzalez",
         "56",
         "2015-12-07T11:53:35.000+0000"
        ],
        [
         "1173",
         "Dana Jackson",
         "57",
         "2016-06-05T21:37:09.000+0000"
        ],
        [
         "1631",
         "Lauren Powell",
         "30",
         "2016-05-22T08:40:37.000+0000"
        ],
        [
         "8090",
         "Aaron Abbott",
         "20",
         "2015-10-23T16:08:41.000+0000"
        ],
        [
         "7511",
         "Sarah Valenzuela",
         "54",
         "2016-12-08T15:53:57.000+0000"
        ],
        [
         "8996",
         "Aaron Alexander",
         "21",
         "2015-10-25T07:36:08.000+0000"
        ],
        [
         "9335",
         "Amanda Adams",
         "20",
         "2015-10-21T08:27:36.000+0000"
        ],
        [
         "1139",
         "Jeffrey Smith",
         "30",
         "2016-10-26T06:53:14.000+0000"
        ],
        [
         "7437",
         "Alvin Adams",
         "20",
         "2016-01-01T13:50:40.000+0000"
        ],
        [
         "5198",
         "James Sharp",
         "23",
         "2016-10-21T08:22:24.000+0000"
        ],
        [
         "9407",
         "Amy Andrews",
         "23",
         "2015-10-29T19:12:55.000+0000"
        ],
        [
         "8926",
         "Tyler Davis",
         "27",
         "2016-06-14T18:48:59.000+0000"
        ],
        [
         "8592",
         "Alicia Benjamin",
         "27",
         "2015-12-10T18:40:42.000+0000"
        ],
        [
         "1503",
         "Anthony Bryan",
         "22",
         "2015-10-24T15:35:59.000+0000"
        ],
        [
         "7162",
         "Alan Davis",
         "34",
         "2016-04-25T01:45:51.000+0000"
        ],
        [
         "4780",
         "Kristina King",
         "34",
         "2015-12-17T06:10:31.000+0000"
        ],
        [
         "10020",
         "Christopher Hawkins",
         "45",
         "2016-09-15T06:02:53.000+0000"
        ],
        [
         "365",
         "Kevin Torres",
         "51",
         "2016-08-07T18:45:21.000+0000"
        ],
        [
         "2975",
         "Debbie Crawford",
         "23",
         "2016-04-04T04:03:32.000+0000"
        ],
        [
         "6865",
         "Monica Hernandez",
         "33",
         "2016-04-01T13:54:42.000+0000"
        ],
        [
         "10538",
         "Jordan Grant",
         "42",
         "2016-07-29T00:56:59.000+0000"
        ],
        [
         "4249",
         "Alexandria Alvarado",
         "20",
         "2015-10-23T04:13:23.000+0000"
        ],
        [
         "1514",
         "Michael Perkins",
         "40",
         "2017-06-28T16:17:39.000+0000"
        ],
        [
         "7467",
         "Donna Carroll",
         "21",
         "2016-02-02T12:25:05.000+0000"
        ],
        [
         "10029",
         "Anthony Baker",
         "20",
         "2015-11-14T19:24:56.000+0000"
        ],
        [
         "3813",
         "James Green",
         "47",
         "2016-04-27T16:02:10.000+0000"
        ],
        [
         "637",
         "Alexis Carrillo",
         "24",
         "2016-01-03T01:10:04.000+0000"
        ],
        [
         "9270",
         "Amy Brown",
         "21",
         "2015-11-08T16:14:16.000+0000"
        ],
        [
         "1667",
         "Bernard Arnold",
         "21",
         "2015-12-12T01:39:29.000+0000"
        ],
        [
         "3032",
         "Anthony Chen",
         "24",
         "2016-06-15T12:49:30.000+0000"
        ],
        [
         "4",
         "Adam Acosta",
         "20",
         "2015-10-21T21:26:45.000+0000"
        ],
        [
         "6809",
         "Andrea Carroll",
         "20",
         "2016-01-21T03:54:20.000+0000"
        ],
        [
         "10883",
         "Carl Hampton",
         "25",
         "2015-11-26T03:43:03.000+0000"
        ],
        [
         "5091",
         "Samantha Hall",
         "27",
         "2017-04-27T09:48:22.000+0000"
        ],
        [
         "1170",
         "Stacey Stewart",
         "24",
         "2017-03-24T10:12:14.000+0000"
        ],
        [
         "10321",
         "Andrea Burke",
         "20",
         "2015-12-12T11:20:08.000+0000"
        ],
        [
         "9014",
         "Luke Carter",
         "37",
         "2016-01-13T20:19:57.000+0000"
        ],
        [
         "1643",
         "Claire Leonard",
         "45",
         "2016-03-18T23:34:56.000+0000"
        ],
        [
         "10137",
         "Daniel Matthews",
         "34",
         "2016-01-23T03:59:37.000+0000"
        ],
        [
         "1611",
         "Erik Martinez",
         "40",
         "2017-03-08T06:03:20.000+0000"
        ],
        [
         "9550",
         "John Foster",
         "32",
         "2016-06-10T15:27:19.000+0000"
        ],
        [
         "857",
         "Andrew Burke",
         "20",
         "2015-11-14T17:38:31.000+0000"
        ],
        [
         "6575",
         "Devon Waller",
         "38",
         "2016-03-11T13:19:05.000+0000"
        ],
        [
         "8237",
         "Aaron Abbott",
         "20",
         "2015-10-23T16:08:41.000+0000"
        ],
        [
         "3644",
         "Angela Hall",
         "27",
         "2016-02-22T03:37:09.000+0000"
        ],
        [
         "4949",
         "Colin Clayton",
         "46",
         "2016-11-18T10:00:53.000+0000"
        ],
        [
         "1024",
         "Jason Martin",
         "53",
         "2016-06-07T07:09:02.000+0000"
        ],
        [
         "6170",
         "Eric Gonzalez",
         "36",
         "2016-07-31T17:22:08.000+0000"
        ],
        [
         "91",
         "Darryl Baker",
         "29",
         "2016-02-26T03:45:09.000+0000"
        ],
        [
         "5395",
         "Leah Franco",
         "36",
         "2017-04-01T04:04:00.000+0000"
        ],
        [
         "9146",
         "Andrew Anderson",
         "23",
         "2015-11-28T11:52:37.000+0000"
        ],
        [
         "7484",
         "Jason Herrera",
         "40",
         "2016-10-21T21:15:50.000+0000"
        ],
        [
         "2759",
         "Anthony Chen",
         "24",
         "2016-06-15T12:49:30.000+0000"
        ],
        [
         "9355",
         "Elizabeth Johnson",
         "33",
         "2016-12-09T23:34:15.000+0000"
        ],
        [
         "6019",
         "Heather Russell",
         "44",
         "2017-09-17T22:18:59.000+0000"
        ],
        [
         "4922",
         "Abigail Barry",
         "21",
         "2015-12-03T10:40:24.000+0000"
        ],
        [
         "3094",
         "Jose Smith",
         "55",
         "2016-12-13T06:09:30.000+0000"
        ],
        [
         "5911",
         "Anna Adams",
         "21",
         "2015-11-27T08:22:20.000+0000"
        ],
        [
         "3504",
         "Kyle Floyd",
         "20",
         "2016-07-29T04:25:14.000+0000"
        ],
        [
         "1786",
         "Adam Gibson",
         "21",
         "2015-11-22T23:22:23.000+0000"
        ],
        [
         "7539",
         "Alvin Adams",
         "20",
         "2016-01-01T13:50:40.000+0000"
        ],
        [
         "8004",
         "Frank Combs",
         "23",
         "2015-11-30T05:25:22.000+0000"
        ],
        [
         "7039",
         "Brian Buckley",
         "28",
         "2016-10-14T03:43:48.000+0000"
        ],
        [
         "7276",
         "Meghan Gomez",
         "52",
         "2017-05-08T12:25:11.000+0000"
        ],
        [
         "7961",
         "Alex Adams",
         "20",
         "2015-11-02T22:24:22.000+0000"
        ],
        [
         "8120",
         "James Goodwin",
         "20",
         "2016-01-24T09:18:29.000+0000"
        ],
        [
         "4113",
         "Heidi Perez",
         "39",
         "2015-12-21T02:15:53.000+0000"
        ],
        [
         "6328",
         "Ashley Combs",
         "34",
         "2015-11-13T06:33:05.000+0000"
        ],
        [
         "1694",
         "James Mills",
         "38",
         "2017-08-13T19:07:29.000+0000"
        ],
        [
         "1179",
         "Cynthia Clark",
         "20",
         "2016-01-30T15:21:25.000+0000"
        ],
        [
         "5402",
         "James Brown",
         "49",
         "2016-04-06T13:56:50.000+0000"
        ],
        [
         "781",
         "Alexandra Allen",
         "20",
         "2015-10-23T13:07:00.000+0000"
        ],
        [
         "8089",
         "Melissa Griffin",
         "47",
         "2017-04-24T05:30:31.000+0000"
        ],
        [
         "4245",
         "Alexandria Alvarado",
         "20",
         "2015-10-23T04:13:23.000+0000"
        ],
        [
         "9718",
         "Brian Barnes",
         "23",
         "2017-01-17T06:38:28.000+0000"
        ],
        [
         "1308",
         "Charles Clark",
         "25",
         "2016-01-14T12:21:54.000+0000"
        ],
        [
         "604",
         "Cynthia Ortiz",
         "35",
         "2016-03-05T05:16:44.000+0000"
        ],
        [
         "10865",
         "Nicole Harrison",
         "29",
         "2017-07-24T18:11:03.000+0000"
        ],
        [
         "7891",
         "Amanda Brown",
         "20",
         "2015-11-12T03:23:49.000+0000"
        ],
        [
         "9332",
         "Gregory Carpenter",
         "23",
         "2016-07-14T11:45:49.000+0000"
        ],
        [
         "4556",
         "Timothy Meyer",
         "40",
         "2016-06-23T22:33:38.000+0000"
        ],
        [
         "10853",
         "Amanda Cox",
         "37",
         "2015-12-29T23:56:30.000+0000"
        ],
        [
         "307",
         "John Cruz",
         "55",
         "2017-03-15T23:04:39.000+0000"
        ],
        [
         "3231",
         "Andrew Baker",
         "22",
         "2015-12-21T08:06:54.000+0000"
        ],
        [
         "10429",
         "Brandon Henderson",
         "24",
         "2016-01-12T17:59:43.000+0000"
        ],
        [
         "2465",
         "Duane Lopez",
         "27",
         "2016-05-01T09:31:11.000+0000"
        ],
        [
         "9903",
         "Amanda Baker",
         "20",
         "2016-01-31T04:46:39.000+0000"
        ],
        [
         "10154",
         "Lauren Hill",
         "52",
         "2016-01-08T17:05:07.000+0000"
        ],
        [
         "33",
         "Angela Conner",
         "36",
         "2016-09-21T11:18:22.000+0000"
        ],
        [
         "9584",
         "David Harper",
         "38",
         "2016-08-12T12:33:07.000+0000"
        ],
        [
         "9935",
         "Annette Andrews",
         "28",
         "2015-12-20T22:09:10.000+0000"
        ],
        [
         "7162",
         "Alan Davis",
         "34",
         "2016-04-25T01:45:51.000+0000"
        ],
        [
         "4857",
         "Barbara Clark",
         "21",
         "2015-11-17T01:16:08.000+0000"
        ],
        [
         "9653",
         "Jeffery Roberson",
         "42",
         "2017-06-29T14:26:41.000+0000"
        ],
        [
         "4396",
         "Justin Morris",
         "45",
         "2016-05-27T10:56:28.000+0000"
        ],
        [
         "5159",
         "Brian Davis",
         "38",
         "2015-12-09T10:50:57.000+0000"
        ],
        [
         "2946",
         "Samantha Carpenter",
         "24",
         "2016-06-26T00:05:17.000+0000"
        ],
        [
         "5759",
         "Brian Davis",
         "38",
         "2015-12-09T10:50:57.000+0000"
        ],
        [
         "9363",
         "James Warren",
         "57",
         "2017-09-29T23:40:45.000+0000"
        ],
        [
         "7983",
         "Aaron Anderson",
         "21",
         "2015-10-24T05:35:27.000+0000"
        ],
        [
         "10526",
         "Grace Luna",
         "27",
         "2016-09-02T02:25:43.000+0000"
        ],
        [
         "2172",
         "April Shaffer",
         "28",
         "2017-01-05T12:11:56.000+0000"
        ],
        [
         "4064",
         "Andrew Garcia",
         "44",
         "2015-10-27T20:31:15.000+0000"
        ],
        [
         "6957",
         "Brittany Brown",
         "37",
         "2016-06-25T14:36:22.000+0000"
        ],
        [
         "10585",
         "Katherine Dennis",
         "49",
         "2016-10-03T13:42:13.000+0000"
        ],
        [
         "160",
         "Anthony Mcbride",
         "46",
         "2016-06-10T09:51:54.000+0000"
        ],
        [
         "10347",
         "Julia Jackson",
         "23",
         "2016-11-13T02:31:21.000+0000"
        ],
        [
         "8889",
         "Melissa Thompson",
         "42",
         "2016-04-01T01:20:00.000+0000"
        ],
        [
         "1026",
         "Scott Campbell",
         "20",
         "2016-04-01T02:34:49.000+0000"
        ],
        [
         "3878",
         "William Donovan",
         "49",
         "2017-05-02T07:34:05.000+0000"
        ],
        [
         "10198",
         "Mary Pope",
         "41",
         "2016-06-25T05:11:46.000+0000"
        ],
        [
         "8449",
         "Aaron Abbott",
         "20",
         "2015-10-23T16:08:41.000+0000"
        ],
        [
         "9929",
         "Benjamin Brady",
         "21",
         "2016-05-11T06:22:07.000+0000"
        ],
        [
         "8162",
         "Benjamin Adams",
         "24",
         "2015-10-25T03:23:53.000+0000"
        ],
        [
         "10677",
         "Catherine Mitchell",
         "26",
         "2016-06-16T14:07:36.000+0000"
        ],
        [
         "6488",
         "Alec Bell",
         "22",
         "2016-01-09T15:37:07.000+0000"
        ],
        [
         "10278",
         "Christopher Fox",
         "44",
         "2016-10-26T03:56:51.000+0000"
        ],
        [
         "3393",
         "Courtney Berg",
         "20",
         "2015-11-30T10:24:37.000+0000"
        ],
        [
         "6740",
         "Erica Green",
         "36",
         "2017-05-31T09:19:59.000+0000"
        ],
        [
         "1175",
         "Jennifer Dunn",
         "47",
         "2015-10-21T09:05:46.000+0000"
        ],
        [
         "6276",
         "Briana Bryant",
         "23",
         "2016-03-30T16:14:41.000+0000"
        ],
        [
         "3930",
         "Kylie Alvarez",
         "35",
         "2015-10-30T03:04:23.000+0000"
        ],
        [
         "2668",
         "April Brown",
         "20",
         "2016-04-10T02:39:57.000+0000"
        ],
        [
         "5317",
         "Ashley Carter",
         "21",
         "2015-11-29T21:11:06.000+0000"
        ],
        [
         "2793",
         "Bobby Cook",
         "21",
         "2015-12-15T05:28:12.000+0000"
        ],
        [
         "6906",
         "April Anderson",
         "30",
         "2016-06-27T08:35:51.000+0000"
        ],
        [
         "2025",
         "Aaron Abbott",
         "20",
         "2015-10-31T18:51:07.000+0000"
        ],
        [
         "7950",
         "Kristy Donaldson",
         "46",
         "2017-08-15T03:04:44.000+0000"
        ],
        [
         "6797",
         "Janet Shaw",
         "27",
         "2016-11-02T03:54:55.000+0000"
        ],
        [
         "3185",
         "Alexandra Fuentes",
         "29",
         "2016-01-03T02:33:53.000+0000"
        ],
        [
         "1066",
         "Benjamin Branch",
         "44",
         "2016-06-08T17:23:33.000+0000"
        ],
        [
         "3352",
         "Abigail Adams",
         "20",
         "2015-10-25T13:11:51.000+0000"
        ],
        [
         "7952",
         "Karen Clark",
         "47",
         "2016-08-01T06:36:32.000+0000"
        ],
        [
         "10600",
         "Robert Mclaughlin",
         "49",
         "2016-02-27T04:42:03.000+0000"
        ],
        [
         "9530",
         "Denise Graves",
         "21",
         "2016-01-28T22:04:16.000+0000"
        ],
        [
         "8854",
         "Andrew Anderson",
         "23",
         "2015-11-28T11:52:37.000+0000"
        ],
        [
         "8461",
         "Cody Barker",
         "48",
         "2015-12-20T02:56:01.000+0000"
        ],
        [
         "10862",
         "Jamie Harrison",
         "37",
         "2017-07-19T01:17:18.000+0000"
        ],
        [
         "8251",
         "Timothy Orozco",
         "20",
         "2016-03-21T17:34:44.000+0000"
        ],
        [
         "2095",
         "Cheryl Dean",
         "57",
         "2017-08-01T04:00:30.000+0000"
        ],
        [
         "7285",
         "Alejandra Acevedo",
         "20",
         "2015-11-24T21:01:23.000+0000"
        ],
        [
         "7271",
         "Ashley Castro",
         "38",
         "2017-06-25T02:03:31.000+0000"
        ],
        [
         "5230",
         "Abigail Ali",
         "20",
         "2015-10-24T11:23:51.000+0000"
        ],
        [
         "4398",
         "Stacey Scott",
         "47",
         "2017-06-29T18:04:56.000+0000"
        ],
        [
         "4251",
         "Amanda Allen",
         "21",
         "2015-11-16T23:15:00.000+0000"
        ],
        [
         "9808",
         "Daniel Brooks",
         "25",
         "2015-11-19T21:24:33.000+0000"
        ],
        [
         "3884",
         "Alex Jimenez",
         "24",
         "2015-10-29T18:48:47.000+0000"
        ],
        [
         "6181",
         "Albert Allison",
         "20",
         "2015-10-21T22:27:27.000+0000"
        ],
        [
         "1881",
         "Jeffrey Brooks",
         "47",
         "2017-02-08T21:03:46.000+0000"
        ],
        [
         "9099",
         "Gregory Carpenter",
         "23",
         "2016-07-14T11:45:49.000+0000"
        ],
        [
         "2904",
         "Brad Abbott",
         "35",
         "2016-03-07T17:23:18.000+0000"
        ],
        [
         "1832",
         "Angela Carlson",
         "33",
         "2016-01-01T21:17:41.000+0000"
        ],
        [
         "4670",
         "Heather Barnes",
         "43",
         "2016-06-20T18:35:26.000+0000"
        ],
        [
         "2927",
         "Angela Andrews",
         "20",
         "2015-10-28T21:44:56.000+0000"
        ],
        [
         "9904",
         "Alexandra Austin",
         "22",
         "2015-11-06T05:05:43.000+0000"
        ],
        [
         "9120",
         "Dawn Mcdowell",
         "45",
         "2017-04-19T00:02:19.000+0000"
        ],
        [
         "8612",
         "Angela Berg",
         "20",
         "2015-11-10T05:57:33.000+0000"
        ],
        [
         "1465",
         "Juan Cortez",
         "20",
         "2016-04-07T13:02:08.000+0000"
        ],
        [
         "3896",
         "Alexandria Alvarado",
         "20",
         "2015-10-23T04:13:23.000+0000"
        ],
        [
         "7514",
         "Amanda Holt",
         "21",
         "2017-01-10T13:22:59.000+0000"
        ],
        [
         "1778",
         "Alice Bennett",
         "28",
         "2016-05-03T03:50:42.000+0000"
        ],
        [
         "2780",
         "Kimberly Mack",
         "37",
         "2017-08-09T03:52:40.000+0000"
        ],
        [
         "4107",
         "Barbara English",
         "23",
         "2016-03-01T23:23:24.000+0000"
        ],
        [
         "10513",
         "Melody Thompson",
         "28",
         "2016-10-28T04:09:37.000+0000"
        ],
        [
         "320",
         "Alexandra Anderson",
         "47",
         "2016-07-06T00:08:29.000+0000"
        ],
        [
         "3164",
         "Cynthia Harper",
         "43",
         "2016-01-23T05:44:11.000+0000"
        ],
        [
         "2041",
         "Christopher Campbell",
         "35",
         "2015-10-22T22:42:23.000+0000"
        ],
        [
         "4489",
         "Tracie Thompson",
         "34",
         "2017-08-21T02:27:26.000+0000"
        ],
        [
         "10247",
         "Gloria Mills",
         "53",
         "2016-07-14T12:43:36.000+0000"
        ],
        [
         "7685",
         "Brian Howard",
         "23",
         "2015-12-20T18:33:11.000+0000"
        ],
        [
         "5084",
         "Marissa Spence",
         "53",
         "2016-06-30T20:53:16.000+0000"
        ],
        [
         "1789",
         "Jennifer Snyder",
         "53",
         "2017-03-27T10:25:34.000+0000"
        ],
        [
         "1263",
         "Anthony Bryan",
         "22",
         "2015-10-24T15:35:59.000+0000"
        ],
        [
         "3562",
         "Alison Cole",
         "21",
         "2015-11-05T13:39:57.000+0000"
        ],
        [
         "2787",
         "Christopher Brown",
         "21",
         "2016-05-23T23:48:56.000+0000"
        ],
        [
         "7318",
         "James Dunn",
         "45",
         "2016-04-30T10:48:25.000+0000"
        ],
        [
         "570",
         "Alexandra Allen",
         "20",
         "2015-10-23T13:07:00.000+0000"
        ],
        [
         "1570",
         "Jason Thomas",
         "35",
         "2017-09-16T08:44:13.000+0000"
        ],
        [
         "7769",
         "Aaron Abbott",
         "20",
         "2015-10-23T16:08:41.000+0000"
        ],
        [
         "896",
         "Amanda Guzman",
         "26",
         "2016-01-19T18:41:59.000+0000"
        ],
        [
         "9054",
         "Andrea Alexander",
         "21",
         "2015-11-10T09:27:42.000+0000"
        ],
        [
         "9749",
         "Arthur Riggs",
         "46",
         "2016-05-01T10:44:18.000+0000"
        ],
        [
         "3710",
         "Nicole Johnson",
         "44",
         "2016-02-08T18:55:39.000+0000"
        ],
        [
         "7862",
         "Andrew Arnold",
         "21",
         "2015-12-02T08:29:10.000+0000"
        ],
        [
         "653",
         "Adam Nash",
         "36",
         "2016-11-26T08:35:53.000+0000"
        ],
        [
         "7770",
         "Jeffrey Hudson",
         "58",
         "2017-08-17T18:45:27.000+0000"
        ],
        [
         "7718",
         "Katherine Howell",
         "56",
         "2017-07-22T19:52:39.000+0000"
        ],
        [
         "2288",
         "Corey Andrews",
         "23",
         "2015-11-25T13:36:22.000+0000"
        ],
        [
         "9010",
         "Albert Allison",
         "20",
         "2015-10-21T22:27:27.000+0000"
        ],
        [
         "3266",
         "Robert Golden",
         "50",
         "2017-03-19T15:29:02.000+0000"
        ],
        [
         "2422",
         "Maria Franklin",
         "44",
         "2016-10-25T14:57:24.000+0000"
        ],
        [
         "1598",
         "Adrian Baker",
         "24",
         "2015-12-04T05:17:24.000+0000"
        ],
        [
         "7262",
         "Jacob Alvarez",
         "27",
         "2016-01-29T09:37:46.000+0000"
        ],
        [
         "5254",
         "William Combs",
         "50",
         "2015-12-06T10:58:54.000+0000"
        ],
        [
         "8511",
         "Molly Curtis",
         "20",
         "2016-06-30T10:13:01.000+0000"
        ],
        [
         "6749",
         "Amanda Adams",
         "20",
         "2015-10-21T08:27:36.000+0000"
        ],
        [
         "1487",
         "Jonathan Rodriguez",
         "30",
         "2016-09-05T12:31:44.000+0000"
        ],
        [
         "5349",
         "Caitlyn Baker",
         "22",
         "2015-11-11T17:56:54.000+0000"
        ],
        [
         "831",
         "Aimee Collins",
         "28",
         "2016-06-16T02:06:38.000+0000"
        ],
        [
         "8700",
         "Alexander Bailey",
         "20",
         "2015-10-30T11:37:32.000+0000"
        ],
        [
         "3349",
         "Alice Bennett",
         "28",
         "2016-05-03T03:50:42.000+0000"
        ],
        [
         "616",
         "Brandon Holmes",
         "21",
         "2015-11-02T23:30:01.000+0000"
        ],
        [
         "1676",
         "Kyle Mccarthy",
         "41",
         "2016-04-10T12:18:20.000+0000"
        ],
        [
         "4530",
         "Jamie Davis",
         "33",
         "2016-03-23T06:58:08.000+0000"
        ],
        [
         "2970",
         "Anthony Brown",
         "33",
         "2015-10-24T16:39:50.000+0000"
        ],
        [
         "8315",
         "Andrew Alexander",
         "20",
         "2015-11-20T09:08:00.000+0000"
        ],
        [
         "4505",
         "Diane Phillips",
         "59",
         "2016-03-01T14:23:30.000+0000"
        ],
        [
         "865",
         "Anna Bird",
         "25",
         "2015-10-21T18:29:08.000+0000"
        ],
        [
         "10715",
         "Angela Brown",
         "36",
         "2015-12-14T13:52:48.000+0000"
        ],
        [
         "1896",
         "Amanda Anderson",
         "23",
         "2016-02-22T08:38:01.000+0000"
        ],
        [
         "155",
         "Alexandra Allen",
         "20",
         "2015-10-23T13:07:00.000+0000"
        ],
        [
         "7902",
         "Andrew Alexander",
         "20",
         "2015-11-20T09:08:00.000+0000"
        ],
        [
         "8519",
         "Alicia Burnett",
         "23",
         "2016-07-18T00:04:07.000+0000"
        ],
        [
         "4186",
         "Christina Bryant",
         "33",
         "2016-04-27T01:35:39.000+0000"
        ],
        [
         "741",
         "Adam Acosta",
         "20",
         "2015-10-21T21:26:45.000+0000"
        ],
        [
         "7093",
         "Jonathan Martinez",
         "31",
         "2016-02-28T10:31:48.000+0000"
        ],
        [
         "7640",
         "Aaron Anderson",
         "21",
         "2015-10-24T05:35:27.000+0000"
        ],
        [
         "4816",
         "Darin Lee",
         "25",
         "2016-08-09T23:13:29.000+0000"
        ],
        [
         "9183",
         "Brittany Cruz",
         "47",
         "2016-07-28T09:04:46.000+0000"
        ],
        [
         "525",
         "Abigail Ali",
         "20",
         "2015-10-24T11:23:51.000+0000"
        ],
        [
         "10908",
         "Stephanie Cooper",
         "20",
         "2017-06-01T02:30:48.000+0000"
        ],
        [
         "6240",
         "Linda Tate",
         "33",
         "2017-06-14T08:16:57.000+0000"
        ],
        [
         "222",
         "Herbert Sawyer",
         "45",
         "2016-07-27T15:08:03.000+0000"
        ],
        [
         "7209",
         "April Anderson",
         "30",
         "2016-06-27T08:35:51.000+0000"
        ],
        [
         "7560",
         "Theresa Dixon",
         "47",
         "2015-12-18T14:49:13.000+0000"
        ],
        [
         "2334",
         "Bailey Rogers",
         "31",
         "2015-10-22T22:51:57.000+0000"
        ],
        [
         "9234",
         "Christina Aguilar",
         "23",
         "2015-12-09T20:29:10.000+0000"
        ],
        [
         "2354",
         "Danielle Barber",
         "23",
         "2016-02-21T14:23:49.000+0000"
        ],
        [
         "4761",
         "Christopher Norman",
         "40",
         "2017-03-07T21:33:30.000+0000"
        ],
        [
         "4122",
         "Michael Chan",
         "38",
         "2017-03-23T16:11:45.000+0000"
        ],
        [
         "9256",
         "Andrew Anderson",
         "23",
         "2015-11-28T11:52:37.000+0000"
        ],
        [
         "2161",
         "Alexander Rodriguez",
         "55",
         "2017-08-12T13:26:38.000+0000"
        ],
        [
         "9812",
         "Janet Andrews",
         "28",
         "2016-06-11T14:48:17.000+0000"
        ],
        [
         "5044",
         "Amanda Bowers",
         "22",
         "2016-01-18T20:23:23.000+0000"
        ],
        [
         "7068",
         "Andrea Beasley",
         "23",
         "2015-11-10T10:26:14.000+0000"
        ],
        [
         "3226",
         "Angela Andrews",
         "20",
         "2015-10-28T21:44:56.000+0000"
        ],
        [
         "3882",
         "Darryl Alexander",
         "25",
         "2015-12-02T11:20:58.000+0000"
        ],
        [
         "3111",
         "Natasha Gonzalez",
         "51",
         "2016-05-17T07:56:53.000+0000"
        ],
        [
         "10507",
         "Hannah Allen",
         "21",
         "2016-12-02T04:34:51.000+0000"
        ],
        [
         "1775",
         "James Graham",
         "22",
         "2015-12-24T13:28:36.000+0000"
        ],
        [
         "9482",
         "Heather Hall",
         "31",
         "2017-02-25T07:58:37.000+0000"
        ],
        [
         "8224",
         "Eric Buck",
         "45",
         "2015-10-28T17:36:12.000+0000"
        ],
        [
         "1481",
         "Alison Harding",
         "35",
         "2017-10-05T17:45:20.000+0000"
        ],
        [
         "4333",
         "Andre Bartlett",
         "20",
         "2015-10-30T20:41:47.000+0000"
        ],
        [
         "8834",
         "Andrea Alexander",
         "21",
         "2015-11-10T09:27:42.000+0000"
        ],
        [
         "1530",
         "Jose Robbins",
         "54",
         "2016-03-07T19:38:00.000+0000"
        ],
        [
         "1104",
         "Holly Bailey",
         "48",
         "2016-02-01T07:15:19.000+0000"
        ],
        [
         "498",
         "Anna Bird",
         "25",
         "2015-10-21T18:29:08.000+0000"
        ],
        [
         "813",
         "Christopher Gonzalez",
         "30",
         "2016-03-02T23:44:12.000+0000"
        ],
        [
         "3703",
         "Alison Cole",
         "21",
         "2015-11-05T13:39:57.000+0000"
        ],
        [
         "4585",
         "Amy Atkins",
         "21",
         "2015-10-31T07:37:40.000+0000"
        ],
        [
         "10073",
         "Jeffrey Hunter",
         "32",
         "2016-09-07T04:52:20.000+0000"
        ],
        [
         "974",
         "David Jones",
         "40",
         "2016-06-30T00:50:31.000+0000"
        ],
        [
         "4944",
         "Amber Bennett",
         "29",
         "2016-02-28T04:37:04.000+0000"
        ],
        [
         "9643",
         "Daniel Reyes",
         "32",
         "2017-08-02T14:05:48.000+0000"
        ],
        [
         "2308",
         "Aaron Greene",
         "25",
         "2016-01-14T00:10:04.000+0000"
        ],
        [
         "8058",
         "Joyce Ochoa",
         "23",
         "2016-12-27T11:43:07.000+0000"
        ],
        [
         "4115",
         "Danielle Cook",
         "22",
         "2016-05-18T00:47:21.000+0000"
        ],
        [
         "643",
         "Anthony Adkins",
         "21",
         "2015-10-28T03:59:42.000+0000"
        ],
        [
         "1776",
         "Deanna Molina",
         "22",
         "2016-04-07T20:10:55.000+0000"
        ],
        [
         "1972",
         "Michelle Smith",
         "52",
         "2017-05-05T05:06:56.000+0000"
        ],
        [
         "4641",
         "Anthony Dean",
         "21",
         "2016-04-15T19:54:05.000+0000"
        ],
        [
         "909",
         "Daniel Peck",
         "24",
         "2016-02-22T23:13:34.000+0000"
        ],
        [
         "10369",
         "Gabrielle Flores",
         "34",
         "2017-09-17T01:53:38.000+0000"
        ],
        [
         "7964",
         "Aaron Abbott",
         "20",
         "2015-10-23T16:08:41.000+0000"
        ],
        [
         "9455",
         "Calvin Baker",
         "26",
         "2015-11-14T05:58:38.000+0000"
        ],
        [
         "6978",
         "Jack Morales",
         "56",
         "2016-10-23T06:50:28.000+0000"
        ],
        [
         "7057",
         "Jay Hampton",
         "21",
         "2016-05-10T01:52:46.000+0000"
        ],
        [
         "935",
         "Michael Brooks",
         "48",
         "2016-08-05T06:18:29.000+0000"
        ],
        [
         "4417",
         "Maria Long",
         "27",
         "2017-09-28T00:27:20.000+0000"
        ],
        [
         "9950",
         "Christopher Bates",
         "30",
         "2016-05-25T10:09:22.000+0000"
        ],
        [
         "3632",
         "Danielle Chambers",
         "21",
         "2015-12-08T00:29:58.000+0000"
        ],
        [
         "6305",
         "Aaron Anderson",
         "21",
         "2015-10-23T03:43:54.000+0000"
        ],
        [
         "2810",
         "Brandi Cervantes",
         "35",
         "2016-05-31T01:40:44.000+0000"
        ],
        [
         "4066",
         "Adam Armstrong",
         "20",
         "2015-12-17T08:43:40.000+0000"
        ],
        [
         "10570",
         "David Evans",
         "21",
         "2016-03-28T10:54:55.000+0000"
        ],
        [
         "9533",
         "Alice Day",
         "25",
         "2015-11-04T05:12:00.000+0000"
        ],
        [
         "1411",
         "Adrian Baker",
         "24",
         "2015-12-04T05:17:24.000+0000"
        ],
        [
         "7861",
         "Alexandria Gross",
         "22",
         "2016-06-07T14:30:06.000+0000"
        ],
        [
         "6403",
         "April Simmons",
         "34",
         "2017-05-27T14:44:48.000+0000"
        ],
        [
         "860",
         "Jay Davis",
         "33",
         "2016-12-04T21:33:36.000+0000"
        ],
        [
         "5209",
         "Bradley Griffin",
         "24",
         "2016-04-05T09:58:20.000+0000"
        ],
        [
         "4590",
         "Daniel Davis",
         "29",
         "2016-12-15T04:11:20.000+0000"
        ],
        [
         "4080",
         "Marie Kennedy",
         "42",
         "2016-08-11T18:30:52.000+0000"
        ],
        [
         "9035",
         "Aaron Alexander",
         "21",
         "2015-10-25T07:36:08.000+0000"
        ],
        [
         "857",
         "Andrew Burke",
         "20",
         "2015-11-14T17:38:31.000+0000"
        ],
        [
         "10347",
         "Julia Jackson",
         "23",
         "2016-11-13T02:31:21.000+0000"
        ],
        [
         "7356",
         "Andrew Anderson",
         "23",
         "2015-11-28T11:52:37.000+0000"
        ],
        [
         "5796",
         "Adam Alexander",
         "20",
         "2015-10-22T11:31:37.000+0000"
        ],
        [
         "10156",
         "Shawn Gray",
         "34",
         "2017-02-05T07:25:42.000+0000"
        ],
        [
         "7666",
         "Aaron Abbott",
         "20",
         "2015-10-23T16:08:41.000+0000"
        ],
        [
         "10602",
         "Jack Dodson",
         "21",
         "2016-03-06T15:54:40.000+0000"
        ],
        [
         "7889",
         "Anthony Johnson",
         "23",
         "2016-07-09T05:03:39.000+0000"
        ],
        [
         "4210",
         "Anthony Golden",
         "56",
         "2017-05-03T22:37:43.000+0000"
        ],
        [
         "2499",
         "John Hamilton",
         "23",
         "2015-11-09T12:22:53.000+0000"
        ],
        [
         "2403",
         "Erin Lawson",
         "59",
         "2017-06-29T10:23:41.000+0000"
        ],
        [
         "678",
         "John Trujillo",
         "22",
         "2017-07-20T11:18:24.000+0000"
        ],
        [
         "1349",
         "Andrew Allen",
         "53",
         "2017-01-23T23:59:16.000+0000"
        ],
        [
         "6682",
         "Lisa Walls",
         "50",
         "2016-09-09T23:42:11.000+0000"
        ],
        [
         "2452",
         "Ashley Cortez",
         "21",
         "2017-03-07T07:21:57.000+0000"
        ],
        [
         "2523",
         "Bryce Bailey",
         "37",
         "2015-11-28T01:46:17.000+0000"
        ],
        [
         "2754",
         "Lance Li",
         "23",
         "2016-06-14T14:03:04.000+0000"
        ],
        [
         "7165",
         "Nancy Jones",
         "35",
         "2016-01-12T09:32:19.000+0000"
        ],
        [
         "2795",
         "Carrie Holder",
         "21",
         "2015-10-27T11:16:56.000+0000"
        ],
        [
         "2595",
         "Christopher Barnett",
         "22",
         "2016-03-24T09:38:54.000+0000"
        ],
        [
         "8282",
         "Andrew Alexander",
         "20",
         "2015-11-20T09:08:00.000+0000"
        ],
        [
         "5111",
         "Lonnie Boyd",
         "49",
         "2016-02-08T06:54:03.000+0000"
        ],
        [
         "5679",
         "Melanie Allison",
         "32",
         "2017-07-02T05:22:18.000+0000"
        ],
        [
         "5512",
         "Caitlyn Baker",
         "22",
         "2015-11-11T17:56:54.000+0000"
        ],
        [
         "5405",
         "Adam Alexander",
         "20",
         "2015-10-22T11:31:37.000+0000"
        ],
        [
         "159",
         "Alison Bell",
         "21",
         "2016-01-07T08:11:35.000+0000"
        ],
        [
         "4769",
         "Abigail Barry",
         "21",
         "2015-12-03T10:40:24.000+0000"
        ],
        [
         "2447",
         "Nancy Patel",
         "35",
         "2017-06-27T10:00:11.000+0000"
        ],
        [
         "3345",
         "Benjamin Turner",
         "36",
         "2016-08-30T14:33:44.000+0000"
        ],
        [
         "6756",
         "Michael Clark",
         "26",
         "2016-06-15T18:10:59.000+0000"
        ],
        [
         "644",
         "Aaron Bartlett",
         "21",
         "2015-11-24T02:15:36.000+0000"
        ],
        [
         "187",
         "Laura Knight",
         "21",
         "2016-12-02T03:34:06.000+0000"
        ],
        [
         "7631",
         "Jennifer Bailey",
         "42",
         "2016-03-07T21:07:12.000+0000"
        ],
        [
         "1780",
         "Angela Andrews",
         "20",
         "2015-10-28T21:44:56.000+0000"
        ],
        [
         "7154",
         "Alejandra Acevedo",
         "20",
         "2015-11-24T21:01:23.000+0000"
        ],
        [
         "4764",
         "Michael Adams",
         "32",
         "2016-03-15T21:43:17.000+0000"
        ],
        [
         "8967",
         "Joshua Harrison",
         "26",
         "2017-04-30T16:38:10.000+0000"
        ],
        [
         "925",
         "Aaron Abbott",
         "20",
         "2015-10-31T18:51:07.000+0000"
        ],
        [
         "3638",
         "Rebecca Conner",
         "33",
         "2015-12-29T22:26:53.000+0000"
        ],
        [
         "924",
         "Adam Baker",
         "30",
         "2016-04-17T19:47:03.000+0000"
        ],
        [
         "2297",
         "Debbie Mitchell",
         "46",
         "2017-02-23T00:45:45.000+0000"
        ],
        [
         "1324",
         "Patrick Davidson",
         "41",
         "2016-12-24T11:07:22.000+0000"
        ],
        [
         "5155",
         "Steven Weiss",
         "22",
         "2017-09-25T07:45:23.000+0000"
        ],
        [
         "1707",
         "Albert Jackson",
         "23",
         "2016-04-13T18:06:15.000+0000"
        ],
        [
         "9123",
         "Margaret Torres",
         "21",
         "2017-05-24T03:44:43.000+0000"
        ],
        [
         "10271",
         "Mark Duran",
         "28",
         "2016-03-23T00:25:16.000+0000"
        ],
        [
         "4475",
         "Anna Taylor",
         "34",
         "2017-04-25T14:21:09.000+0000"
        ],
        [
         "6021",
         "Elaine Savage",
         "23",
         "2017-10-13T13:55:52.000+0000"
        ],
        [
         "1214",
         "Alejandro Graham",
         "57",
         "2017-07-17T15:31:30.000+0000"
        ],
        [
         "10479",
         "Aaron Bailey",
         "20",
         "2015-11-02T04:40:42.000+0000"
        ],
        [
         "5561",
         "Amanda Anderson",
         "24",
         "2015-11-11T20:38:26.000+0000"
        ],
        [
         "6631",
         "Valerie Leach",
         "33",
         "2015-10-31T10:25:32.000+0000"
        ],
        [
         "1749",
         "Andrew Buck",
         "23",
         "2016-01-06T23:14:16.000+0000"
        ],
        [
         "6386",
         "Alan Adams",
         "25",
         "2016-05-20T09:33:35.000+0000"
        ],
        [
         "746",
         "Diana Barry",
         "26",
         "2015-11-12T15:36:01.000+0000"
        ],
        [
         "4866",
         "Lawrence Lane",
         "28",
         "2017-07-09T11:52:42.000+0000"
        ],
        [
         "2779",
         "Allison Acosta",
         "20",
         "2015-10-24T01:15:02.000+0000"
        ],
        [
         "8843",
         "Alexander Bailey",
         "20",
         "2015-10-30T11:37:32.000+0000"
        ],
        [
         "4892",
         "Pamela Wilson",
         "28",
         "2016-07-10T23:56:30.000+0000"
        ]
       ],
       "datasetInfos": [],
       "dbfsResultPath": null,
       "isJsonSchema": true,
       "metadata": {},
       "overflow": false,
       "plotOptions": {
        "customPlotOptions": {},
        "displayType": "table",
        "pivotAggregation": null,
        "pivotColumns": null,
        "xColumns": null,
        "yColumns": null
       },
       "removedWidgets": [],
       "schema": [
        {
         "metadata": "{}",
         "name": "ind",
         "type": "\"string\""
        },
        {
         "metadata": "{}",
         "name": "user_name",
         "type": "\"string\""
        },
        {
         "metadata": "{}",
         "name": "age",
         "type": "\"string\""
        },
        {
         "metadata": "{}",
         "name": "date_joined",
         "type": "\"timestamp\""
        }
       ],
       "type": "table"
      }
     },
     "output_type": "display_data"
    }
   ],
   "source": [
    "from pyspark.sql import *\n",
    "from pyspark.sql.types import *\n",
    "\n",
    "\n",
    "spark.sql(\"TRUNCATE TABLE default.12ffc5aba733_user_table\")\n",
    "\n",
    "df_user = spark \\\n",
    ".readStream \\\n",
    ".format('kinesis') \\\n",
    ".option('streamName','streaming-12ffc5aba733-user') \\\n",
    ".option('initialPosition','latest') \\\n",
    ".option('region','us-east-1') \\\n",
    ".option('awsAccessKey', ACCESS_KEY) \\\n",
    ".option('awsSecretKey', SECRET_KEY) \\\n",
    ".load()\n",
    "df_user = df_user.selectExpr(\"CAST(data as STRING)\")\n",
    "\n",
    "schema = StructType([\n",
    "    StructField(\"ind\", StringType(), True),\n",
    "    StructField(\"first_name\", StringType(), True),\n",
    "    StructField(\"last_name\", StringType(), True),\n",
    "    StructField(\"age\", StringType(), True),\n",
    "    StructField(\"date_joined\", StringType(), True),\n",
    "])\n",
    "\n",
    "df_user = df_user.withColumn(\"jsonData\", from_json(col(\"data\").cast(\"string\"), schema))\n",
    "\n",
    "df_user_kinesis = df_user.select(\n",
    "    col(\"jsonData.ind\").alias(\"ind\"),\n",
    "    col(\"jsonData.first_name\").alias(\"first_name\"),\n",
    "    col(\"jsonData.last_name\").alias(\"last_name\"),\n",
    "    col(\"jsonData.age\").alias(\"age\"),\n",
    "    col(\"jsonData.date_joined\").alias(\"date_joined\"),\n",
    ")\n",
    "\n",
    "df_user_cleaned = df_user_kinesis.withColumn(\"user_name\", concat_ws(\" \", col(\"first_name\"), col(\"last_name\")))\n",
    "\n",
    "# Drop the columns from the DataFrame.\n",
    "df_user_cleaned = df_user_cleaned.drop(\"first_name\").drop(\"last_name\")\n",
    "\n",
    "# Convert the column from a string to a timestamp data type.\n",
    "df_user_cleaned = df_user_cleaned.withColumn(\"date_joined\", col(\"date_joined\").cast(TimestampType()))\n",
    "\n",
    "#  Reorder the DataFrame columns \n",
    "df_user_cleaned = df_user_cleaned.select(\"ind\", \"user_name\", \"age\", \"date_joined\")\n",
    "\n",
    "display(df_user_cleaned)\n",
    "\n",
    "#Write to delta table\n",
    "\n",
    "df_user_cleaned.writeStream \\\n",
    "  .format(\"delta\") \\\n",
    "  .outputMode(\"append\") \\\n",
    "  .option(\"checkpointLocation\", \"/tmp/kinesis/_checkpoints/\") \\\n",
    "  .table(\"12ffc5aba733_user_table\")\n"
   ]
  },
  {
   "cell_type": "code",
   "execution_count": 0,
   "metadata": {
    "application/vnd.databricks.v1+cell": {
     "cellMetadata": {
      "byteLimit": 2048000,
      "rowLimit": 10000
     },
     "inputWidgets": {},
     "nuid": "84f28bc5-3c53-4119-9af3-aa922b259b1d",
     "showTitle": false,
     "title": ""
    }
   },
   "outputs": [
    {
     "output_type": "display_data",
     "data": {
      "text/html": [
       "<style scoped>\n",
       "  .table-result-container {\n",
       "    max-height: 300px;\n",
       "    overflow: auto;\n",
       "  }\n",
       "  table, th, td {\n",
       "    border: 1px solid black;\n",
       "    border-collapse: collapse;\n",
       "  }\n",
       "  th, td {\n",
       "    padding: 5px;\n",
       "  }\n",
       "  th {\n",
       "    text-align: left;\n",
       "  }\n",
       "</style><div class='table-result-container'><table class='table-result'><thead style='background-color: white'><tr><th>ind</th><th>country</th><th>coordinates</th><th>timestamp</th></tr></thead><tbody><tr><td>995</td><td>Moldova</td><td>List(-88.0923, -179.319)</td><td>2022-09-22T12:17:57.000+0000</td></tr><tr><td>6250</td><td>Austria</td><td>List(-73.2098, -150.856)</td><td>2020-11-22T18:28:02.000+0000</td></tr><tr><td>3184</td><td>Cape Verde</td><td>List(-41.293, -171.585)</td><td>2018-09-25T23:17:46.000+0000</td></tr><tr><td>2955</td><td>Antigua and Barbuda</td><td>List(23.7768, -23.4838)</td><td>2022-10-11T17:21:06.000+0000</td></tr><tr><td>4357</td><td>Bahamas</td><td>List(-75.4909, -179.908)</td><td>2020-03-06T09:56:43.000+0000</td></tr><tr><td>3563</td><td>Saint Barthelemy</td><td>List(-77.3153, -69.505)</td><td>2018-09-05T07:40:01.000+0000</td></tr><tr><td>6558</td><td>Guadeloupe</td><td>List(-26.4944, -174.009)</td><td>2019-09-08T03:27:31.000+0000</td></tr><tr><td>4256</td><td>Afghanistan</td><td>List(-88.5478, -174.971)</td><td>2018-10-10T17:57:16.000+0000</td></tr><tr><td>450</td><td>Antigua and Barbuda</td><td>List(-81.0108, -165.206)</td><td>2018-09-28T05:43:18.000+0000</td></tr><tr><td>3945</td><td>Barbados</td><td>List(-66.2816, -142.673)</td><td>2022-04-17T02:01:53.000+0000</td></tr><tr><td>859</td><td>Romania</td><td>List(89.8261, 48.2256)</td><td>2020-04-07T19:23:24.000+0000</td></tr><tr><td>1521</td><td>Saint Helena</td><td>List(24.5192, 64.9674)</td><td>2022-10-12T14:03:26.000+0000</td></tr><tr><td>1961</td><td>Argentina</td><td>List(-65.3952, -175.249)</td><td>2022-07-29T18:16:50.000+0000</td></tr><tr><td>10099</td><td>Afghanistan</td><td>List(-89.4261, -171.58)</td><td>2020-12-24T13:33:03.000+0000</td></tr><tr><td>6066</td><td>Bolivia</td><td>List(-67.7278, -174.505)</td><td>2019-03-04T01:04:11.000+0000</td></tr><tr><td>10837</td><td>Samoa</td><td>List(86.6387, -26.2408)</td><td>2018-09-27T07:12:31.000+0000</td></tr><tr><td>6615</td><td>Wallis and Futuna</td><td>List(-25.2428, -32.8992)</td><td>2022-01-31T18:53:34.000+0000</td></tr><tr><td>7641</td><td>Albania</td><td>List(-87.2, -177.109)</td><td>2021-09-28T13:56:50.000+0000</td></tr><tr><td>640</td><td>Albania</td><td>List(-87.2, -177.109)</td><td>2019-07-12T16:46:03.000+0000</td></tr><tr><td>8174</td><td>Burkina Faso</td><td>List(-66.6708, -110.47)</td><td>2018-10-20T17:28:23.000+0000</td></tr><tr><td>1216</td><td>Albania</td><td>List(-69.8134, -152.834)</td><td>2020-07-19T23:57:16.000+0000</td></tr><tr><td>680</td><td>Bangladesh</td><td>List(-73.1838, -154.293)</td><td>2019-03-29T23:22:56.000+0000</td></tr><tr><td>9527</td><td>Turkmenistan</td><td>List(-38.4443, 170.601)</td><td>2021-11-17T07:50:58.000+0000</td></tr><tr><td>9426</td><td>Sao Tome and Principe</td><td>List(-29.8646, -78.1449)</td><td>2021-06-30T02:14:47.000+0000</td></tr><tr><td>8745</td><td>Tuvalu</td><td>List(31.6701, -59.7391)</td><td>2020-10-28T03:45:33.000+0000</td></tr><tr><td>5959</td><td>Cyprus</td><td>List(-44.9016, -17.5192)</td><td>2020-08-10T01:00:33.000+0000</td></tr><tr><td>2577</td><td>Aruba</td><td>List(-71.5025, -179.257)</td><td>2019-08-01T05:45:51.000+0000</td></tr><tr><td>3008</td><td>Venezuela</td><td>List(0.314337, -58.7666)</td><td>2019-07-31T22:36:11.000+0000</td></tr><tr><td>8081</td><td>Egypt</td><td>List(-33.8238, -129.18)</td><td>2022-03-25T07:42:29.000+0000</td></tr><tr><td>10120</td><td>Isle of Man</td><td>List(-55.1562, -122.854)</td><td>2022-03-10T07:02:32.000+0000</td></tr><tr><td>4045</td><td>American Samoa</td><td>List(-89.3099, -166.033)</td><td>2018-03-11T23:01:08.000+0000</td></tr><tr><td>1599</td><td>Bolivia</td><td>List(86.0967, 111.323)</td><td>2019-02-05T14:58:20.000+0000</td></tr><tr><td>2893</td><td>Bermuda</td><td>List(-68.5399, -28.38)</td><td>2018-03-05T04:33:55.000+0000</td></tr><tr><td>4024</td><td>Aruba</td><td>List(-61.471, -154.912)</td><td>2019-10-19T10:03:03.000+0000</td></tr><tr><td>310</td><td>Antigua and Barbuda</td><td>List(-81.0108, -165.206)</td><td>2021-01-25T22:22:37.000+0000</td></tr><tr><td>7905</td><td>Namibia</td><td>List(-47.8121, -134.015)</td><td>2018-11-13T12:39:43.000+0000</td></tr><tr><td>5488</td><td>Finland</td><td>List(-59.6163, -107.324)</td><td>2021-03-14T05:55:21.000+0000</td></tr><tr><td>744</td><td>New Caledonia</td><td>List(-76.8074, 58.7517)</td><td>2019-08-28T15:03:13.000+0000</td></tr><tr><td>7801</td><td>Afghanistan</td><td>List(-75.9161, -27.6285)</td><td>2017-11-18T22:54:58.000+0000</td></tr><tr><td>5620</td><td>Faroe Islands</td><td>List(-53.6087, -121.68)</td><td>2021-02-18T12:34:44.000+0000</td></tr><tr><td>8341</td><td>Somalia</td><td>List(-16.5066, -133.185)</td><td>2022-08-08T05:09:50.000+0000</td></tr><tr><td>10022</td><td>Benin</td><td>List(70.5626, -89.4526)</td><td>2018-12-17T20:26:14.000+0000</td></tr><tr><td>6134</td><td>Austria</td><td>List(-68.8136, -128.482)</td><td>2022-04-03T12:34:59.000+0000</td></tr><tr><td>3824</td><td>British Virgin Islands</td><td>List(-82.4276, -170.019)</td><td>2018-10-28T19:22:34.000+0000</td></tr><tr><td>7116</td><td>Macao</td><td>List(-18.3686, 72.4109)</td><td>2019-09-16T18:45:41.000+0000</td></tr><tr><td>74</td><td>Antigua and Barbuda</td><td>List(-81.0108, -165.206)</td><td>2020-01-29T14:03:35.000+0000</td></tr><tr><td>1335</td><td>Antarctica (the territory South of 60 deg S)</td><td>List(-77.9931, -175.682)</td><td>2022-03-19T17:29:42.000+0000</td></tr><tr><td>4513</td><td>Namibia</td><td>List(22.2314, 144.214)</td><td>2022-04-11T11:05:13.000+0000</td></tr><tr><td>7850</td><td>Vietnam</td><td>List(26.5208, 160.699)</td><td>2022-04-09T15:06:01.000+0000</td></tr><tr><td>10248</td><td>Equatorial Guinea</td><td>List(-31.9615, 161.151)</td><td>2019-11-03T15:11:00.000+0000</td></tr><tr><td>8123</td><td>Morocco</td><td>List(80.2593, -134.292)</td><td>2021-08-23T07:31:46.000+0000</td></tr><tr><td>2987</td><td>Dominica</td><td>List(83.1466, -169.136)</td><td>2019-12-24T22:33:06.000+0000</td></tr><tr><td>1487</td><td>Denmark</td><td>List(6.23029, -75.5939)</td><td>2021-05-15T18:23:45.000+0000</td></tr><tr><td>10052</td><td>Central African Republic</td><td>List(14.7195, -130.921)</td><td>2020-01-03T01:10:57.000+0000</td></tr><tr><td>8677</td><td>Bouvet Island (Bouvetoya)</td><td>List(-84.3984, -144.933)</td><td>2020-02-12T23:24:01.000+0000</td></tr><tr><td>5551</td><td>Colombia</td><td>List(-67.8095, 63.2758)</td><td>2022-03-22T06:04:33.000+0000</td></tr><tr><td>6652</td><td>Egypt</td><td>List(-78.2534, -170.668)</td><td>2018-11-28T08:21:12.000+0000</td></tr><tr><td>6479</td><td>Ireland</td><td>List(47.9142, -98.4756)</td><td>2020-10-12T04:13:06.000+0000</td></tr><tr><td>6660</td><td>Bouvet Island (Bouvetoya)</td><td>List(-54.5264, 73.4883)</td><td>2019-02-01T11:00:19.000+0000</td></tr><tr><td>9218</td><td>Benin</td><td>List(-70.6524, -171.552)</td><td>2020-05-07T21:30:58.000+0000</td></tr><tr><td>4055</td><td>Georgia</td><td>List(16.8902, -123.373)</td><td>2021-09-23T06:42:16.000+0000</td></tr><tr><td>7370</td><td>Saint Pierre and Miquelon</td><td>List(-24.2107, 138.463)</td><td>2018-04-05T08:02:42.000+0000</td></tr><tr><td>25</td><td>Ecuador</td><td>List(-81.3019, 63.8961)</td><td>2021-12-02T12:40:33.000+0000</td></tr><tr><td>6939</td><td>Cuba</td><td>List(-83.907, 149.749)</td><td>2022-04-06T03:57:03.000+0000</td></tr><tr><td>7383</td><td>Ecuador</td><td>List(-55.757, -157.572)</td><td>2022-01-28T15:36:36.000+0000</td></tr><tr><td>3240</td><td>Angola</td><td>List(-24.2386, -165.309)</td><td>2022-06-10T09:36:51.000+0000</td></tr><tr><td>8015</td><td>Martinique</td><td>List(52.4977, 94.336)</td><td>2020-03-13T18:02:39.000+0000</td></tr><tr><td>7745</td><td>Algeria</td><td>List(-89.5173, -179.689)</td><td>2018-11-01T18:20:28.000+0000</td></tr><tr><td>3360</td><td>Anguilla</td><td>List(-89.0609, -170.904)</td><td>2019-01-26T07:43:57.000+0000</td></tr><tr><td>6380</td><td>Argentina</td><td>List(-57.051, -133.377)</td><td>2017-12-21T21:46:23.000+0000</td></tr><tr><td>409</td><td>Cameroon</td><td>List(-41.5492, -152.355)</td><td>2019-05-28T01:00:22.000+0000</td></tr><tr><td>1814</td><td>Bangladesh</td><td>List(-82.3274, -122.209)</td><td>2020-04-25T10:16:28.000+0000</td></tr><tr><td>2343</td><td>Brazil</td><td>List(60.6981, -79.5945)</td><td>2019-10-15T13:21:45.000+0000</td></tr><tr><td>7759</td><td>Andorra</td><td>List(-84.7363, -179.087)</td><td>2020-06-14T00:42:47.000+0000</td></tr><tr><td>6717</td><td>Netherlands</td><td>List(-58.7512, -162.324)</td><td>2022-09-07T16:35:00.000+0000</td></tr><tr><td>4862</td><td>Czech Republic</td><td>List(-65.3198, -123.45)</td><td>2021-07-17T05:01:31.000+0000</td></tr><tr><td>6299</td><td>Bangladesh</td><td>List(29.1899, 98.5863)</td><td>2022-10-05T06:08:34.000+0000</td></tr><tr><td>9425</td><td>Macedonia</td><td>List(17.5612, 132.851)</td><td>2020-07-25T01:35:10.000+0000</td></tr><tr><td>1901</td><td>Mali</td><td>List(48.1778, 124.806)</td><td>2018-08-03T19:57:38.000+0000</td></tr><tr><td>527</td><td>Aruba</td><td>List(-75.3, -169.77)</td><td>2020-11-15T18:35:20.000+0000</td></tr><tr><td>334</td><td>Solomon Islands</td><td>List(-42.0076, 32.8769)</td><td>2021-11-06T04:13:00.000+0000</td></tr><tr><td>6348</td><td>Bangladesh</td><td>List(-76.8013, -28.1091)</td><td>2019-07-30T01:45:14.000+0000</td></tr><tr><td>3626</td><td>American Samoa</td><td>List(-89.3099, -166.033)</td><td>2021-05-31T08:12:00.000+0000</td></tr><tr><td>1857</td><td>Libyan Arab Jamahiriya</td><td>List(21.2186, -40.6656)</td><td>2018-05-10T13:51:40.000+0000</td></tr><tr><td>3660</td><td>French Guiana</td><td>List(-85.2885, 6.96501)</td><td>2018-10-23T21:26:01.000+0000</td></tr><tr><td>4377</td><td>Puerto Rico</td><td>List(-55.7837, 2.5347)</td><td>2020-07-18T04:12:10.000+0000</td></tr><tr><td>8505</td><td>New Zealand</td><td>List(63.1367, -61.1867)</td><td>2018-07-13T22:57:41.000+0000</td></tr><tr><td>10087</td><td>Cayman Islands</td><td>List(38.7097, -70.0495)</td><td>2018-12-10T17:17:32.000+0000</td></tr><tr><td>10050</td><td>Malawi</td><td>List(-62.2012, -115.461)</td><td>2018-09-23T01:54:04.000+0000</td></tr><tr><td>10917</td><td>Solomon Islands</td><td>List(-86.2944, -11.7821)</td><td>2019-08-18T13:14:30.000+0000</td></tr><tr><td>5737</td><td>Argentina</td><td>List(-80.3487, -178.419)</td><td>2020-04-11T11:27:31.000+0000</td></tr><tr><td>4561</td><td>Hungary</td><td>List(-63.6785, -29.2943)</td><td>2020-04-05T19:38:48.000+0000</td></tr><tr><td>6916</td><td>Solomon Islands</td><td>List(-73.9714, -119.315)</td><td>2020-04-26T04:12:09.000+0000</td></tr><tr><td>6341</td><td>Andorra</td><td>List(-81.6697, -149.084)</td><td>2018-05-22T07:07:24.000+0000</td></tr><tr><td>4765</td><td>Bhutan</td><td>List(56.1765, -60.3563)</td><td>2020-06-09T00:49:44.000+0000</td></tr><tr><td>10425</td><td>Bangladesh</td><td>List(-89.4254, -161.818)</td><td>2022-03-30T21:28:40.000+0000</td></tr><tr><td>10783</td><td>Afghanistan</td><td>List(-71.4881, -117.355)</td><td>2020-01-28T00:13:29.000+0000</td></tr><tr><td>6747</td><td>Saint Barthelemy</td><td>List(-63.5213, 141.538)</td><td>2019-04-23T08:01:32.000+0000</td></tr><tr><td>7180</td><td>Holy See (Vatican City State)</td><td>List(-22.7118, -167.739)</td><td>2018-04-22T21:33:50.000+0000</td></tr><tr><td>8100</td><td>Algeria</td><td>List(-89.5173, -179.689)</td><td>2019-12-03T15:49:59.000+0000</td></tr><tr><td>4781</td><td>Dominica</td><td>List(-72.0263, 32.3959)</td><td>2019-06-30T13:16:16.000+0000</td></tr><tr><td>1254</td><td>Latvia</td><td>List(76.9735, -178.147)</td><td>2021-06-08T18:40:59.000+0000</td></tr><tr><td>2011</td><td>Guinea</td><td>List(18.6922, -80.0756)</td><td>2020-12-14T18:11:42.000+0000</td></tr><tr><td>3436</td><td>Belize</td><td>List(-35.194, -115.253)</td><td>2022-05-31T23:26:11.000+0000</td></tr><tr><td>4424</td><td>Afghanistan</td><td>List(-85.7989, -150.644)</td><td>2021-05-18T02:48:52.000+0000</td></tr><tr><td>649</td><td>Sudan</td><td>List(-80.7952, -22.2518)</td><td>2020-10-06T14:24:08.000+0000</td></tr><tr><td>8645</td><td>Armenia</td><td>List(-69.636, -166.432)</td><td>2022-06-22T09:32:17.000+0000</td></tr><tr><td>5647</td><td>Germany</td><td>List(-82.2521, -110.013)</td><td>2021-05-11T20:20:59.000+0000</td></tr><tr><td>5704</td><td>Indonesia</td><td>List(-85.9781, -172.038)</td><td>2019-12-31T11:38:29.000+0000</td></tr><tr><td>10734</td><td>Aruba</td><td>List(-51.2174, -166.894)</td><td>2021-08-29T21:27:53.000+0000</td></tr><tr><td>4027</td><td>Barbados</td><td>List(-69.7124, -165.207)</td><td>2019-01-23T20:53:22.000+0000</td></tr><tr><td>8488</td><td>Argentina</td><td>List(-89.4739, -176.154)</td><td>2017-12-20T03:09:10.000+0000</td></tr><tr><td>5166</td><td>Austria</td><td>List(-26.0588, -72.2696)</td><td>2020-01-16T09:56:50.000+0000</td></tr><tr><td>5130</td><td>Grenada</td><td>List(-86.6858, -160.5)</td><td>2020-10-24T23:43:15.000+0000</td></tr><tr><td>1675</td><td>Estonia</td><td>List(13.8054, 13.0336)</td><td>2022-06-15T03:39:59.000+0000</td></tr><tr><td>10931</td><td>Armenia</td><td>List(-82.9685, -178.095)</td><td>2021-03-20T06:14:31.000+0000</td></tr><tr><td>7240</td><td>Albania</td><td>List(-89.9787, -173.293)</td><td>2022-05-31T21:23:46.000+0000</td></tr><tr><td>3831</td><td>Afghanistan</td><td>List(-88.5478, -174.971)</td><td>2018-07-22T21:46:59.000+0000</td></tr><tr><td>5527</td><td>Cote d'Ivoire</td><td>List(-74.0172, -109.979)</td><td>2022-06-03T09:49:02.000+0000</td></tr></tbody></table></div>"
      ]
     },
     "metadata": {
      "application/vnd.databricks.v1+output": {
       "addedWidgets": {},
       "aggData": [],
       "aggError": "",
       "aggOverflow": false,
       "aggSchema": [],
       "aggSeriesLimitReached": false,
       "aggType": "",
       "arguments": {},
       "columnCustomDisplayInfos": {},
       "data": [
        [
         "995",
         "Moldova",
         [
          "-88.0923",
          "-179.319"
         ],
         "2022-09-22T12:17:57.000+0000"
        ],
        [
         "6250",
         "Austria",
         [
          "-73.2098",
          "-150.856"
         ],
         "2020-11-22T18:28:02.000+0000"
        ],
        [
         "3184",
         "Cape Verde",
         [
          "-41.293",
          "-171.585"
         ],
         "2018-09-25T23:17:46.000+0000"
        ],
        [
         "2955",
         "Antigua and Barbuda",
         [
          "23.7768",
          "-23.4838"
         ],
         "2022-10-11T17:21:06.000+0000"
        ],
        [
         "4357",
         "Bahamas",
         [
          "-75.4909",
          "-179.908"
         ],
         "2020-03-06T09:56:43.000+0000"
        ],
        [
         "3563",
         "Saint Barthelemy",
         [
          "-77.3153",
          "-69.505"
         ],
         "2018-09-05T07:40:01.000+0000"
        ],
        [
         "6558",
         "Guadeloupe",
         [
          "-26.4944",
          "-174.009"
         ],
         "2019-09-08T03:27:31.000+0000"
        ],
        [
         "4256",
         "Afghanistan",
         [
          "-88.5478",
          "-174.971"
         ],
         "2018-10-10T17:57:16.000+0000"
        ],
        [
         "450",
         "Antigua and Barbuda",
         [
          "-81.0108",
          "-165.206"
         ],
         "2018-09-28T05:43:18.000+0000"
        ],
        [
         "3945",
         "Barbados",
         [
          "-66.2816",
          "-142.673"
         ],
         "2022-04-17T02:01:53.000+0000"
        ],
        [
         "859",
         "Romania",
         [
          "89.8261",
          "48.2256"
         ],
         "2020-04-07T19:23:24.000+0000"
        ],
        [
         "1521",
         "Saint Helena",
         [
          "24.5192",
          "64.9674"
         ],
         "2022-10-12T14:03:26.000+0000"
        ],
        [
         "1961",
         "Argentina",
         [
          "-65.3952",
          "-175.249"
         ],
         "2022-07-29T18:16:50.000+0000"
        ],
        [
         "10099",
         "Afghanistan",
         [
          "-89.4261",
          "-171.58"
         ],
         "2020-12-24T13:33:03.000+0000"
        ],
        [
         "6066",
         "Bolivia",
         [
          "-67.7278",
          "-174.505"
         ],
         "2019-03-04T01:04:11.000+0000"
        ],
        [
         "10837",
         "Samoa",
         [
          "86.6387",
          "-26.2408"
         ],
         "2018-09-27T07:12:31.000+0000"
        ],
        [
         "6615",
         "Wallis and Futuna",
         [
          "-25.2428",
          "-32.8992"
         ],
         "2022-01-31T18:53:34.000+0000"
        ],
        [
         "7641",
         "Albania",
         [
          "-87.2",
          "-177.109"
         ],
         "2021-09-28T13:56:50.000+0000"
        ],
        [
         "640",
         "Albania",
         [
          "-87.2",
          "-177.109"
         ],
         "2019-07-12T16:46:03.000+0000"
        ],
        [
         "8174",
         "Burkina Faso",
         [
          "-66.6708",
          "-110.47"
         ],
         "2018-10-20T17:28:23.000+0000"
        ],
        [
         "1216",
         "Albania",
         [
          "-69.8134",
          "-152.834"
         ],
         "2020-07-19T23:57:16.000+0000"
        ],
        [
         "680",
         "Bangladesh",
         [
          "-73.1838",
          "-154.293"
         ],
         "2019-03-29T23:22:56.000+0000"
        ],
        [
         "9527",
         "Turkmenistan",
         [
          "-38.4443",
          "170.601"
         ],
         "2021-11-17T07:50:58.000+0000"
        ],
        [
         "9426",
         "Sao Tome and Principe",
         [
          "-29.8646",
          "-78.1449"
         ],
         "2021-06-30T02:14:47.000+0000"
        ],
        [
         "8745",
         "Tuvalu",
         [
          "31.6701",
          "-59.7391"
         ],
         "2020-10-28T03:45:33.000+0000"
        ],
        [
         "5959",
         "Cyprus",
         [
          "-44.9016",
          "-17.5192"
         ],
         "2020-08-10T01:00:33.000+0000"
        ],
        [
         "2577",
         "Aruba",
         [
          "-71.5025",
          "-179.257"
         ],
         "2019-08-01T05:45:51.000+0000"
        ],
        [
         "3008",
         "Venezuela",
         [
          "0.314337",
          "-58.7666"
         ],
         "2019-07-31T22:36:11.000+0000"
        ],
        [
         "8081",
         "Egypt",
         [
          "-33.8238",
          "-129.18"
         ],
         "2022-03-25T07:42:29.000+0000"
        ],
        [
         "10120",
         "Isle of Man",
         [
          "-55.1562",
          "-122.854"
         ],
         "2022-03-10T07:02:32.000+0000"
        ],
        [
         "4045",
         "American Samoa",
         [
          "-89.3099",
          "-166.033"
         ],
         "2018-03-11T23:01:08.000+0000"
        ],
        [
         "1599",
         "Bolivia",
         [
          "86.0967",
          "111.323"
         ],
         "2019-02-05T14:58:20.000+0000"
        ],
        [
         "2893",
         "Bermuda",
         [
          "-68.5399",
          "-28.38"
         ],
         "2018-03-05T04:33:55.000+0000"
        ],
        [
         "4024",
         "Aruba",
         [
          "-61.471",
          "-154.912"
         ],
         "2019-10-19T10:03:03.000+0000"
        ],
        [
         "310",
         "Antigua and Barbuda",
         [
          "-81.0108",
          "-165.206"
         ],
         "2021-01-25T22:22:37.000+0000"
        ],
        [
         "7905",
         "Namibia",
         [
          "-47.8121",
          "-134.015"
         ],
         "2018-11-13T12:39:43.000+0000"
        ],
        [
         "5488",
         "Finland",
         [
          "-59.6163",
          "-107.324"
         ],
         "2021-03-14T05:55:21.000+0000"
        ],
        [
         "744",
         "New Caledonia",
         [
          "-76.8074",
          "58.7517"
         ],
         "2019-08-28T15:03:13.000+0000"
        ],
        [
         "7801",
         "Afghanistan",
         [
          "-75.9161",
          "-27.6285"
         ],
         "2017-11-18T22:54:58.000+0000"
        ],
        [
         "5620",
         "Faroe Islands",
         [
          "-53.6087",
          "-121.68"
         ],
         "2021-02-18T12:34:44.000+0000"
        ],
        [
         "8341",
         "Somalia",
         [
          "-16.5066",
          "-133.185"
         ],
         "2022-08-08T05:09:50.000+0000"
        ],
        [
         "10022",
         "Benin",
         [
          "70.5626",
          "-89.4526"
         ],
         "2018-12-17T20:26:14.000+0000"
        ],
        [
         "6134",
         "Austria",
         [
          "-68.8136",
          "-128.482"
         ],
         "2022-04-03T12:34:59.000+0000"
        ],
        [
         "3824",
         "British Virgin Islands",
         [
          "-82.4276",
          "-170.019"
         ],
         "2018-10-28T19:22:34.000+0000"
        ],
        [
         "7116",
         "Macao",
         [
          "-18.3686",
          "72.4109"
         ],
         "2019-09-16T18:45:41.000+0000"
        ],
        [
         "74",
         "Antigua and Barbuda",
         [
          "-81.0108",
          "-165.206"
         ],
         "2020-01-29T14:03:35.000+0000"
        ],
        [
         "1335",
         "Antarctica (the territory South of 60 deg S)",
         [
          "-77.9931",
          "-175.682"
         ],
         "2022-03-19T17:29:42.000+0000"
        ],
        [
         "4513",
         "Namibia",
         [
          "22.2314",
          "144.214"
         ],
         "2022-04-11T11:05:13.000+0000"
        ],
        [
         "7850",
         "Vietnam",
         [
          "26.5208",
          "160.699"
         ],
         "2022-04-09T15:06:01.000+0000"
        ],
        [
         "10248",
         "Equatorial Guinea",
         [
          "-31.9615",
          "161.151"
         ],
         "2019-11-03T15:11:00.000+0000"
        ],
        [
         "8123",
         "Morocco",
         [
          "80.2593",
          "-134.292"
         ],
         "2021-08-23T07:31:46.000+0000"
        ],
        [
         "2987",
         "Dominica",
         [
          "83.1466",
          "-169.136"
         ],
         "2019-12-24T22:33:06.000+0000"
        ],
        [
         "1487",
         "Denmark",
         [
          "6.23029",
          "-75.5939"
         ],
         "2021-05-15T18:23:45.000+0000"
        ],
        [
         "10052",
         "Central African Republic",
         [
          "14.7195",
          "-130.921"
         ],
         "2020-01-03T01:10:57.000+0000"
        ],
        [
         "8677",
         "Bouvet Island (Bouvetoya)",
         [
          "-84.3984",
          "-144.933"
         ],
         "2020-02-12T23:24:01.000+0000"
        ],
        [
         "5551",
         "Colombia",
         [
          "-67.8095",
          "63.2758"
         ],
         "2022-03-22T06:04:33.000+0000"
        ],
        [
         "6652",
         "Egypt",
         [
          "-78.2534",
          "-170.668"
         ],
         "2018-11-28T08:21:12.000+0000"
        ],
        [
         "6479",
         "Ireland",
         [
          "47.9142",
          "-98.4756"
         ],
         "2020-10-12T04:13:06.000+0000"
        ],
        [
         "6660",
         "Bouvet Island (Bouvetoya)",
         [
          "-54.5264",
          "73.4883"
         ],
         "2019-02-01T11:00:19.000+0000"
        ],
        [
         "9218",
         "Benin",
         [
          "-70.6524",
          "-171.552"
         ],
         "2020-05-07T21:30:58.000+0000"
        ],
        [
         "4055",
         "Georgia",
         [
          "16.8902",
          "-123.373"
         ],
         "2021-09-23T06:42:16.000+0000"
        ],
        [
         "7370",
         "Saint Pierre and Miquelon",
         [
          "-24.2107",
          "138.463"
         ],
         "2018-04-05T08:02:42.000+0000"
        ],
        [
         "25",
         "Ecuador",
         [
          "-81.3019",
          "63.8961"
         ],
         "2021-12-02T12:40:33.000+0000"
        ],
        [
         "6939",
         "Cuba",
         [
          "-83.907",
          "149.749"
         ],
         "2022-04-06T03:57:03.000+0000"
        ],
        [
         "7383",
         "Ecuador",
         [
          "-55.757",
          "-157.572"
         ],
         "2022-01-28T15:36:36.000+0000"
        ],
        [
         "3240",
         "Angola",
         [
          "-24.2386",
          "-165.309"
         ],
         "2022-06-10T09:36:51.000+0000"
        ],
        [
         "8015",
         "Martinique",
         [
          "52.4977",
          "94.336"
         ],
         "2020-03-13T18:02:39.000+0000"
        ],
        [
         "7745",
         "Algeria",
         [
          "-89.5173",
          "-179.689"
         ],
         "2018-11-01T18:20:28.000+0000"
        ],
        [
         "3360",
         "Anguilla",
         [
          "-89.0609",
          "-170.904"
         ],
         "2019-01-26T07:43:57.000+0000"
        ],
        [
         "6380",
         "Argentina",
         [
          "-57.051",
          "-133.377"
         ],
         "2017-12-21T21:46:23.000+0000"
        ],
        [
         "409",
         "Cameroon",
         [
          "-41.5492",
          "-152.355"
         ],
         "2019-05-28T01:00:22.000+0000"
        ],
        [
         "1814",
         "Bangladesh",
         [
          "-82.3274",
          "-122.209"
         ],
         "2020-04-25T10:16:28.000+0000"
        ],
        [
         "2343",
         "Brazil",
         [
          "60.6981",
          "-79.5945"
         ],
         "2019-10-15T13:21:45.000+0000"
        ],
        [
         "7759",
         "Andorra",
         [
          "-84.7363",
          "-179.087"
         ],
         "2020-06-14T00:42:47.000+0000"
        ],
        [
         "6717",
         "Netherlands",
         [
          "-58.7512",
          "-162.324"
         ],
         "2022-09-07T16:35:00.000+0000"
        ],
        [
         "4862",
         "Czech Republic",
         [
          "-65.3198",
          "-123.45"
         ],
         "2021-07-17T05:01:31.000+0000"
        ],
        [
         "6299",
         "Bangladesh",
         [
          "29.1899",
          "98.5863"
         ],
         "2022-10-05T06:08:34.000+0000"
        ],
        [
         "9425",
         "Macedonia",
         [
          "17.5612",
          "132.851"
         ],
         "2020-07-25T01:35:10.000+0000"
        ],
        [
         "1901",
         "Mali",
         [
          "48.1778",
          "124.806"
         ],
         "2018-08-03T19:57:38.000+0000"
        ],
        [
         "527",
         "Aruba",
         [
          "-75.3",
          "-169.77"
         ],
         "2020-11-15T18:35:20.000+0000"
        ],
        [
         "334",
         "Solomon Islands",
         [
          "-42.0076",
          "32.8769"
         ],
         "2021-11-06T04:13:00.000+0000"
        ],
        [
         "6348",
         "Bangladesh",
         [
          "-76.8013",
          "-28.1091"
         ],
         "2019-07-30T01:45:14.000+0000"
        ],
        [
         "3626",
         "American Samoa",
         [
          "-89.3099",
          "-166.033"
         ],
         "2021-05-31T08:12:00.000+0000"
        ],
        [
         "1857",
         "Libyan Arab Jamahiriya",
         [
          "21.2186",
          "-40.6656"
         ],
         "2018-05-10T13:51:40.000+0000"
        ],
        [
         "3660",
         "French Guiana",
         [
          "-85.2885",
          "6.96501"
         ],
         "2018-10-23T21:26:01.000+0000"
        ],
        [
         "4377",
         "Puerto Rico",
         [
          "-55.7837",
          "2.5347"
         ],
         "2020-07-18T04:12:10.000+0000"
        ],
        [
         "8505",
         "New Zealand",
         [
          "63.1367",
          "-61.1867"
         ],
         "2018-07-13T22:57:41.000+0000"
        ],
        [
         "10087",
         "Cayman Islands",
         [
          "38.7097",
          "-70.0495"
         ],
         "2018-12-10T17:17:32.000+0000"
        ],
        [
         "10050",
         "Malawi",
         [
          "-62.2012",
          "-115.461"
         ],
         "2018-09-23T01:54:04.000+0000"
        ],
        [
         "10917",
         "Solomon Islands",
         [
          "-86.2944",
          "-11.7821"
         ],
         "2019-08-18T13:14:30.000+0000"
        ],
        [
         "5737",
         "Argentina",
         [
          "-80.3487",
          "-178.419"
         ],
         "2020-04-11T11:27:31.000+0000"
        ],
        [
         "4561",
         "Hungary",
         [
          "-63.6785",
          "-29.2943"
         ],
         "2020-04-05T19:38:48.000+0000"
        ],
        [
         "6916",
         "Solomon Islands",
         [
          "-73.9714",
          "-119.315"
         ],
         "2020-04-26T04:12:09.000+0000"
        ],
        [
         "6341",
         "Andorra",
         [
          "-81.6697",
          "-149.084"
         ],
         "2018-05-22T07:07:24.000+0000"
        ],
        [
         "4765",
         "Bhutan",
         [
          "56.1765",
          "-60.3563"
         ],
         "2020-06-09T00:49:44.000+0000"
        ],
        [
         "10425",
         "Bangladesh",
         [
          "-89.4254",
          "-161.818"
         ],
         "2022-03-30T21:28:40.000+0000"
        ],
        [
         "10783",
         "Afghanistan",
         [
          "-71.4881",
          "-117.355"
         ],
         "2020-01-28T00:13:29.000+0000"
        ],
        [
         "6747",
         "Saint Barthelemy",
         [
          "-63.5213",
          "141.538"
         ],
         "2019-04-23T08:01:32.000+0000"
        ],
        [
         "7180",
         "Holy See (Vatican City State)",
         [
          "-22.7118",
          "-167.739"
         ],
         "2018-04-22T21:33:50.000+0000"
        ],
        [
         "8100",
         "Algeria",
         [
          "-89.5173",
          "-179.689"
         ],
         "2019-12-03T15:49:59.000+0000"
        ],
        [
         "4781",
         "Dominica",
         [
          "-72.0263",
          "32.3959"
         ],
         "2019-06-30T13:16:16.000+0000"
        ],
        [
         "1254",
         "Latvia",
         [
          "76.9735",
          "-178.147"
         ],
         "2021-06-08T18:40:59.000+0000"
        ],
        [
         "2011",
         "Guinea",
         [
          "18.6922",
          "-80.0756"
         ],
         "2020-12-14T18:11:42.000+0000"
        ],
        [
         "3436",
         "Belize",
         [
          "-35.194",
          "-115.253"
         ],
         "2022-05-31T23:26:11.000+0000"
        ],
        [
         "4424",
         "Afghanistan",
         [
          "-85.7989",
          "-150.644"
         ],
         "2021-05-18T02:48:52.000+0000"
        ],
        [
         "649",
         "Sudan",
         [
          "-80.7952",
          "-22.2518"
         ],
         "2020-10-06T14:24:08.000+0000"
        ],
        [
         "8645",
         "Armenia",
         [
          "-69.636",
          "-166.432"
         ],
         "2022-06-22T09:32:17.000+0000"
        ],
        [
         "5647",
         "Germany",
         [
          "-82.2521",
          "-110.013"
         ],
         "2021-05-11T20:20:59.000+0000"
        ],
        [
         "5704",
         "Indonesia",
         [
          "-85.9781",
          "-172.038"
         ],
         "2019-12-31T11:38:29.000+0000"
        ],
        [
         "10734",
         "Aruba",
         [
          "-51.2174",
          "-166.894"
         ],
         "2021-08-29T21:27:53.000+0000"
        ],
        [
         "4027",
         "Barbados",
         [
          "-69.7124",
          "-165.207"
         ],
         "2019-01-23T20:53:22.000+0000"
        ],
        [
         "8488",
         "Argentina",
         [
          "-89.4739",
          "-176.154"
         ],
         "2017-12-20T03:09:10.000+0000"
        ],
        [
         "5166",
         "Austria",
         [
          "-26.0588",
          "-72.2696"
         ],
         "2020-01-16T09:56:50.000+0000"
        ],
        [
         "5130",
         "Grenada",
         [
          "-86.6858",
          "-160.5"
         ],
         "2020-10-24T23:43:15.000+0000"
        ],
        [
         "1675",
         "Estonia",
         [
          "13.8054",
          "13.0336"
         ],
         "2022-06-15T03:39:59.000+0000"
        ],
        [
         "10931",
         "Armenia",
         [
          "-82.9685",
          "-178.095"
         ],
         "2021-03-20T06:14:31.000+0000"
        ],
        [
         "7240",
         "Albania",
         [
          "-89.9787",
          "-173.293"
         ],
         "2022-05-31T21:23:46.000+0000"
        ],
        [
         "3831",
         "Afghanistan",
         [
          "-88.5478",
          "-174.971"
         ],
         "2018-07-22T21:46:59.000+0000"
        ],
        [
         "5527",
         "Cote d'Ivoire",
         [
          "-74.0172",
          "-109.979"
         ],
         "2022-06-03T09:49:02.000+0000"
        ]
       ],
       "datasetInfos": [],
       "dbfsResultPath": null,
       "isJsonSchema": true,
       "metadata": {
        "isDbfsCommandResult": false
       },
       "overflow": false,
       "plotOptions": {
        "customPlotOptions": {},
        "displayType": "table",
        "pivotAggregation": null,
        "pivotColumns": null,
        "xColumns": null,
        "yColumns": null
       },
       "removedWidgets": [],
       "schema": [
        {
         "metadata": "{}",
         "name": "ind",
         "type": "\"string\""
        },
        {
         "metadata": "{}",
         "name": "country",
         "type": "\"string\""
        },
        {
         "metadata": "{}",
         "name": "coordinates",
         "type": "{\"type\":\"array\",\"elementType\":\"string\",\"containsNull\":true}"
        },
        {
         "metadata": "{}",
         "name": "timestamp",
         "type": "\"timestamp\""
        }
       ],
       "type": "table"
      }
     },
     "output_type": "display_data"
    }
   ],
   "source": [
    "from pyspark.sql import *\n",
    "from pyspark.sql.types import *\n",
    "\n",
    "spark.sql(\"TRUNCATE TABLE default.12ffc5aba733_geo_table\")\n",
    "\n",
    "df_geo = spark \\\n",
    ".readStream \\\n",
    ".format('kinesis') \\\n",
    ".option('streamName','streaming-12ffc5aba733-geo') \\\n",
    ".option('initialPosition','latest') \\\n",
    ".option('region','us-east-1') \\\n",
    ".option('awsAccessKey', ACCESS_KEY) \\\n",
    ".option('awsSecretKey', SECRET_KEY) \\\n",
    ".load()\n",
    "df_geo  = df_geo.selectExpr(\"CAST(data as STRING)\")\n",
    "\n",
    "\n",
    "schema_geo = StructType([\n",
    "    StructField(\"ind\", StringType(), True),\n",
    "    StructField(\"timestamp\", StringType(), True),\n",
    "    StructField(\"latitude\", StringType(), True),\n",
    "    StructField(\"longitude\", StringType(), True),\n",
    "    StructField(\"country\", StringType(), True),\n",
    "])\n",
    "\n",
    "df_geo = df_geo.withColumn(\"jsonData\", from_json(col(\"data\").cast(\"string\"), schema_geo))\n",
    "\n",
    "df_geo_kinesis = df_geo.select(\n",
    "    col(\"jsonData.ind\").alias(\"ind\"),\n",
    "    col(\"jsonData.timestamp\").alias(\"timestamp\"),\n",
    "    col(\"jsonData.latitude\").alias(\"latitude\"),\n",
    "    col(\"jsonData.longitude\").alias(\"longitude\"),\n",
    "    col(\"jsonData.country\").alias(\"country\"),\n",
    ")\n",
    "\n",
    "df_geo_cleaned = df_geo_kinesis.withColumn(\"coordinates\", array(col(\"latitude\"), col(\"longitude\")))\n",
    "# Drop the columns from the DataFrame.\n",
    "df_geo_cleaned = df_geo_cleaned.drop(\"latitude\").drop(\"longitude\")\n",
    "\n",
    "# Convert the column from a string to a timestamp data type.\n",
    "df_geo_cleaned = df_geo_cleaned.withColumn(\"timestamp\", col(\"timestamp\").cast(TimestampType()))\n",
    "\n",
    "# Reorder the DataFrame columns \n",
    "df_geo_cleaned = df_geo_cleaned.select(\"ind\", \"country\", \"coordinates\", \"timestamp\")\n",
    "\n",
    "display(df_geo_cleaned)\n",
    "\n",
    "# Write the streaming data to a file sink\n",
    "df_geo_cleaned.writeStream \\\n",
    "  .format(\"delta\") \\\n",
    "  .outputMode(\"append\") \\\n",
    "  .option(\"checkpointLocation\", \"/tmp/kinesis/_checkpoints/\") \\\n",
    "  .table(\"12ffc5aba733_geo_table\")\n"
   ]
  },
  {
   "cell_type": "code",
   "execution_count": 0,
   "metadata": {
    "application/vnd.databricks.v1+cell": {
     "cellMetadata": {
      "byteLimit": 2048000,
      "rowLimit": 10000
     },
     "inputWidgets": {},
     "nuid": "a61392d4-3bb5-4c36-ba04-81960f55d7d6",
     "showTitle": false,
     "title": ""
    }
   },
   "outputs": [
    {
     "output_type": "display_data",
     "data": {
      "text/html": [
       "<style scoped>\n",
       "  .ansiout {\n",
       "    display: block;\n",
       "    unicode-bidi: embed;\n",
       "    white-space: pre-wrap;\n",
       "    word-wrap: break-word;\n",
       "    word-break: break-all;\n",
       "    font-family: \"Menlo\", \"Monaco\", \"Consolas\", \"Ubuntu Mono\", \"Source Code Pro\", monospace;\n",
       "    font-size: 13px;\n",
       "    color: #555;\n",
       "    margin-left: 4px;\n",
       "    line-height: 19px;\n",
       "  }\n",
       "</style>\n",
       "<div class=\"ansiout\">Out[8]: True</div>"
      ]
     },
     "metadata": {
      "application/vnd.databricks.v1+output": {
       "addedWidgets": {},
       "arguments": {},
       "data": "<div class=\"ansiout\">Out[8]: True</div>",
       "datasetInfos": [],
       "metadata": {},
       "removedWidgets": [],
       "type": "html"
      }
     },
     "output_type": "display_data"
    }
   ],
   "source": [
    "dbutils.fs.rm(\"/tmp/kinesis/_checkpoints/\", True)"
   ]
  }
 ],
 "metadata": {
  "application/vnd.databricks.v1+notebook": {
   "dashboards": [],
   "environmentMetadata": null,
   "language": "python",
   "notebookMetadata": {
    "mostRecentlyExecutedCommandWithImplicitDF": {
     "commandId": 552522677389923,
     "dataframes": [
      "_sqldf"
     ]
    },
    "pythonIndentUnit": 4
   },
   "notebookName": "Untitled Notebook 2024-09-04 18:48:42",
   "widgets": {}
  }
 },
 "nbformat": 4,
 "nbformat_minor": 0
}
